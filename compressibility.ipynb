{
 "cells": [
  {
   "cell_type": "code",
   "execution_count": null,
   "id": "7ff8c105-83b8-4935-9a7e-f4f1916daabe",
   "metadata": {},
   "outputs": [],
   "source": [
    "from postprocessing import *\n",
    "from scipy import special\n",
    "from tqdm import trange, tqdm\n",
    "from multiprocessing import Pool\n",
    "mpl.rcParams['figure.dpi']= 200"
   ]
  },
  {
   "cell_type": "code",
   "execution_count": null,
   "id": "e3f0d6f8-435b-4567-baff-9c9427e33339",
   "metadata": {},
   "outputs": [],
   "source": [
    "density = 20\n",
    "mach = 4\n",
    "jetpower = 40\n",
    "start = '15'"
   ]
  },
  {
   "cell_type": "code",
   "execution_count": null,
   "id": "4918b093-a902-455b-8ed1-b0eb8de72289",
   "metadata": {},
   "outputs": [],
   "source": [
    "simulation_directory_jet = str(f'/n/holylfs05/LABS/hernquist_lab/Users/borodina/2kpc/turb_jet_d{density}_m{mach}/jet{jetpower}_{start}')\n",
    "output_directory_jet = simulation_directory_jet + \"/output/\"\n",
    "figures_directory_jet = simulation_directory_jet + \"/output/figures/\""
   ]
  },
  {
   "cell_type": "code",
   "execution_count": null,
   "id": "fa583bf9-961b-44dd-ad87-03ae2f73b19b",
   "metadata": {},
   "outputs": [],
   "source": [
    "i_file = 20\n",
    "filename = \"snap_%03d.hdf5\" % (i_file)\n",
    "snap_data = h5py.File(output_directory_jet + filename, \"r\")"
   ]
  },
  {
   "cell_type": "code",
   "execution_count": null,
   "id": "94f3230e-cfc1-498c-8b6e-36cc03037b52",
   "metadata": {},
   "outputs": [],
   "source": [
    "x_voronoi = snap_data['PartType0/Coordinates'][:, 0]\n",
    "y_voronoi = snap_data['PartType0/Coordinates'][:, 1]\n",
    "z_voronoi = snap_data['PartType0/Coordinates'][:, 2]\n",
    "\n",
    "v_x_voronoi = snap_data['PartType0/Velocities'][:, 0]\n",
    "v_y_voronoi = snap_data['PartType0/Velocities'][:, 1]\n",
    "v_z_voronoi = snap_data['PartType0/Velocities'][:, 2]"
   ]
  },
  {
   "cell_type": "code",
   "execution_count": null,
   "id": "8ea17a74",
   "metadata": {},
   "outputs": [],
   "source": [
    "# testing values\n",
    "\n",
    "# v_x_voronoi = x_voronoi \n",
    "# v_y_voronoi = y_voronoi * 2\n",
    "# v_z_voronoi = np.ones_like(x_voronoi)"
   ]
  },
  {
   "cell_type": "code",
   "execution_count": null,
   "id": "c696d922-eb04-4ef6-a78e-c7bca4d2eced",
   "metadata": {},
   "outputs": [],
   "source": [
    "x_ = np.linspace(500, 1500, 51)\n",
    "y_ = np.linspace(500, 1500, 51)\n",
    "z_ = np.linspace(500, 1500, 51)\n",
    "\n",
    "dx, dy, dz = np.diff(x_)[0], np.diff(y_)[0], np.diff(z_)[0]\n",
    "\n",
    "# X, Y, Z = np.meshgrid(x_, y_, z_, indexing='ij')"
   ]
  },
  {
   "cell_type": "code",
   "execution_count": null,
   "id": "6f04a45b-5ce6-4c6e-b384-4a495ec0df33",
   "metadata": {},
   "outputs": [],
   "source": [
    "# dVx_dx = np.zeros((len(x_), len(y_), len(z_)))\n",
    "# dVy_dy = np.zeros((len(x_), len(y_), len(z_)))\n",
    "# dVz_dz = np.zeros((len(x_), len(y_), len(z_)))"
   ]
  },
  {
   "cell_type": "code",
   "execution_count": null,
   "id": "4cbda1c5-ab0d-4a77-a9ec-4b65c1bb896c",
   "metadata": {},
   "outputs": [],
   "source": [
    "def d_dx(field, x, y, z, h):\n",
    "    f_right2 = f(x + 2 * h, y, z, field)\n",
    "    f_right1 = f(x + 1 * h, y, z, field)\n",
    "    f_left2  = f(x - 2 * h, y, z, field)\n",
    "    f_left1  = f(x - 1 * h, y, z, field)\n",
    "    df_dx = (- f_right2 + 8 * f_right1 - 8 * f_left1 + f_left2) / 12 / h\n",
    "    return df_dx\n",
    "\n",
    "def d_dy(field, x, y, z, h):\n",
    "    f_right2 = f(x, y + 2 * h, z, field)\n",
    "    f_right1 = f(x, y + 1 * h, z, field)\n",
    "    f_left2  = f(x, y - 2 * h, z, field)\n",
    "    f_left1  = f(x, y - 1 * h, z, field)\n",
    "    df_dy = (- f_right2 + 8 * f_right1 - 8 * f_left1 + f_left2) / 12 / h\n",
    "    return df_dy\n",
    "\n",
    "def d_dz(field, x, y, z, h):\n",
    "    f_right2 = f(x, y, z + 2 * h, field)\n",
    "    f_right1 = f(x, y, z + 1 * h, field)\n",
    "    f_left2  = f(x, y, z - 2 * h, field)\n",
    "    f_left1  = f(x, y, z - 1 * h, field)\n",
    "    df_dz = (- f_right2 + 8 * f_right1 - 8 * f_left1 + f_left2) / 12 / h\n",
    "    return df_dz"
   ]
  },
  {
   "cell_type": "code",
   "execution_count": null,
   "id": "84f14899-1cfe-4571-8efa-8a409d2beb08",
   "metadata": {},
   "outputs": [],
   "source": [
    "def f(x, y, z, field='v_x'):\n",
    "    index = np.argmin((x_voronoi - x) ** 2 + (y_voronoi - y) ** 2 + (z_voronoi - z) ** 2)\n",
    "    if field == 'v_x':\n",
    "        return v_x_voronoi[index]\n",
    "    if field == 'v_y':\n",
    "        return v_y_voronoi[index]\n",
    "    if field == 'v_z':\n",
    "        return v_z_voronoi[index]"
   ]
  },
  {
   "cell_type": "code",
   "execution_count": null,
   "id": "3f0bbffe-235a-47d5-a76a-96d9dcc8dd75",
   "metadata": {},
   "outputs": [],
   "source": [
    "# for x_i in trange(len(x_)):\n",
    "#     for y_i in range(len(y_)):\n",
    "#         for z_i in range(len(z_)):\n",
    "#             dVx_dx[x_i, y_i, z_i] = d_dx('v_x', x_[x_i], y_[y_i], z_[z_i], dx)"
   ]
  },
  {
   "cell_type": "markdown",
   "id": "9971cad6",
   "metadata": {},
   "source": [
    "$$r_{c s}=\\frac{\\left\\langle|\\nabla \\cdot \\vec{v}|^2\\right\\rangle}{\\left\\langle|\\nabla \\cdot \\vec{v}|^2\\right\\rangle+\\left\\langle|\\nabla \\times \\vec{v}|^2\\right\\rangle}$$\n",
    "\n",
    "$$\n",
    "\\nabla \\cdot \\vec{v}=\\frac{\\partial v_x}{\\partial x}+\\frac{\\partial v_y}{\\partial y}+\\frac{\\partial v_z}{\\partial z}\n",
    "$$\n",
    "\n",
    "$$\\nabla \\times \\vec{v}=\\left(\\begin{array}{l}\\frac{\\partial v_z}{\\partial y}-\\frac{\\partial v_y}{\\partial z} \\\\ \\frac{\\partial v_x}{\\partial z}-\\frac{\\partial v_z}{\\partial x} \\\\ \\frac{\\partial v_y}{\\partial x}-\\frac{\\partial v_x}{\\partial y}\\end{array}\\right)$$\n",
    "\n",
    "$$\n",
    "\\frac{\\partial f}{\\partial x}(x)=\\frac{-f(x+2 h)+8 f(x+h)-8 f(x-h)+f(x-2 h)}{12 h}\n",
    "$$"
   ]
  },
  {
   "cell_type": "code",
   "execution_count": null,
   "id": "e558466f",
   "metadata": {},
   "outputs": [],
   "source": [
    "## d/dx\n",
    "def dvx_dx_wrapper(args):\n",
    "    x, y, z, dx = args\n",
    "    return x, y, z, d_dx('v_x', x, y, z, dx)\n",
    "\n",
    "def dvy_dx_wrapper(args):\n",
    "    x, y, z, dx = args\n",
    "    return x, y, z, d_dx('v_y', x, y, z, dx)\n",
    "\n",
    "def dvz_dx_wrapper(args):\n",
    "    x, y, z, dx = args\n",
    "    return x, y, z, d_dx('v_z', x, y, z, dx)\n",
    "\n",
    "\n",
    "## d/dy\n",
    "def dvx_dy_wrapper(args):\n",
    "    x, y, z, dx = args\n",
    "    return x, y, z, d_dy('v_x', x, y, z, dx)\n",
    "\n",
    "def dvy_dy_wrapper(args):\n",
    "    x, y, z, dx = args\n",
    "    return x, y, z, d_dy('v_y', x, y, z, dx)\n",
    "\n",
    "def dvz_dy_wrapper(args):\n",
    "    x, y, z, dx = args\n",
    "    return x, y, z, d_dy('v_z', x, y, z, dx)\n",
    "\n",
    "## d/dz\n",
    "\n",
    "def dvx_dz_wrapper(args):\n",
    "    x, y, z, dx = args\n",
    "    return x, y, z, d_dz('v_x', x, y, z, dx)\n",
    "\n",
    "def dvy_dz_wrapper(args):\n",
    "    x, y, z, dx = args\n",
    "    return x, y, z, d_dz('v_y', x, y, z, dx)\n",
    "\n",
    "def dvz_dz_wrapper(args):\n",
    "    x, y, z, dx = args\n",
    "    return x, y, z, d_dz('v_z', x, y, z, dx)\n",
    "\n",
    "\n",
    "# Create a list of arguments for the d_dx_wrapper function\n",
    "args_list = [(x_[x_i], y_[y_i], z_[z_i], dx) \n",
    "             for x_i in range(len(x_))\n",
    "             for y_i in range(len(y_))\n",
    "             for z_i in range(len(z_))]\n",
    "\n",
    "# Use multiprocessing to parallelize the computation\n",
    "with Pool() as pool:\n",
    "    dvx_dx = np.array(list(tqdm(pool.imap(dvx_dx_wrapper, args_list), total=len(args_list))))\n",
    "    dvy_dx = np.array(list(tqdm(pool.imap(dvy_dx_wrapper, args_list), total=len(args_list))))\n",
    "    dvz_dx = np.array(list(tqdm(pool.imap(dvz_dx_wrapper, args_list), total=len(args_list))))\n",
    "    \n",
    "    dvx_dy = np.array(list(tqdm(pool.imap(dvx_dy_wrapper, args_list), total=len(args_list))))\n",
    "    dvy_dy = np.array(list(tqdm(pool.imap(dvy_dy_wrapper, args_list), total=len(args_list))))\n",
    "    dvz_dy = np.array(list(tqdm(pool.imap(dvz_dy_wrapper, args_list), total=len(args_list))))\n",
    "    \n",
    "    dvx_dz = np.array(list(tqdm(pool.imap(dvx_dz_wrapper, args_list), total=len(args_list))))\n",
    "    dvy_dz = np.array(list(tqdm(pool.imap(dvy_dz_wrapper, args_list), total=len(args_list))))\n",
    "    dvz_dz = np.array(list(tqdm(pool.imap(dvz_dz_wrapper, args_list), total=len(args_list))))"
   ]
  },
  {
   "cell_type": "code",
   "execution_count": null,
   "id": "789cd679",
   "metadata": {},
   "outputs": [],
   "source": [
    "if (np.array(dvx_dx)[:,0] == np.array(dvy_dy)[:,0]).all():\n",
    "    if (np.array(dvx_dx)[:,0] == np.array(dvx_dz)[:,0]).all():\n",
    "        if (np.array(dvy_dx)[:,1] == np.array(dvx_dz)[:,1]).all():\n",
    "            if (np.array(dvx_dx)[:,1] == np.array(dvy_dz)[:,1]).all():\n",
    "                if (np.array(dvz_dx)[:,2] == np.array(dvx_dz)[:,2]).all():\n",
    "                    if (np.array(dvy_dx)[:,2] == np.array(dvy_dz)[:,2]).all():\n",
    "                        div2 = (dvx_dx[:, 3] + dvy_dy[:, 3] + dvz_dz[:, 3]) ** 2\n",
    "                        rot2 = (dvz_dy[:, 3] - dvy_dz[:, 3]) ** 2 + (dvx_dz[:, 3] - dvz_dx[:, 3]) ** 2 + (dvx_dy[:, 3] - dvy_dx[:, 3]) ** 2 \n",
    "                        r_cs = np.mean(div2) / (np.mean(div2) + np.mean(rot2))"
   ]
  },
  {
   "cell_type": "code",
   "execution_count": null,
   "id": "ddd7c6d4",
   "metadata": {},
   "outputs": [],
   "source": [
    "# from time import sleep\n",
    "# from random import random\n",
    "\n",
    "# def task(arg):\n",
    "#     # generate a value between 0 and 1\n",
    "#     value = random()\n",
    "#     # block for a fraction of a second to simulate work\n",
    "#     sleep(value)\n",
    "#     # # report the value to show progress\n",
    "#     print(f'{arg} got {value}', flush=True)\n",
    " \n",
    "# # entry point for the program\n",
    "# if __name__ == '__main__':\n",
    "#     # create the process pool\n",
    "#     with Pool(10) as pool:\n",
    "#         # call the same function with different data in parallel\n",
    "#         pool.map(task, range(20))"
   ]
  },
  {
   "cell_type": "code",
   "execution_count": null,
   "id": "f6043466",
   "metadata": {},
   "outputs": [],
   "source": [
    "r_cs = 0.45"
   ]
  },
  {
   "cell_type": "code",
   "execution_count": null,
   "id": "e6f21f0e",
   "metadata": {},
   "outputs": [],
   "source": [
    "np.savetxt(f'{output_directory_jet}/compressibility_{i_file}.txt', [r_cs])"
   ]
  },
  {
   "cell_type": "code",
   "execution_count": null,
   "id": "9dd1b20d",
   "metadata": {},
   "outputs": [],
   "source": [
    "with open(f'{output_directory_jet}/compressibility_{i_file}.txt', 'rb') as f:\n",
    "    a = np.loadtxt(f)"
   ]
  },
  {
   "cell_type": "code",
   "execution_count": null,
   "id": "8f92adf4",
   "metadata": {},
   "outputs": [],
   "source": [
    "a"
   ]
  },
  {
   "cell_type": "code",
   "execution_count": null,
   "id": "566fb0c7",
   "metadata": {},
   "outputs": [],
   "source": [
    "jet_rc  = np.array([[15.1025,  2.676619905274570388e-01], [15.7031, 2.190456090752272156e-01], [17.71, 1.177561085786484607e-01]])\n",
    "turb_rc = np.array([[15.1025, 2.676619905274570388e-01], [15.7031, 2.579235102134883051e-01], [17.71, 2.750051801978366517e-01]])"
   ]
  },
  {
   "cell_type": "code",
   "execution_count": null,
   "id": "e4038f9d",
   "metadata": {},
   "outputs": [],
   "source": [
    "plt.plot(jet_rc.T[0] * unit_time_in_megayr, jet_rc.T[1], marker='o', label=r'jet on $10^{40}$ erg/s')\n",
    "plt.plot(turb_rc.T[0] * unit_time_in_megayr, turb_rc.T[1], marker='o', label='turb box')\n",
    "plt.axvline(15, c='gray', ls='--')\n",
    "plt.ylabel(r'$r_{cs}$')\n",
    "plt.xlabel('time, Myr')\n",
    "plt.legend(loc='lower left')"
   ]
  },
  {
   "cell_type": "code",
   "execution_count": null,
   "id": "e15b642b",
   "metadata": {},
   "outputs": [],
   "source": []
  }
 ],
 "metadata": {
  "kernelspec": {
   "display_name": "Python 3 (ipykernel)",
   "language": "python",
   "name": "python3"
  },
  "language_info": {
   "codemirror_mode": {
    "name": "ipython",
    "version": 3
   },
   "file_extension": ".py",
   "mimetype": "text/x-python",
   "name": "python",
   "nbconvert_exporter": "python",
   "pygments_lexer": "ipython3",
   "version": "3.6.8"
  }
 },
 "nbformat": 4,
 "nbformat_minor": 5
}
