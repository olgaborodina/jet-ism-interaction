{
 "cells": [
  {
   "cell_type": "code",
   "execution_count": null,
   "id": "6ae311e0",
   "metadata": {},
   "outputs": [],
   "source": [
    "from postprocessing import *"
   ]
  },
  {
   "cell_type": "code",
   "execution_count": null,
   "id": "01caf7e5",
   "metadata": {},
   "outputs": [],
   "source": [
    "simulation_directory = str('/n/holyscratch01/hernquist_lab/borodina/turb_drive_cooling/turb')\n",
    "output_directory = simulation_directory+\"/output/\"\n",
    "figures_directory = simulation_directory + \"/output/figures/\""
   ]
  },
  {
   "cell_type": "markdown",
   "id": "72d9e91f",
   "metadata": {},
   "source": [
    "## Mach number"
   ]
  },
  {
   "cell_type": "code",
   "execution_count": null,
   "id": "66cc48df",
   "metadata": {},
   "outputs": [],
   "source": [
    "turb = pd.read_csv(simulation_directory + '/output/turb.txt', sep=' ', names=['t',\n",
    "                                                           'mach',\n",
    "                                                           'etot/mass', \n",
    "                                                           'dudt/mass_drive', \n",
    "                                                           'dudt/mass_diss', \n",
    "                                                           'energyinjected/mass', \n",
    "                                                           'energydissipated/mass'])"
   ]
  },
  {
   "cell_type": "code",
   "execution_count": null,
   "id": "d1c5cd6c",
   "metadata": {},
   "outputs": [],
   "source": [
    "mpl.rcParams['figure.dpi']= 200\n",
    "\n",
    "fig, ax = plt.subplots(figsize=(5,3))\n",
    "ax.plot(turb['t'] * unit_time_in_megayr, turb['mach'])\n",
    "ax.set_xlabel('t [Myr]', fontsize=15)\n",
    "ax.set_ylabel('M', fontsize=15)\n",
    "plt.show()"
   ]
  },
  {
   "cell_type": "markdown",
   "id": "22d71e1d",
   "metadata": {},
   "source": [
    "## density in the center"
   ]
  },
  {
   "cell_type": "code",
   "execution_count": null,
   "id": "96627d94",
   "metadata": {},
   "outputs": [],
   "source": [
    "simulation_directory = str('/n/holyscratch01/hernquist_lab/borodina/turb_drive_cooling_dense/turb')\n",
    "output_directory = simulation_directory+\"/output/\"\n",
    "figures_directory = simulation_directory + \"/output/figures/\""
   ]
  },
  {
   "cell_type": "code",
   "execution_count": null,
   "id": "86f593fe",
   "metadata": {},
   "outputs": [],
   "source": [
    "central_density = []"
   ]
  },
  {
   "cell_type": "code",
   "execution_count": null,
   "id": "d9606665",
   "metadata": {},
   "outputs": [],
   "source": [
    "i_file = -1  # skip snap 0\n",
    "while True:\n",
    "    i_file += 1\n",
    "    filename = \"snap_%03d.hdf5\" % (i_file)\n",
    "    try:\n",
    "        snap_data = h5py.File(output_directory + filename, \"r\")\n",
    "    except:\n",
    "        break\n",
    "    time = get_time_from_snap(snap_data) * unit_time_in_megayr\n",
    "    x, y, z = snap_data['PartType0/Coordinates'][:].T\n",
    "    mask = np.sqrt((x - 500) ** 2 + (y - 500) ** 2 + (z - 500) ** 2) < 100\n",
    "    n = np.mean(snap_data['PartType0/Density'][mask]) * unit_density\n",
    "    central_density.append([time, n])"
   ]
  },
  {
   "cell_type": "code",
   "execution_count": null,
   "id": "616a6c86",
   "metadata": {},
   "outputs": [],
   "source": [
    "central_density = np.array(central_density).T"
   ]
  },
  {
   "cell_type": "code",
   "execution_count": null,
   "id": "81512369",
   "metadata": {},
   "outputs": [],
   "source": [
    "fig, ax = plt.subplots(figsize=(5,3))\n",
    "ax.plot(central_density[0], central_density[1])\n",
    "ax.scatter(central_density[0][12], central_density[1][12],c='red', zorder=100)\n",
    "ax.scatter(central_density[0][20], central_density[1][20],c='red', zorder=100)\n",
    "ax.scatter(central_density[0][28], central_density[1][28],c='red', zorder=100)\n",
    "ax.set_xlabel('t [Myr]', fontsize=12)\n",
    "ax.set_ylabel('mean density inside 100pc [g cm$^{-3}$]', fontsize=10)\n",
    "plt.show()"
   ]
  },
  {
   "cell_type": "code",
   "execution_count": null,
   "id": "f4ee3ec4",
   "metadata": {},
   "outputs": [],
   "source": []
  }
 ],
 "metadata": {
  "kernelspec": {
   "display_name": "Python 3",
   "language": "python",
   "name": "python3"
  },
  "language_info": {
   "codemirror_mode": {
    "name": "ipython",
    "version": 3
   },
   "file_extension": ".py",
   "mimetype": "text/x-python",
   "name": "python",
   "nbconvert_exporter": "python",
   "pygments_lexer": "ipython3",
   "version": "3.6.8"
  }
 },
 "nbformat": 4,
 "nbformat_minor": 5
}
