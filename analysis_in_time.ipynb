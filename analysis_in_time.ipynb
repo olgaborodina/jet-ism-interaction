{
 "cells": [
  {
   "cell_type": "markdown",
   "id": "7b7c4768",
   "metadata": {},
   "source": [
    "this notebook is used to calculate evolution of densities (central/column density) and Mach number"
   ]
  },
  {
   "cell_type": "code",
   "execution_count": null,
   "id": "6ae311e0",
   "metadata": {},
   "outputs": [],
   "source": [
    "from postprocessing import *\n",
    "from scipy.spatial import KDTree\n",
    "from scipy.integrate import trapz"
   ]
  },
  {
   "cell_type": "code",
   "execution_count": null,
   "id": "72dc802e",
   "metadata": {},
   "outputs": [],
   "source": [
    "mpl.rcParams['figure.dpi']= 200"
   ]
  },
  {
   "cell_type": "markdown",
   "id": "22d71e1d",
   "metadata": {},
   "source": [
    "## density in the center"
   ]
  },
  {
   "cell_type": "code",
   "execution_count": null,
   "id": "96627d94",
   "metadata": {},
   "outputs": [],
   "source": [
    "simulation_directory = str('/n/holystore01/LABS/hernquist_lab/Users/borodina/turb_drive_center_d100_m12/turb')\n",
    "output_directory = simulation_directory+\"/output/\"\n",
    "figures_directory = simulation_directory + \"/output/figures/\""
   ]
  },
  {
   "cell_type": "code",
   "execution_count": null,
   "id": "86f593fe",
   "metadata": {},
   "outputs": [],
   "source": [
    "central_density_max = []\n",
    "central_density_mean = []"
   ]
  },
  {
   "cell_type": "code",
   "execution_count": null,
   "id": "d9606665",
   "metadata": {},
   "outputs": [],
   "source": [
    "i_file = -1  # skip snap 0\n",
    "while True:\n",
    "    i_file += 1\n",
    "    filename = \"snap_%03d.hdf5\" % (i_file)\n",
    "    try:\n",
    "        snap_data = h5py.File(output_directory + filename, \"r\")\n",
    "    except:\n",
    "        break\n",
    "    time = get_time_from_snap(snap_data) * unit_time_in_megayr\n",
    "    x, y, z = snap_data['PartType0/Coordinates'][:].T\n",
    "    mask = ((np.sqrt((x - 450) ** 2 + (y - 500) ** 2 + (z - 500) ** 2) < 50))\n",
    "    n_max = np.max(snap_data['PartType0/Density'][mask]) * rho_to_numdensity\n",
    "    n_mean = np.mean(snap_data['PartType0/Density'][mask]) * rho_to_numdensity \n",
    "    central_density_max.append([time, n_max])\n",
    "    central_density_mean.append([time, n_mean])"
   ]
  },
  {
   "cell_type": "code",
   "execution_count": null,
   "id": "616a6c86",
   "metadata": {},
   "outputs": [],
   "source": [
    "central_density_max = np.array(central_density_max).T\n",
    "central_density_mean = np.array(central_density_mean).T"
   ]
  },
  {
   "cell_type": "code",
   "execution_count": null,
   "id": "81512369",
   "metadata": {},
   "outputs": [],
   "source": [
    "fig, ax = plt.subplots(figsize=(5,3))\n",
    "ax.plot(central_density_mean[0], central_density_mean[1])\n",
    "# ax.scatter(central_density_mean[0][12], central_density_mean[1][12],c='red', zorder=100)\n",
    "# ax.scatter(central_density_mean[0][20], central_density_mean[1][20],c='red', zorder=100)\n",
    "# ax.scatter(central_density_mean[0][28], central_density_mean[1][28],c='red', zorder=100)\n",
    "ax.set_xlabel('t [Myr]', fontsize=12)\n",
    "ax.set_ylabel('mean density inside lobes [cm$^{-3}$]', fontsize=10)\n",
    "plt.show()"
   ]
  },
  {
   "cell_type": "markdown",
   "id": "0c6dc4c4",
   "metadata": {},
   "source": [
    "## column density"
   ]
  },
  {
   "cell_type": "code",
   "execution_count": null,
   "id": "617fc6f7",
   "metadata": {},
   "outputs": [],
   "source": [
    "simulation_directory = str('/n/holystore01/LABS/hernquist_lab/Users/borodina/turb_drive_center_d100_m12/turb')\n",
    "output_directory = simulation_directory+\"/output/\"\n",
    "figures_directory = simulation_directory + \"/output/figures/\""
   ]
  },
  {
   "cell_type": "code",
   "execution_count": null,
   "id": "b76f371b",
   "metadata": {},
   "outputs": [],
   "source": [
    "center = 500\n",
    "length = 200\n",
    "x_grid_right = np.linspace(center, center + length, 501)\n",
    "x_grid_left = np.linspace(center - length, center, 501)\n",
    "y_grid = np.zeros_like(x_grid_right)\n",
    "z_grid = np.zeros_like(x_grid_right)\n",
    "column_density_right = []\n",
    "column_density_left = []"
   ]
  },
  {
   "cell_type": "code",
   "execution_count": null,
   "id": "8b57853e",
   "metadata": {},
   "outputs": [],
   "source": [
    "i_file = -1  # skip snap 0\n",
    "while True:\n",
    "    i_file += 1\n",
    "    print(i_file)\n",
    "    filename = \"snap_%03d.hdf5\" % (i_file)\n",
    "    try:\n",
    "        snap_data = h5py.File(output_directory + filename, \"r\")\n",
    "    except:\n",
    "        break\n",
    "    time = get_time_from_snap(snap_data) * unit_time_in_megayr\n",
    "    tree = KDTree(snap_data['PartType0/Coordinates'][:])\n",
    "    \n",
    "    r, indeces = tree.query(np.array([x_grid_left, y_grid, z_grid]).T)\n",
    "    densities = []\n",
    "    for i in indeces:\n",
    "        densities.append(snap_data['PartType0/Density'][i] * rho_to_numdensity)\n",
    "    column_density_left.append([time, trapz(y=densities, x=x_grid_left)])\n",
    "    \n",
    "    r, indeces = tree.query(np.array([x_grid_right, y_grid, z_grid]).T)\n",
    "    densities = []\n",
    "    for i in indeces:\n",
    "        densities.append(snap_data['PartType0/Density'][i] * rho_to_numdensity)\n",
    "    column_density_right.append([time, trapz(y=densities, x=x_grid_right)])"
   ]
  },
  {
   "cell_type": "code",
   "execution_count": null,
   "id": "f644aeb9",
   "metadata": {},
   "outputs": [],
   "source": [
    "column_density_left = np.array(column_density_left).T\n",
    "column_density_right = np.array(column_density_right).T"
   ]
  },
  {
   "cell_type": "code",
   "execution_count": null,
   "id": "e51ee529",
   "metadata": {},
   "outputs": [],
   "source": [
    "fig, ax = plt.subplots(figsize=(5,3))\n",
    "ax.plot(column_density_left[0], column_density_left[1], label='to the left')\n",
    "ax.plot(column_density_right[0], column_density_right[1], label='to the right')\n",
    "# ax.axvline(column_density_left[0][12],c='tab:red', zorder=100)\n",
    "# ax.axvline(column_density_left[0][20],c='tab:red', zorder=100)\n",
    "# ax.axvline(column_density_left[0][28],c='tab:red', zorder=100)\n",
    "ax.set_xlabel('t [Myr]', fontsize=12)\n",
    "ax.set_ylabel('column density [cm$^{-2}$]', fontsize=10)\n",
    "plt.legend()\n",
    "plt.show()"
   ]
  },
  {
   "cell_type": "markdown",
   "id": "72d9e91f",
   "metadata": {},
   "source": [
    "## Mach number"
   ]
  },
  {
   "cell_type": "code",
   "execution_count": null,
   "id": "01caf7e5",
   "metadata": {},
   "outputs": [],
   "source": [
    "simulation_directory = str('/n/holystore01/LABS/hernquist_lab/Users/borodina/turb_drive_center_d10_m8/turb_2')\n",
    "output_directory = simulation_directory+\"/output/\"\n",
    "figures_directory = simulation_directory + \"/output/figures/\""
   ]
  },
  {
   "cell_type": "code",
   "execution_count": null,
   "id": "66cc48df",
   "metadata": {},
   "outputs": [],
   "source": [
    "turb = pd.read_csv(simulation_directory + '/output/turb.txt', sep=' ', names=['t',\n",
    "                                                           'mach',\n",
    "                                                           'etot/mass', \n",
    "                                                           'dudt/mass_drive', \n",
    "                                                           'dudt/mass_diss', \n",
    "                                                           'energyinjected/mass', \n",
    "                                                           'energydissipated/mass'])"
   ]
  },
  {
   "cell_type": "code",
   "execution_count": null,
   "id": "f4ee3ec4",
   "metadata": {},
   "outputs": [],
   "source": [
    "n_early = abs(turb['t'] - central_density_mean[0][4]).argmin()\n",
    "n_mid = abs(turb['t'] - central_density_mean[0][5]).argmin()\n",
    "n_last = abs(turb['t'] - central_density_mean[0][12]).argmin()"
   ]
  },
  {
   "cell_type": "code",
   "execution_count": null,
   "id": "d1c5cd6c",
   "metadata": {},
   "outputs": [],
   "source": [
    "fig, ax = plt.subplots(figsize=(5,3))\n",
    "ax.scatter(turb['t'] * unit_time_in_megayr, turb['mach'], s=0.01)\n",
    "ax.scatter(turb['t'][n_early] * unit_time_in_megayr, turb['mach'][n_early],c='red', zorder=100)\n",
    "ax.scatter(turb['t'][n_mid] * unit_time_in_megayr, turb['mach'][n_mid],c='red', zorder=100)\n",
    "ax.scatter(turb['t'][n_last] * unit_time_in_megayr, turb['mach'][n_last],c='red', zorder=100)\n",
    "ax.set_xlabel('t [Myr]', fontsize=15)\n",
    "ax.set_ylabel('M', fontsize=15)\n",
    "plt.show()"
   ]
  },
  {
   "cell_type": "code",
   "execution_count": null,
   "id": "6bef088f",
   "metadata": {},
   "outputs": [],
   "source": []
  }
 ],
 "metadata": {
  "kernelspec": {
   "display_name": "Python 3",
   "language": "python",
   "name": "python3"
  },
  "language_info": {
   "codemirror_mode": {
    "name": "ipython",
    "version": 3
   },
   "file_extension": ".py",
   "mimetype": "text/x-python",
   "name": "python",
   "nbconvert_exporter": "python",
   "pygments_lexer": "ipython3",
   "version": "3.6.8"
  }
 },
 "nbformat": 4,
 "nbformat_minor": 5
}
