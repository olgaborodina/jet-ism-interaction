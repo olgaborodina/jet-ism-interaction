{
 "cells": [
  {
   "cell_type": "markdown",
   "id": "afda8e68",
   "metadata": {},
   "source": [
    "this short notebook is used to calculate jet propagation velocity using both theory and calculations!"
   ]
  },
  {
   "cell_type": "code",
   "execution_count": null,
   "id": "63aa98eb",
   "metadata": {},
   "outputs": [],
   "source": [
    "from postprocessi§ng import *"
   ]
  },
  {
   "cell_type": "code",
   "execution_count": null,
   "id": "353f9560",
   "metadata": {},
   "outputs": [],
   "source": [
    "mpl.rcParams['figure.dpi']= 200"
   ]
  },
  {
   "cell_type": "code",
   "execution_count": null,
   "id": "b324fd18",
   "metadata": {},
   "outputs": [],
   "source": [
    "simulation_directory = str('/n/holystore01/LABS/hernquist_lab/Users/borodina/turb_drive_center_d100_m8/jet42_uniform')\n",
    "output_directory = simulation_directory+\"/output/\"\n",
    "figures_directory = simulation_directory + \"/output/figures/\""
   ]
  },
  {
   "cell_type": "markdown",
   "id": "5724e281",
   "metadata": {},
   "source": [
    "$v_h = (1 + (\\rho_e / \\rho_j) ^{1/2})^{-1} v_j$"
   ]
  },
  {
   "cell_type": "code",
   "execution_count": null,
   "id": "15a75a0d",
   "metadata": {},
   "outputs": [],
   "source": [
    "i_file = 17\n",
    "filename = \"snap_%03d.hdf5\" % (i_file)\n",
    "snap_data = h5py.File(output_directory + filename, \"r\")"
   ]
  },
  {
   "cell_type": "code",
   "execution_count": null,
   "id": "b7a88836",
   "metadata": {},
   "outputs": [],
   "source": [
    "v_j = snap_data['PartType0/Velocities'][:].T.max()\n",
    "n_j = snap_data['PartType0/Velocities'][:].T.argmax()"
   ]
  },
  {
   "cell_type": "code",
   "execution_count": null,
   "id": "cd6f20e1",
   "metadata": {},
   "outputs": [],
   "source": [
    "density_j = snap_data['PartType0/Density'][:][n_j]\n",
    "density_e = snap_data['PartType0/Density'][:].mean()"
   ]
  },
  {
   "cell_type": "code",
   "execution_count": null,
   "id": "587abaf1",
   "metadata": {},
   "outputs": [],
   "source": [
    "v_j"
   ]
  },
  {
   "cell_type": "code",
   "execution_count": null,
   "id": "e9820ded",
   "metadata": {},
   "outputs": [],
   "source": [
    "v_h = v_j / (1 + (density_e / density_j) ** 0.5)  # km/s"
   ]
  },
  {
   "cell_type": "code",
   "execution_count": null,
   "id": "f046f9bc",
   "metadata": {},
   "outputs": [],
   "source": [
    "v_h / 3.24078e-14 * 3.1710e-14 "
   ]
  },
  {
   "cell_type": "code",
   "execution_count": null,
   "id": "0c53994d",
   "metadata": {},
   "outputs": [],
   "source": [
    "300 / 2.5"
   ]
  }
 ],
 "metadata": {
  "kernelspec": {
   "display_name": "Python 3 (ipykernel)",
   "language": "python",
   "name": "python3"
  },
  "language_info": {
   "codemirror_mode": {
    "name": "ipython",
    "version": 3
   },
   "file_extension": ".py",
   "mimetype": "text/x-python",
   "name": "python",
   "nbconvert_exporter": "python",
   "pygments_lexer": "ipython3",
   "version": "3.6.8"
  }
 },
 "nbformat": 4,
 "nbformat_minor": 5
}
