{
 "cells": [
  {
   "cell_type": "code",
   "execution_count": null,
   "id": "21ae099d",
   "metadata": {},
   "outputs": [],
   "source": [
    "from postprocessing import *\n",
    "from scipy.optimize import curve_fit"
   ]
  },
  {
   "cell_type": "code",
   "execution_count": null,
   "id": "9f72bfe9",
   "metadata": {},
   "outputs": [],
   "source": [
    "mpl.rcParams['figure.dpi']= 300"
   ]
  },
  {
   "cell_type": "code",
   "execution_count": null,
   "id": "6ab2e40c",
   "metadata": {},
   "outputs": [],
   "source": [
    "simulation_directory = str('/n/holyscratch01/hernquist_lab/borodina/turb_drive_cooling/turb')\n",
    "output_directory = simulation_directory+\"/output/\"\n",
    "figures_directory = simulation_directory + \"/output/figures/\""
   ]
  },
  {
   "cell_type": "code",
   "execution_count": null,
   "id": "cc95d477",
   "metadata": {},
   "outputs": [],
   "source": [
    "def linear(x, a, b):\n",
    "    return a * x + b"
   ]
  },
  {
   "cell_type": "code",
   "execution_count": null,
   "id": "72f6f19e",
   "metadata": {},
   "outputs": [],
   "source": [
    "i_file = 0  # skip snap 0\n",
    "fig, ax = plt.subplots(figsize=(6,4))\n",
    "\n",
    "while True:\n",
    "    i_file += 1\n",
    "    filename = \"powerspec_density_%03d.txt\" % (i_file)\n",
    "\n",
    "    try:\n",
    "        psd = pd.read_csv(output_directory + filename, header=6, sep=' ', names=['k', 'density', 'c3', 'c4'])\n",
    "    except: break\n",
    "        \n",
    "    if (i_file % 3) == 0 :\n",
    "        snapshot = h5py.File(output_directory +  \"snap_%03d.hdf5\" % (i_file),'r')\n",
    "        time = get_time_from_snap(snapshot)\n",
    "        mask = psd['density'] > 0\n",
    "        plt.plot(psd['k'][mask], psd['density'][mask], label=\"t=%.2f Myr\"%(time * unit_time_in_megayr))\n",
    "        ax.set_xscale('log')\n",
    "        ax.set_yscale('log')\n",
    "        mpl.rcParams['figure.dpi']= 300\n",
    "        ax.set_xlabel('K', fontsize=15)\n",
    "        ax.set_ylabel('density', fontsize=15)\n",
    "plt.legend()"
   ]
  },
  {
   "cell_type": "code",
   "execution_count": null,
   "id": "bb9a57c1",
   "metadata": {},
   "outputs": [],
   "source": [
    "i_file = 8\n",
    "filename = \"powerspec_density_%03d.txt\" % (i_file)\n",
    "psd = pd.read_csv(output_directory + filename, header=6, sep=' ', names=['k', 'density', 'c3', 'c4'])\n",
    "\n",
    "log_density = np.log10(psd['density'][mask])\n",
    "log_k = np.log10(psd['k'][mask])"
   ]
  },
  {
   "cell_type": "code",
   "execution_count": null,
   "id": "b72c54d8",
   "metadata": {},
   "outputs": [],
   "source": [
    "popt_turb, pcov = curve_fit(linear, log_k, log_density)"
   ]
  },
  {
   "cell_type": "code",
   "execution_count": null,
   "id": "176de9a1",
   "metadata": {},
   "outputs": [],
   "source": [
    "i_file = 0  # skip snap 0\n",
    "fig, ax = plt.subplots(figsize=(6,4))\n",
    "\n",
    "while True:\n",
    "    i_file += 1\n",
    "    filename = \"powerspec_density_%03d.txt\" % (i_file)\n",
    "\n",
    "    try:\n",
    "        psd = pd.read_csv(output_directory + filename, header=6, sep=' ', names=['k', 'density', 'c3', 'c4'])\n",
    "    except: break\n",
    "        \n",
    "    if (i_file % 3) == 0 :\n",
    "        snapshot = h5py.File(output_directory +  \"snap_%03d.hdf5\" % (i_file),'r')\n",
    "        time = get_time_from_snap(snapshot)\n",
    "        mask = psd['density'] > 0\n",
    "        plt.plot(psd['k'][mask], psd['density'][mask], label=\"t=%.2f Myr\"%(time * unit_time_in_megayr))\n",
    "        ax.set_xscale('log')\n",
    "        ax.set_yscale('log')\n",
    "        mpl.rcParams['figure.dpi']= 300\n",
    "        ax.set_xlabel('K', fontsize=15)\n",
    "        ax.set_ylabel('density', fontsize=15)\n",
    "\n",
    "plt.plot(psd['k'][mask], 10 ** linear(np.log10(psd['k'][mask]), *popt_turb), c='b', \n",
    "         label=f'fit, power={popt_turb[0].round(1)}')\n",
    "plt.legend()"
   ]
  },
  {
   "cell_type": "code",
   "execution_count": null,
   "id": "85a09710",
   "metadata": {},
   "outputs": [],
   "source": [
    "simulation_directory = str('/n/holyscratch01/hernquist_lab/borodina/turb_drive_cooling/jet')\n",
    "output_directory = simulation_directory+\"/output/\"\n",
    "figures_directory = simulation_directory + \"/output/figures/\""
   ]
  },
  {
   "cell_type": "code",
   "execution_count": null,
   "id": "091a37af",
   "metadata": {},
   "outputs": [],
   "source": [
    "i_file = 0  # skip snap 0\n",
    "fig, ax = plt.subplots(figsize=(6,4))\n",
    "\n",
    "while True:\n",
    "    i_file += 1\n",
    "    filename = \"powerspec_density_%03d.txt\" % (i_file)\n",
    "\n",
    "    try:\n",
    "        psd = pd.read_csv(output_directory + filename, header=6, sep=' ', names=['k', 'density', 'c3', 'c4'])\n",
    "    except: break\n",
    "        \n",
    "    if (i_file % 4) == 0 :\n",
    "        \n",
    "        snapshot = h5py.File(output_directory +  \"snap_%03d.hdf5\" % (i_file),'r')\n",
    "        time = get_time_from_snap(snapshot)\n",
    "        mask = psd['density'] > 0\n",
    "        plt.plot(psd['k'][mask], psd['density'][mask], label=\"t=%.2f Myr\"%(time * unit_time_in_megayr))\n",
    "        ax.set_xscale('log')\n",
    "        ax.set_yscale('log')\n",
    "        mpl.rcParams['figure.dpi']= 300\n",
    "        ax.set_xlabel('K', fontsize=15)\n",
    "        ax.set_ylabel('density', fontsize=15)\n",
    "plt.plot(10 ** log_k,10 ** log_density, label=\"before jet\", c='gray')\n",
    "plt.legend()"
   ]
  },
  {
   "cell_type": "markdown",
   "id": "c3930532",
   "metadata": {},
   "source": [
    "## velocity power spectra"
   ]
  },
  {
   "cell_type": "code",
   "execution_count": null,
   "id": "f4f35e8d",
   "metadata": {},
   "outputs": [],
   "source": [
    "turb_directory = str('/n/holyscratch01/hernquist_lab/borodina/turb_drive_cooling/turb/output/')"
   ]
  },
  {
   "cell_type": "code",
   "execution_count": null,
   "id": "064e87cb",
   "metadata": {},
   "outputs": [],
   "source": [
    "psv = pd.read_csv(turb_directory + 'powerspec_vel_009.txt', header=6, sep=' ', names=['k', 'vel', 'c3', 'c4'])\n",
    "mask = psv['vel'] > 0"
   ]
  },
  {
   "cell_type": "code",
   "execution_count": null,
   "id": "3b4ea192",
   "metadata": {},
   "outputs": [],
   "source": [
    "simulation_directory = str('/n/holyscratch01/hernquist_lab/borodina/turb_drive_cooling/jet')\n",
    "output_directory = simulation_directory+\"/output/\"\n",
    "figures_directory = simulation_directory + \"/output/figures/\""
   ]
  },
  {
   "cell_type": "code",
   "execution_count": null,
   "id": "ebf6abed",
   "metadata": {},
   "outputs": [],
   "source": [
    "i_file = 0  # skip snap 0\n",
    "fig, ax = plt.subplots(figsize=(6,4))\n",
    "plt.plot(psv['k'][mask], psv['vel'][mask], label=\"before jet\", c='gray')\n",
    "log_velocity_turb = np.log10(psv['vel'][mask])\n",
    "log_k_turb = np.log10(psv['k'][mask])\n",
    "\n",
    "while True:\n",
    "    i_file += 1\n",
    "    filename = \"powerspec_vel_%03d.txt\" % (i_file)\n",
    "\n",
    "    try:\n",
    "        psv = pd.read_csv(output_directory + filename, header=6, sep=' ', names=['k', 'vel', 'c3', 'c4'])\n",
    "    except: break\n",
    "    if (i_file % 4) == 0 :\n",
    "        snapshot = h5py.File(output_directory +  \"snap_%03d.hdf5\" % (i_file),'r')\n",
    "        time = get_time_from_snap(snapshot)\n",
    "        plt.plot(psv['k'][mask], psv['vel'][mask], label=\"t=%.2f Myr\"%(time * unit_time_in_megayr))\n",
    "        ax.set_xscale('log')\n",
    "        ax.set_yscale('log')\n",
    "        ax.set_xlabel('K', fontsize=15)\n",
    "        ax.set_ylabel('velocity', fontsize=15)\n",
    "ax.axvline(0.08, c='black', lw=0.5)\n",
    "ax.axvline(0.3, c='black', lw=0.5)\n",
    "plt.legend()"
   ]
  },
  {
   "cell_type": "code",
   "execution_count": null,
   "id": "3b33cfa2",
   "metadata": {},
   "outputs": [],
   "source": [
    "popt_turb, pcov = curve_fit(linear, log_k_turb, log_velocity_turb)"
   ]
  },
  {
   "cell_type": "code",
   "execution_count": null,
   "id": "4096fa5c",
   "metadata": {},
   "outputs": [],
   "source": [
    "mask_low_k   = (psv['k'][mask] < 0.08)\n",
    "mask_inter_k = (psv['k'][mask] > 0.08) & (psv['k'][mask] < 0.3)\n",
    "mask_high_k  = (psv['k'][mask] > 0.3)"
   ]
  },
  {
   "cell_type": "code",
   "execution_count": null,
   "id": "27630609",
   "metadata": {},
   "outputs": [],
   "source": [
    "i_file = 8\n",
    "filename = \"powerspec_vel_%03d.txt\" % (i_file)\n",
    "psv = pd.read_csv(output_directory + filename, header=6, sep=' ', names=['k', 'vel', 'c3', 'c4'])\n",
    "\n",
    "log_velocity = np.log10(psv['vel'][mask])\n",
    "log_k = np.log10(psv['k'][mask])"
   ]
  },
  {
   "cell_type": "code",
   "execution_count": null,
   "id": "1811f850",
   "metadata": {},
   "outputs": [],
   "source": [
    "popt_jet_low, pcov = curve_fit(linear, log_k[mask_low_k], log_velocity[mask_low_k])\n",
    "popt_jet_inter, pcov = curve_fit(linear, log_k[mask_inter_k], log_velocity[mask_inter_k])\n",
    "popt_jet_high, pcov = curve_fit(linear, log_k[mask_high_k], log_velocity[mask_high_k])"
   ]
  },
  {
   "cell_type": "code",
   "execution_count": null,
   "id": "e0de7430",
   "metadata": {},
   "outputs": [],
   "source": [
    "i_file = 0  # skip snap 0\n",
    "fig, ax = plt.subplots(figsize=(6,4))\n",
    "psv = pd.read_csv(turb_directory + 'powerspec_vel_009.txt', header=6, sep=' ', names=['k', 'vel', 'c3', 'c4'])\n",
    "plt.plot(psv['k'][mask], psv['vel'][mask], label=\"before jet\", c='gray')\n",
    "while True:\n",
    "    i_file += 1\n",
    "    filename = \"powerspec_vel_%03d.txt\" % (i_file)\n",
    "\n",
    "    try:\n",
    "        psv = pd.read_csv(output_directory + filename, header=6, sep=' ', names=['k', 'vel', 'c3', 'c4'])\n",
    "    except: break\n",
    "    if (i_file % 4) == 0 :\n",
    "        snapshot = h5py.File(output_directory +  \"snap_%03d.hdf5\" % (i_file),'r')\n",
    "        time = get_time_from_snap(snapshot)\n",
    "        plt.plot(psv['k'][mask], psv['vel'][mask], label=\"t=%.2f Myr\"%(time * unit_time_in_megayr))\n",
    "        ax.set_xscale('log')\n",
    "        ax.set_yscale('log')\n",
    "        ax.set_xlabel('K', fontsize=15)\n",
    "        ax.set_ylabel('velocity', fontsize=15)\n",
    "        \n",
    "plt.plot(10 ** log_k[mask_low_k], 10 ** linear(log_k[mask_low_k], *popt_jet_low), c='b', \n",
    "         label=f'fit low k, power={popt_jet_low[0].round(1)}')\n",
    "plt.plot(10 ** log_k[mask_inter_k], 10 ** linear(log_k[mask_inter_k], *popt_jet_inter), c='b', \n",
    "         label=f'fit inter k, power={popt_jet_inter[0].round(1)}')\n",
    "plt.plot(10 ** log_k[mask_high_k], 10 ** linear(log_k[mask_high_k], *popt_jet_high), c='b', \n",
    "         label=f'fit high k, power={popt_jet_high[0].round(1)}')\n",
    "plt.plot(10 ** log_k_turb, 10 ** linear(log_k_turb, *popt_turb), c='black', \n",
    "         label=f'fit before jet, power={popt_turb[0].round(1)}')\n",
    "\n",
    "ax.axvline(0.08, c='black', lw=0.5)\n",
    "ax.axvline(0.3, c='black', lw=0.5)\n",
    "\n",
    "plt.legend(fontsize=8)"
   ]
  },
  {
   "cell_type": "code",
   "execution_count": null,
   "id": "46008e35",
   "metadata": {},
   "outputs": [],
   "source": []
  }
 ],
 "metadata": {
  "kernelspec": {
   "display_name": "Python 3",
   "language": "python",
   "name": "python3"
  },
  "language_info": {
   "codemirror_mode": {
    "name": "ipython",
    "version": 3
   },
   "file_extension": ".py",
   "mimetype": "text/x-python",
   "name": "python",
   "nbconvert_exporter": "python",
   "pygments_lexer": "ipython3",
   "version": "3.6.8"
  }
 },
 "nbformat": 4,
 "nbformat_minor": 5
}
