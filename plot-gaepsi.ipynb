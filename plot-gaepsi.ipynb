{
 "cells": [
  {
   "cell_type": "code",
   "execution_count": null,
   "id": "f922b48a-b5df-4c6f-9008-384344f5c0f6",
   "metadata": {},
   "outputs": [],
   "source": [
    "import glob\n",
    "import os\n",
    "from natsort import natsorted\n",
    "from plotyy import *\n",
    "# from postprocessing import *\n",
    "\n",
    "mpl.rcParams['figure.dpi']= 200"
   ]
  },
  {
   "cell_type": "code",
   "execution_count": null,
   "id": "e2614633-809c-46f2-af64-27b50ff205f4",
   "metadata": {},
   "outputs": [],
   "source": [
    "density = 20\n",
    "mach = 2\n",
    "jetpower = 40\n",
    "start = '25'"
   ]
  },
  {
   "cell_type": "code",
   "execution_count": null,
   "id": "048986e9-2df3-45db-ac38-4ad921d79c1c",
   "metadata": {},
   "outputs": [],
   "source": [
    "simulation_directory_jet = str(f'/n/holylfs05/LABS/hernquist_lab/Users/borodina/2kpc/turb_jet_d{density}_m{mach}/jet{jetpower}_{start}')\n",
    "output_directory_jet = simulation_directory_jet + \"/output/\"\n",
    "figures_directory_jet = simulation_directory_jet + \"/output/figures/\""
   ]
  },
  {
   "cell_type": "code",
   "execution_count": null,
   "id": "cbeb94f7-ba6e-4241-b672-75d071a3757b",
   "metadata": {},
   "outputs": [],
   "source": [
    "i_file = 15\n",
    "filename = \"snap_%03d.hdf5\" % (i_file)"
   ]
  },
  {
   "cell_type": "code",
   "execution_count": null,
   "id": "5bd106c9-311b-4b96-804f-7a6d53724cfc",
   "metadata": {},
   "outputs": [],
   "source": [
    "snap = snapshot(output_directory_jet + filename)"
   ]
  },
  {
   "cell_type": "code",
   "execution_count": null,
   "id": "3c0e53f9-6da4-4441-be5a-cc49cc18f70f",
   "metadata": {},
   "outputs": [],
   "source": [
    "# snapshot = h5py.File(output_directory_jet + filename, \"r\")\n",
    "# snapshot['PartType0']['Machnumber']"
   ]
  },
  {
   "cell_type": "code",
   "execution_count": null,
   "id": "5b848352-4056-43a6-a69f-a3984045ae1b",
   "metadata": {},
   "outputs": [],
   "source": [
    "# params = {\"ytick.color\" : \"w\",\n",
    "#           \"xtick.color\" : \"w\",\n",
    "#           \"axes.labelcolor\" : \"w\",\n",
    "#           \"axes.edgecolor\" : \"w\",\n",
    "#           \"text.color\" : \"w\",\n",
    "#           \"figure.facecolor\" : '2F366E'}\n",
    "# plt.rcParams.update(params)\n",
    "\n",
    "# snap.overlap_temp(lbox=2000, slab_width=100, orientation='xy', show=False)\n",
    "# fig.savefig('temp.png', transparent=True)"
   ]
  },
  {
   "cell_type": "code",
   "execution_count": null,
   "id": "82884992-c4af-4862-ade4-a816db8aa652",
   "metadata": {},
   "outputs": [],
   "source": [
    "# snap.project_field_bowshock(lbox=1000, slab_width=100, orientation='xy', show=False)"
   ]
  },
  {
   "cell_type": "code",
   "execution_count": null,
   "id": "787cd347-8c5c-4262-9e9e-60a093567ec2",
   "metadata": {},
   "outputs": [],
   "source": [
    "# snap.overlap_sigma_velocity(lbox=1000, slab_width=50, orientation='xy', show=False)"
   ]
  },
  {
   "cell_type": "code",
   "execution_count": null,
   "id": "8be33378-6146-4092-ae10-9ba8e2ea32bc",
   "metadata": {},
   "outputs": [],
   "source": [
    "# a = snap.project_field_my(lbox=1000, slab_width=100, orientation='xy', show=True)\n",
    "# a.savefig(figures_directory_jet + f'gaepsi_{100}_{i_file}.png', dpi=300, bbox_inches='tight', transparent=True)"
   ]
  },
  {
   "cell_type": "code",
   "execution_count": null,
   "id": "6c48a1bf-abbb-4e7f-ae02-9dc8450bf508",
   "metadata": {},
   "outputs": [],
   "source": [
    "# params = {\"ytick.color\" : \"w\",\n",
    "#           \"xtick.color\" : \"w\",\n",
    "#           \"axes.labelcolor\" : \"w\",\n",
    "#           \"axes.edgecolor\" : \"w\",\n",
    "#           \"text.color\" : \"w\",\n",
    "#           \"figure.facecolor\" : '2F366E'}\n",
    "# plt.rcParams.update(params)"
   ]
  },
  {
   "cell_type": "code",
   "execution_count": null,
   "id": "90846231-081c-415c-ab19-8e15afcbd1ca",
   "metadata": {},
   "outputs": [],
   "source": [
    "# !mkdir {figures_directory_jet}"
   ]
  },
  {
   "cell_type": "code",
   "execution_count": null,
   "id": "d4336e7f-1468-48f7-8317-b00d5738f2a2",
   "metadata": {},
   "outputs": [],
   "source": [
    "slab_width = 100\n",
    "lbox = 1000"
   ]
  },
  {
   "cell_type": "code",
   "execution_count": null,
   "id": "17b0f61d-b1fe-489b-8d28-9351e7802998",
   "metadata": {},
   "outputs": [],
   "source": [
    "i_file = 15 #skip snap 0\n",
    "slab_width = 100\n",
    "lbox = 1000\n",
    "while True:\n",
    "    i_file += 1\n",
    "    filename = \"snap_%03d.hdf5\" % (i_file)\n",
    "    try:\n",
    "        snap = snapshot(output_directory_jet + filename)\n",
    "    except:\n",
    "        break\n",
    "    figure = snap.project_field_bowshock(lbox=lbox, slab_width=slab_width, orientation='xy', show=False)\n",
    "    figure.savefig(figures_directory_jet + f'gaepsi_{lbox}_{slab_width}_{i_file}.png', dpi=300, bbox_inches='tight', transparent=False)"
   ]
  },
  {
   "cell_type": "code",
   "execution_count": null,
   "id": "4dc21a16-d96d-44dc-9a96-5a3f2a875d3c",
   "metadata": {},
   "outputs": [],
   "source": [
    "from PIL import Image\n",
    "\n",
    "# make gif\n",
    "#--------------------------\n",
    "def crop_img(im):\n",
    "    width, height = im.size\n",
    "    left = 9\n",
    "    top =  3\n",
    "    right = width - 3\n",
    "    bottom = height - 9\n",
    "    im = im.crop((left, top, right, bottom))\n",
    "    return im\n",
    "\n",
    "ifilename = figures_directory_jet + f'/gaepsi_{lbox}_{slab_width}*.png'\n",
    "ofilename = figures_directory_jet + f'/gaepsi_{lbox}_{slab_width}-jet.gif'\n",
    "imgs = natsorted(glob.glob(ifilename))\n",
    "\n",
    "timestep=2\n",
    "\n",
    "frames = []\n",
    "for i in imgs:\n",
    "    new_frame = Image.open(i)\n",
    "    frames.append(crop_img(new_frame))\n",
    "\n",
    "frames[0].save(ofilename, format='GIF',\n",
    "               append_images=frames[1:],\n",
    "               save_all=True,\n",
    "               duration=len(imgs) * timestep, loop=0)"
   ]
  },
  {
   "cell_type": "code",
   "execution_count": null,
   "id": "126eebd5-b35a-4592-9b53-6d99e7ceff81",
   "metadata": {},
   "outputs": [],
   "source": [
    "density = 20\n",
    "mach = 4\n",
    "#start = '15'"
   ]
  },
  {
   "cell_type": "code",
   "execution_count": null,
   "id": "72575d90-cc32-4d76-95f3-515fddb7b02c",
   "metadata": {},
   "outputs": [],
   "source": [
    "simulation_directory_jet = str(f'/n/holylfs05/LABS/hernquist_lab/Users/borodina/2kpc/turb_jet_d{density}_m{mach}/turb')\n",
    "output_directory_jet = simulation_directory_jet + \"/output/\"\n",
    "figures_directory_jet = simulation_directory_jet + \"/output/figures/\""
   ]
  },
  {
   "cell_type": "code",
   "execution_count": null,
   "id": "dda13e73-da62-4200-a6aa-b2aa1706e148",
   "metadata": {},
   "outputs": [],
   "source": [
    "# !mkdir {figures_directory_jet}"
   ]
  },
  {
   "cell_type": "code",
   "execution_count": null,
   "id": "2070dc31-1033-413d-a2eb-7d389fa699eb",
   "metadata": {},
   "outputs": [],
   "source": [
    "snap = snapshot(output_directory_jet + \"snap_%03d.hdf5\" % (12))\n",
    "snap.overlap_temp(lbox=1000, slab_width=100, orientation='xy', showbar=True, show=False)"
   ]
  },
  {
   "cell_type": "code",
   "execution_count": null,
   "id": "7329bbaa-e881-4d5f-bf57-64138685e254",
   "metadata": {},
   "outputs": [],
   "source": [
    "\n",
    "i_file = 8 #skip snap 0\n",
    "slab_width = 100\n",
    "while i_file<100:\n",
    "    i_file += 1\n",
    "    filename = \"snap_%03d.hdf5\" % (i_file)\n",
    "    try:\n",
    "        snap = snapshot(output_directory_jet + filename)\n",
    "    except:\n",
    "        break\n",
    "    figure = snap.overlap_temp(lbox=1000, slab_width=slab_width, orientation='xy', show=False)\n",
    "    figure.savefig(figures_directory_jet + f'gaepsi_{slab_width}_{i_file}.png', dpi=300, bbox_inches='tight', transparent=False)"
   ]
  },
  {
   "cell_type": "code",
   "execution_count": null,
   "id": "733c8359-ccc4-4230-96fd-f3afa92bb7f5",
   "metadata": {},
   "outputs": [],
   "source": [
    "from PIL import Image\n",
    "\n",
    "# make gif\n",
    "#--------------------------\n",
    "def crop_img(im):\n",
    "    width, height = im.size\n",
    "    left = 9\n",
    "    top =  3\n",
    "    right = width - 3\n",
    "    bottom = height - 9\n",
    "    im = im.crop((left, top, right, bottom))\n",
    "    return im\n",
    "\n",
    "ifilename = figures_directory_jet + f'/gaepsi_{slab_width}*.png'\n",
    "ofilename = figures_directory_jet + f'/gaepsi_{slab_width}-turb.gif'\n",
    "imgs = natsorted(glob.glob(ifilename))\n",
    "\n",
    "timestep=2\n",
    "\n",
    "frames = []\n",
    "for i in imgs:\n",
    "    new_frame = Image.open(i)\n",
    "    frames.append(crop_img(new_frame))\n",
    "\n",
    "frames[0].save(ofilename, format='GIF',\n",
    "               append_images=frames[1:],\n",
    "               save_all=True,\n",
    "               duration=len(imgs) * timestep, loop=0)"
   ]
  },
  {
   "cell_type": "code",
   "execution_count": null,
   "id": "f12c4d2f-68e6-4bf7-9ea1-d2d2d11b7501",
   "metadata": {},
   "outputs": [],
   "source": []
  }
 ],
 "metadata": {
  "kernelspec": {
   "display_name": "Python 3 (ipykernel)",
   "language": "python",
   "name": "python3"
  },
  "language_info": {
   "codemirror_mode": {
    "name": "ipython",
    "version": 3
   },
   "file_extension": ".py",
   "mimetype": "text/x-python",
   "name": "python",
   "nbconvert_exporter": "python",
   "pygments_lexer": "ipython3",
   "version": "3.6.8"
  }
 },
 "nbformat": 4,
 "nbformat_minor": 5
}
