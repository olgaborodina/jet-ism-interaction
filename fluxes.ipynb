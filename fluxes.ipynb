{
 "cells": [
  {
   "cell_type": "markdown",
   "id": "37830846",
   "metadata": {},
   "source": [
    "this notebook is used to study mass, momentum, and energy fluxes. code plots mostly the mollview projections of many different kinds of space and temporal evolutions."
   ]
  },
  {
   "cell_type": "code",
   "execution_count": null,
   "id": "4b2b968a",
   "metadata": {},
   "outputs": [],
   "source": [
    "from postprocessing import *\n",
    "import healpy as hp\n",
    "import glob\n",
    "import os\n",
    "from natsort import natsorted"
   ]
  },
  {
   "cell_type": "code",
   "execution_count": null,
   "id": "185ecc01",
   "metadata": {},
   "outputs": [],
   "source": [
    "mpl.rcParams['figure.dpi']= 200"
   ]
  },
  {
   "cell_type": "code",
   "execution_count": null,
   "id": "10801192",
   "metadata": {},
   "outputs": [],
   "source": [
    "def mass_flux(directory, i_file, projection='radial', weights='full'):\n",
    "    \"\"\"\n",
    "    Calculate mass flux for each cell for given snapshot and different projection types.\n",
    "    Input: directory  (a directory where outputs are stored)\n",
    "           i_file     (snapshot number)\n",
    "           projection (projection type, can be 'radial', 'transverse', or 'total')\n",
    "           weights    ('full' if all particles are considered and 'jet-tracer' if only jet's contribution is needed)\n",
    "    \"\"\"\n",
    "    filename = \"snap_%03d.hdf5\" % (i_file)\n",
    "    snap_data = h5py.File(directory + filename, \"r\")\n",
    "    x, y, z = snap_data['PartType0/Coordinates'][:].T\n",
    "    vx, vy, vz = snap_data['PartType0/Velocities'][:].T\n",
    "    v_r = (vx * (x - 500) + vy * (y - 500) + vz * (z - 500)) / np.sqrt(x ** 2 + y ** 2 + z ** 2)\n",
    "    if projection == 'radial':\n",
    "        j = snap_data['PartType0/Density'] * v_r * unit_density * unit_velocity\n",
    "    elif projection == 'transverse':\n",
    "        v_t = np.sqrt(vx ** 2 + vy ** 2 + vz ** 2 - v_r ** 2)\n",
    "        j = snap_data['PartType0/Density'] * v_t * unit_density * unit_velocity\n",
    "    elif projection == 'total':\n",
    "        v = np.sqrt(vx ** 2 + vy ** 2 + vz ** 2)\n",
    "        j = snap_data['PartType0/Density'] * v * unit_density * unit_velocity\n",
    "    else:\n",
    "        raise ValueError(\"Wrong projection type. Expected 'radial', 'transverse', or 'total'. \")\n",
    "        \n",
    "    if weights == 'jet-tracer':\n",
    "        j *= snap_data['PartType0/Jet_Tracer']\n",
    "    return j, x - 500, y - 500, z - 500, get_time_from_snap(snap_data) * unit_time_in_megayr\n",
    "\n",
    "def mass_flux_shell(directory, i_file, projection, radius, dr=20):\n",
    "    \"\"\"\n",
    "    Calculate mass flux for each cell within a certain radius for given snapshot and different projection types.\n",
    "    Input: directory  (a directory where outputs are stored)\n",
    "           i_file     (snapshot number)\n",
    "           projection (projection type, can be 'radial', 'transverse', or 'total')\n",
    "           radius     (at what radius the flux is calculated)\n",
    "           dr         (the shell width around radius)\n",
    "    \"\"\"\n",
    "    j_all, x_all, y_all, z_all, time = mass_flux(directory, i_file, projection=projection)\n",
    "    \n",
    "    radius_range = np.linspace(40, 500, 31)\n",
    "    NSIDE = 31\n",
    "    NPIX = hp.nside2npix(NSIDE)\n",
    "    theta, phi = hp.pix2ang(nside=NSIDE, ipix=np.arange(NPIX)) # return colatitude and longtitude in radian\n",
    "    vec = hp.ang2vec(theta, phi)  # return unit 3D position vector\n",
    "\n",
    "    vec_scaled = vec * radius\n",
    "    mask = ((np.sqrt(x_all ** 2 + y_all ** 2 + z_all ** 2) < radius + dr) & \n",
    "            (np.sqrt(x_all ** 2 + y_all ** 2 + z_all ** 2) > radius - dr))\n",
    "    j, x, y, z = j_all[mask], x_all[mask], y_all[mask], z_all[mask]\n",
    "    j_shell = []\n",
    "\n",
    "    for vector in vec_scaled:\n",
    "        distance = (vector[0] - x) ** 2 + (vector[1] - y) ** 2 + (vector[2] - z) ** 2\n",
    "        j_shell.append(j[distance.argmin()])\n",
    "    return j_shell\n",
    "\n",
    "def total_energy(directory, i_file):\n",
    "    \"\"\"\n",
    "    Calculate energy flux for each cell for given snapshot\n",
    "    Input: directory  (a directory where outputs are stored)\n",
    "           i_file     (snapshot number)\n",
    "    \"\"\"\n",
    "    filename = \"snap_%03d.hdf5\" % (i_file)\n",
    "    snap_data = h5py.File(directory + filename, \"r\")\n",
    "    x, y, z = snap_data['PartType0/Coordinates'][:].T\n",
    "    vx, vy, vz = snap_data['PartType0/Velocities'][:].T\n",
    "    v_square = vx ** 2 + vy ** 2 + vz ** 2\n",
    "    E = snap_data['PartType0/Masses'] * v_square / 2 + snap_data['PartType0/InternalEnergy']\n",
    "    return E, x - 500, y - 500, z - 500, get_time_from_snap(snap_data) * unit_time_in_megayr"
   ]
  },
  {
   "cell_type": "code",
   "execution_count": null,
   "id": "15675c85",
   "metadata": {},
   "outputs": [],
   "source": [
    "density = '30'\n",
    "mach    = '8'\n",
    "jet     = '43'\n",
    "start   = 'early'"
   ]
  },
  {
   "cell_type": "code",
   "execution_count": null,
   "id": "90fd764f",
   "metadata": {},
   "outputs": [],
   "source": [
    "simulation_directory = str(f'/n/holystore01/LABS/hernquist_lab/Users/borodina/turb_drive_center_d{density}_m{mach}/jet{jet}_{start}')\n",
    "#simulation_directory = str(f'/n/holystore01/LABS/hernquist_lab/Users/borodina/turb_drive_center_d{density}_m{mach}/turb')\n",
    "\n",
    "output_directory = simulation_directory + \"/output/\"\n",
    "figures_directory = simulation_directory + \"/output/figures/\"\n"
   ]
  },
  {
   "cell_type": "markdown",
   "id": "802d2ec9",
   "metadata": {},
   "source": [
    "## mass flux propogation in r\n",
    "\n",
    "$j = \\rho \\cdot v_r $"
   ]
  },
  {
   "cell_type": "code",
   "execution_count": null,
   "id": "85d5e36d",
   "metadata": {},
   "outputs": [],
   "source": [
    "i_file = 5\n",
    "projection = 'radial'\n",
    "\n",
    "j_all, x_all, y_all, z_all, time = mass_flux(output_directory, i_file, proj=projection)"
   ]
  },
  {
   "cell_type": "code",
   "execution_count": null,
   "id": "70a972b6",
   "metadata": {},
   "outputs": [],
   "source": [
    "radius_range = np.linspace(40, 500, 31)\n",
    "NSIDE = 31\n",
    "NPIX = hp.nside2npix(NSIDE)\n",
    "theta, phi = hp.pix2ang(nside=NSIDE, ipix=np.arange(NPIX)) # return colatitude and longtitude in radian\n",
    "vec = hp.ang2vec(theta,phi)  # return unit 3D position vector"
   ]
  },
  {
   "cell_type": "code",
   "execution_count": null,
   "id": "0894d0c7",
   "metadata": {},
   "outputs": [],
   "source": [
    "for radius in radius_range:\n",
    "    print(radius)\n",
    "    vec_scaled = vec * radius\n",
    "    temperatures = get_temp(output_directory + \"snap_%03d.hdf5\" % (i_file), 5/3)\n",
    "    mask = ((np.sqrt(x_all ** 2 + y_all ** 2 + z_all ** 2) < radius + 20) & \n",
    "            (np.sqrt(x_all ** 2 + y_all ** 2 + z_all ** 2) > radius - 20) &\n",
    "            (temperatures > 10 ** 4.5))\n",
    "    j, x, y, z = j_all[mask], x_all[mask], y_all[mask], z_all[mask]\n",
    "    j_shell = []\n",
    "\n",
    "    for vector in vec_scaled:\n",
    "        distance = (vector[0] - x) ** 2 + (vector[1] - y) ** 2 + (vector[2] - z) ** 2\n",
    "        try: \n",
    "            j_shell.append(j[distance.argmin()])\n",
    "        except: j_shell.append(np.nan)\n",
    "    \n",
    "    if projection == 'radial':\n",
    "        hp.mollview(np.array(j_shell), title=fr\"Mass flux in $r \\in$ [{np.round(radius,0) - 20}; {np.round(radius,0) + 20}] pc\", \n",
    "        min=-1e-16, max=1e-16, unit=r\"mass flux [g cm$^{-2}$ s$^{-1}$]\", cmap='coolwarm', rot=(90,0,0))\n",
    "    else:\n",
    "        hp.mollview(np.array(j_shell), title=fr\"Mass flux in $r \\in$ [{np.round(radius,0) - 20}; {np.round(radius,0) + 20}] pc\", \n",
    "            min=1e-17, max=5e-14, unit=\"mass flux in [g cm$^{-2}$ s$^{-1}$]\", norm='log', cmap='magma', rot=(90,0,0))\n",
    "        \n",
    "    hp.projscatter((np.pi/2, 0), s=30, c='red')\n",
    "    hp.projscatter((np.pi/2, np.pi), s=30, c='blue')\n",
    "    \n",
    "    hp.graticule()\n",
    "    plt.savefig(figures_directory + f'massflux_mollview_{projection}_hot_{i_file}_{np.round(radius, 0)}.png', dpi=300, bbox_inches='tight')\n",
    "    plt.close()"
   ]
  },
  {
   "cell_type": "code",
   "execution_count": null,
   "id": "6d305d1c",
   "metadata": {},
   "outputs": [],
   "source": [
    "from PIL import Image\n",
    "\n",
    "# make gif\n",
    "#--------------------------\n",
    "def crop_img(im):\n",
    "    width, height = im.size\n",
    "    left = 9\n",
    "    top =  3\n",
    "    right = width - 3\n",
    "    bottom = height - 9\n",
    "    im = im.crop((left, top, right, bottom))\n",
    "    return im\n",
    "\n",
    "ifilename = figures_directory + f'/massflux_mollview_{projection}_hot_{i_file}_*.png'\n",
    "ofilename = figures_directory + f'/massflux_mollview_{projection}_hot_{i_file}-jet.gif'\n",
    "imgs = natsorted(glob.glob(ifilename))\n",
    "\n",
    "frames = []\n",
    "for i in imgs:\n",
    "    new_frame = Image.open(i)\n",
    "    frames.append(crop_img(new_frame))\n",
    "\n",
    "frames[0].save(ofilename, format='GIF',\n",
    "               append_images=frames[1:],\n",
    "               save_all=True,\n",
    "               duration=160, loop=0)"
   ]
  },
  {
   "cell_type": "markdown",
   "id": "61f5680f",
   "metadata": {},
   "source": [
    "## mass flux propogation in t"
   ]
  },
  {
   "cell_type": "code",
   "execution_count": null,
   "id": "8eefd459",
   "metadata": {},
   "outputs": [],
   "source": [
    "radius = 400"
   ]
  },
  {
   "cell_type": "code",
   "execution_count": null,
   "id": "c0442ed1",
   "metadata": {},
   "outputs": [],
   "source": [
    "\n",
    "for i_file in range(15):\n",
    "    j_r   = mass_flux_shell(output_directory, i_file, 'radial', radius)\n",
    "    j_t   = mass_flux_shell(output_directory, i_file, 'transverse', radius)\n",
    "    j_tot = mass_flux_shell(output_directory, i_file, 'total', radius)\n",
    "    \n",
    "    fig, ax = plt.subplots(2, 2, figsize=(11, 6.1))\n",
    "\n",
    "    fig.tight_layout(w_pad=7.0, h_pad=3.0)\n",
    "\n",
    "    fig.suptitle(fr\"Mass flux in $r \\in$ [{np.round(radius,0) - 20}; {np.round(radius,0) + 20}] pc\", \n",
    "                 y=1.05, fontsize=15)\n",
    "\n",
    "\n",
    "    plt.axes(ax[0][0])\n",
    "    hp.mollview(np.array(j_r), title=fr\"$j_r$\", rot=(90,0,0),\n",
    "            min=-5e2, max=5e2, unit=r\"mass flux $\\left[\\frac{M_\\odot km}{pc^3 s}\\right]$\",\n",
    "                cmap='coolwarm', hold=True)\n",
    "\n",
    "    plt.axes(ax[0][1])\n",
    "    hp.mollview(np.array(j_t), title=fr\"$j_t$\", rot=(90,0,0),\n",
    "            min=0, max=7e2,  unit=r\"mass flux $\\left[\\frac{M_\\odot km}{pc^3 s}\\right]$\",\n",
    "                cmap='Reds', hold=True)\n",
    "\n",
    "    plt.axes(ax[1][0])\n",
    "    hp.mollview(np.array(j_tot), title=r\"$j_{tot}$\", rot=(90,0,0),\n",
    "            min=0, max=7e2, unit=r\"mass flux $\\left[\\frac{M_\\odot km}{pc^3 s}\\right]$\",\n",
    "                cmap='Reds', hold=True)\n",
    "\n",
    "    plt.axes(ax[1][1])\n",
    "    hp.mollview(np.array(np.array(np.abs(j_r)) / (np.array(j_t) + 1e-5)), title=fr\"$|j_r| \\ / \\ j_t$\", rot=(90,0,0),\n",
    "            min=0, max=1, unit=r\"mass flux $\\left[\\frac{M_\\odot km}{pc^3 s}\\right]$\", \n",
    "                cmap='Reds', hold=True)\n",
    "\n",
    "    hp.projscatter((np.pi/2, 0), s=30, c='red')\n",
    "    hp.projscatter((np.pi/2, np.pi), s=30, c='blue')\n",
    "    \n",
    "    f = plt.gcf().get_children()\n",
    "\n",
    "    for i in [2, 4, 6, 8]:\n",
    "        CbAx = f[i]\n",
    "\n",
    "        unit_text_obj = CbAx.get_children()[1]\n",
    "        unit_text_obj.set_fontsize(12)\n",
    "        unit_text_obj.set_position((0.5, -2.2))\n",
    "\n",
    "    hp.graticule()\n",
    "\n",
    "    plt.savefig(figures_directory + f'massflux_mollview_allprojections_{i_file}_{np.round(radius, 0)}.png', dpi=300, bbox_inches='tight')\n",
    "    plt.close()"
   ]
  },
  {
   "cell_type": "code",
   "execution_count": null,
   "id": "e1d76f13",
   "metadata": {},
   "outputs": [],
   "source": [
    "radius = 400\n",
    "projection = 'radial'"
   ]
  },
  {
   "cell_type": "code",
   "execution_count": null,
   "id": "a4c7cd28",
   "metadata": {},
   "outputs": [],
   "source": [
    "NSIDE = 31\n",
    "NPIX = hp.nside2npix(NSIDE)\n",
    "theta, phi = hp.pix2ang(nside=NSIDE, ipix=np.arange(NPIX)) # return colatitude and longtitude in radian\n",
    "vec = hp.ang2vec(theta,phi) * radius"
   ]
  },
  {
   "cell_type": "code",
   "execution_count": null,
   "id": "e355cfbe",
   "metadata": {},
   "outputs": [],
   "source": [
    "for i_file in range(12):\n",
    "    j_all, x_all, y_all, z_all, time = mass_flux(output_directory, i_file)\n",
    "    mask = ((np.sqrt(x_all ** 2 + y_all ** 2 + z_all ** 2) < radius + 10) & \n",
    "            (np.sqrt(x_all ** 2 + y_all ** 2 + z_all ** 2) > radius - 10))\n",
    "    j, x, y, z = j_all[mask], x_all[mask], y_all[mask], z_all[mask]\n",
    "    j_shell = []\n",
    "\n",
    "    for vector in vec:\n",
    "        distance = (vector[0] - x) ** 2 + (vector[1] - y) ** 2 + (vector[2] - z) ** 2\n",
    "        j_shell.append(j[distance.argmin()])\n",
    "\n",
    "    hp.mollview(np.array(j_shell), title=fr\"Mass flux in $r \\in$ [{np.round(radius,0) - 10}; {np.round(radius,0) + 10}] pc\", \n",
    "            min=200, max=5e5,\n",
    "            unit=\"mass flux in cgs\", norm='log', cmap='magma')\n",
    "    hp.graticule()\n",
    "    plt.savefig(figures_directory + f'massflux_mollview_{projection}_{i_file}_{np.round(radius, 0)}.png', dpi=300, bbox_inches='tight')\n",
    "    plt.close()"
   ]
  },
  {
   "cell_type": "code",
   "execution_count": null,
   "id": "a6bcc2e1",
   "metadata": {},
   "outputs": [],
   "source": [
    "# !ls /n/holystore01/LABS/hernquist_lab/Users/borodina/turb_drive_center_d100_m8/jet42_early/output/figures/"
   ]
  },
  {
   "cell_type": "code",
   "execution_count": null,
   "id": "98c00ea7",
   "metadata": {},
   "outputs": [],
   "source": [
    "from PIL import Image\n",
    "\n",
    "# make gif\n",
    "#--------------------------\n",
    "def crop_img(im):\n",
    "    width, height = im.size\n",
    "    left = 9\n",
    "    top =  3\n",
    "    right = width - 3\n",
    "    bottom = height - 9\n",
    "    im = im.crop((left, top, right, bottom))\n",
    "    return im\n",
    "\n",
    "# ifilename = figures_directory + f'/massflux_mollview_{projection}*{radius}.png'\n",
    "# ofilename = figures_directory + f'/massflux_mollview_{projection}-time-jet.gif'\n",
    "\n",
    "ifilename = figures_directory + f'/massflux_mollview_allprojections*{radius}.png'\n",
    "ofilename = figures_directory + f'/massflux_mollview_allprojections-time-jet.gif'\n",
    "\n",
    "\n",
    "imgs = natsorted(glob.glob(ifilename))\n",
    "\n",
    "frames = []\n",
    "for i in imgs:\n",
    "    new_frame = Image.open(i)\n",
    "    frames.append(crop_img(new_frame))\n",
    "\n",
    "frames[0].save(ofilename, format='GIF',\n",
    "               append_images=frames[1:],\n",
    "               save_all=True,\n",
    "               duration=160, loop=0)"
   ]
  },
  {
   "cell_type": "markdown",
   "id": "9404caef",
   "metadata": {},
   "source": [
    "## total energy flux"
   ]
  },
  {
   "cell_type": "code",
   "execution_count": null,
   "id": "651459c8",
   "metadata": {},
   "outputs": [],
   "source": [
    "i_file = 8\n",
    "E_all, x_all, y_all, z_all, time = total_energy(output_directory, i_file)"
   ]
  },
  {
   "cell_type": "code",
   "execution_count": null,
   "id": "b765e35c",
   "metadata": {},
   "outputs": [],
   "source": [
    "radius_range = np.linspace(40, 500, 31)\n",
    "NSIDE = 31\n",
    "NPIX = hp.nside2npix(NSIDE)\n",
    "theta, phi = hp.pix2ang(nside=NSIDE, ipix=np.arange(NPIX)) # return colatitude and longtitude in radian\n",
    "vec = hp.ang2vec(theta,phi)  # return unit 3D position vector"
   ]
  },
  {
   "cell_type": "code",
   "execution_count": null,
   "id": "f5022b38",
   "metadata": {},
   "outputs": [],
   "source": [
    "for radius in radius_range:\n",
    "    print(radius)\n",
    "    vec_scaled = vec * radius\n",
    "    mask = ((np.sqrt(x_all ** 2 + y_all ** 2 + z_all ** 2) < radius + 20) & \n",
    "            (np.sqrt(x_all ** 2 + y_all ** 2 + z_all ** 2) > radius - 20))\n",
    "    E, x, y, z = E_all[mask], x_all[mask], y_all[mask], z_all[mask]\n",
    "    E_shell = []\n",
    "\n",
    "    for vector in vec_scaled:\n",
    "        distance = (vector[0] - x) ** 2 + (vector[1] - y) ** 2 + (vector[2] - z) ** 2\n",
    "        E_shell.append(E[distance.argmin()])\n",
    "    \n",
    "    hp.mollview(np.array(E_shell), title=fr\"Total energy in $r \\in$ [{np.round(radius,0) - 20}; {np.round(radius,0) + 20}] pc\", \n",
    "            min=1e5, max=1e8,\n",
    "            unit=\"total energy in cgs\", norm='log', cmap='magma')\n",
    "    hp.graticule()\n",
    "    plt.savefig(figures_directory + f'totalenergy_mollview_{i_file}_{np.round(radius, 0)}.png', dpi=300, bbox_inches='tight')\n",
    "    plt.close()"
   ]
  },
  {
   "cell_type": "code",
   "execution_count": null,
   "id": "851b7a52",
   "metadata": {},
   "outputs": [],
   "source": [
    "from PIL import Image\n",
    "\n",
    "# make gif\n",
    "#--------------------------\n",
    "def crop_img(im):\n",
    "    width, height = im.size\n",
    "    left = 9\n",
    "    top =  3\n",
    "    right = width - 3\n",
    "    bottom = height - 9\n",
    "    im = im.crop((left, top, right, bottom))\n",
    "    return im\n",
    "\n",
    "ifilename = figures_directory + '/totalenergy_mollview_8_*.png'\n",
    "ofilename = figures_directory + '/totalenergy_mollview_8-jet.gif'\n",
    "imgs = natsorted(glob.glob(ifilename))\n",
    "\n",
    "frames = []\n",
    "for i in imgs:\n",
    "    new_frame = Image.open(i)\n",
    "    frames.append(crop_img(new_frame))\n",
    "\n",
    "frames[0].save(ofilename, format='GIF',\n",
    "               append_images=frames[1:],\n",
    "               save_all=True,\n",
    "               duration=160, loop=0)"
   ]
  },
  {
   "cell_type": "markdown",
   "id": "a4519781",
   "metadata": {},
   "source": [
    "## mass rate outflow "
   ]
  },
  {
   "cell_type": "code",
   "execution_count": null,
   "id": "b699f1d8",
   "metadata": {},
   "outputs": [],
   "source": [
    "simulation_directory = str('/n/holystore01/LABS/hernquist_lab/Users/borodina/turb_drive_center_d100_m8/jet42_early')\n",
    "output_directory = simulation_directory+\"/output/\"\n",
    "figures_directory = simulation_directory + \"/output/figures/\"\n",
    "i_file = 7"
   ]
  },
  {
   "cell_type": "markdown",
   "id": "b9ff5590",
   "metadata": {},
   "source": [
    "$\\dot{m} = \\frac{dm}{dt} = \\rho \\dot{V} = j_r A$\n",
    "\n",
    "or when a curved surface:\n",
    "\n",
    "$\\dot{m}(R) = \\iint \\vec{j} \\cdot \\vec{d A} = 4 \\pi R^2 j_r$"
   ]
  },
  {
   "cell_type": "code",
   "execution_count": null,
   "id": "2bd01ea2",
   "metadata": {},
   "outputs": [],
   "source": [
    "filename = \"snap_%03d.hdf5\" % (i_file)\n",
    "snap_data = h5py.File(output_directory + filename, \"r\")\n",
    "x, y, z = snap_data['PartType0/Coordinates'][:].T\n",
    "vx, vy, vz = snap_data['PartType0/Velocities'][:].T\n",
    "v_r = (vx * (x - 500) + vy * (y - 500) + vz * (z - 500)) / np.sqrt(x ** 2 + y ** 2 + z ** 2)\n",
    "\n",
    "outflow = (snap_data['PartType0/Density']                              #M_sun / kpc^3\n",
    "           * v_r * 4 * np.pi  / 3.24078e-17  *                         #km/s -> kpc/s\n",
    "           ((x - 500) ** 2 + (y - 500) ** 2 + (z - 500) ** 2)) /1e6    #pc^2 -> kpc^2\n",
    "radius=400"
   ]
  },
  {
   "cell_type": "code",
   "execution_count": null,
   "id": "b72ef01c",
   "metadata": {},
   "outputs": [],
   "source": [
    "def calculate_outflow(phi, theta, radius):\n",
    "    x_dir = radius * np.sin(phi) * np.cos(theta)\n",
    "    y_dir = radius * np.sin(phi) * np.sin(theta)\n",
    "    z_dir = radius * np.cos(phi)\n",
    "    distance = (x_dir - x + 500) ** 2 + (y_dir - y + 500) ** 2 + (z_dir - z + 500) ** 2\n",
    "    return outflow[distance.argmin()]"
   ]
  },
  {
   "cell_type": "code",
   "execution_count": null,
   "id": "5f8c69b6",
   "metadata": {},
   "outputs": [],
   "source": [
    "import numpy as np\n",
    "from scipy import integrate"
   ]
  },
  {
   "cell_type": "code",
   "execution_count": null,
   "id": "e17a52a1",
   "metadata": {},
   "outputs": [],
   "source": [
    "f = lambda theta, phi: np.sin(phi) * calculate_outflow(phi, theta, radius)\n",
    "integrate.dblquad(f, 0, np.pi, 0, 2 * np.pi, epsrel = 1e-4)[0]"
   ]
  },
  {
   "cell_type": "code",
   "execution_count": null,
   "id": "ae56100a",
   "metadata": {},
   "outputs": [],
   "source": []
  },
  {
   "cell_type": "markdown",
   "id": "98bd8b3b",
   "metadata": {},
   "source": [
    "## mass flux distribution "
   ]
  },
  {
   "cell_type": "code",
   "execution_count": null,
   "id": "4a328573",
   "metadata": {},
   "outputs": [],
   "source": [
    "bins = np.linspace(0, 2e-12, 100)"
   ]
  },
  {
   "cell_type": "code",
   "execution_count": null,
   "id": "f8b4b06f",
   "metadata": {},
   "outputs": [],
   "source": [
    "i_file = 1\n",
    "projection = 'radial'\n",
    "\n",
    "filename = \"snap_%03d.hdf5\" % (i_file)\n",
    "snap_data = h5py.File(output_directory + filename, \"r\")\n",
    "\n",
    "j_all, x_all, y_all, z_all, time = mass_flux(output_directory, i_file, proj=projection)\n",
    "temperatures = get_temp(output_directory + filename, 5/3)\n",
    "masses = snap_data['PartType0/Masses'][:]\n",
    "\n",
    "mask = (temperatures > 10 ** 4.5)"
   ]
  },
  {
   "cell_type": "code",
   "execution_count": null,
   "id": "fbe45c39",
   "metadata": {},
   "outputs": [],
   "source": [
    "plt.hist(np.abs(j_all), bins=bins, log=True, weights=masses)\n",
    "plt.hist(np.abs(j_all[mask]), bins=bins, log=True, weights=masses[mask])\n",
    "\n",
    "plt.title(fr'$j_r$ distribution at t = {np.round(get_time_from_snap(snap_data) * unit_time_in_megayr, 2)} Myr')\n",
    "plt.xlim(0, 2e-12)"
   ]
  },
  {
   "cell_type": "code",
   "execution_count": null,
   "id": "0534079c",
   "metadata": {},
   "outputs": [],
   "source": []
  }
 ],
 "metadata": {
  "kernelspec": {
   "display_name": "Python 3",
   "language": "python",
   "name": "python3"
  },
  "language_info": {
   "codemirror_mode": {
    "name": "ipython",
    "version": 3
   },
   "file_extension": ".py",
   "mimetype": "text/x-python",
   "name": "python",
   "nbconvert_exporter": "python",
   "pygments_lexer": "ipython3",
   "version": "3.6.8"
  }
 },
 "nbformat": 4,
 "nbformat_minor": 5
}
