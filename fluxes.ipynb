{
 "cells": [
  {
   "cell_type": "code",
   "execution_count": null,
   "id": "4b2b968a",
   "metadata": {},
   "outputs": [],
   "source": [
    "from postprocessing import *\n",
    "import healpy as hp\n",
    "import glob\n",
    "import os\n",
    "from natsort import natsorted"
   ]
  },
  {
   "cell_type": "code",
   "execution_count": null,
   "id": "185ecc01",
   "metadata": {},
   "outputs": [],
   "source": [
    "mpl.rcParams['figure.dpi']= 200"
   ]
  },
  {
   "cell_type": "code",
   "execution_count": null,
   "id": "84ed4ca8",
   "metadata": {},
   "outputs": [],
   "source": [
    "def momentum_flux(directory, i_file):\n",
    "    filename = \"snap_%03d.hdf5\" % (i_file)\n",
    "    snap_data = h5py.File(directory + filename, \"r\")\n",
    "    x, y, z = snap_data['PartType0/Coordinates'][:].T\n",
    "    vx, vy, vz = snap_data['PartType0/Velocities'][:].T\n",
    "    v_square = vx ** 2 + vy ** 2 + vz ** 2\n",
    "    j = snap_data['PartType0/Density'] * v_square\n",
    "    return j, x - 500, y - 500, z - 500, get_time_from_snap(snap_data) * unit_time_in_megayr"
   ]
  },
  {
   "cell_type": "code",
   "execution_count": null,
   "id": "10801192",
   "metadata": {},
   "outputs": [],
   "source": [
    "def mass_flux(directory, i_file, proj='radial'):\n",
    "    filename = \"snap_%03d.hdf5\" % (i_file)\n",
    "    snap_data = h5py.File(directory + filename, \"r\")\n",
    "    x, y, z = snap_data['PartType0/Coordinates'][:].T\n",
    "    vx, vy, vz = snap_data['PartType0/Velocities'][:].T\n",
    "    v_r = (vx * (x - 500) + vy * (y - 500) + vz * (z - 500)) / np.sqrt(x ** 2 + y ** 2 + z ** 2)\n",
    "    if proj == 'radial':\n",
    "        j = snap_data['PartType0/Density'] * v_r\n",
    "    elif proj == 'transverse':\n",
    "        v_t = np.sqrt(vx ** 2 + vy ** 2 + vz ** 2 - v_r ** 2)\n",
    "        j = snap_data['PartType0/Density'] * v_t\n",
    "    elif proj == 'total':\n",
    "        v = np.sqrt(vx ** 2 + vy ** 2 + vz ** 2)\n",
    "        j = snap_data['PartType0/Density'] * v\n",
    "    else:\n",
    "        raise ValueError(\"Wrong projection type. Expected 'radial', 'transverse', or 'total'. \")\n",
    "    return j, x - 500, y - 500, z - 500, get_time_from_snap(snap_data) * unit_time_in_megayr"
   ]
  },
  {
   "cell_type": "code",
   "execution_count": null,
   "id": "89c30e7b",
   "metadata": {},
   "outputs": [],
   "source": [
    "def total_energy(directory, i_file):\n",
    "    filename = \"snap_%03d.hdf5\" % (i_file)\n",
    "    snap_data = h5py.File(directory + filename, \"r\")\n",
    "    x, y, z = snap_data['PartType0/Coordinates'][:].T\n",
    "    vx, vy, vz = snap_data['PartType0/Velocities'][:].T\n",
    "    v_square = vx ** 2 + vy ** 2 + vz ** 2\n",
    "    E = snap_data['PartType0/Masses'] * v_square / 2 + snap_data['PartType0/InternalEnergy']\n",
    "    return E, x - 500, y - 500, z - 500, get_time_from_snap(snap_data) * unit_time_in_megayr"
   ]
  },
  {
   "cell_type": "code",
   "execution_count": null,
   "id": "90fd764f",
   "metadata": {},
   "outputs": [],
   "source": [
    "simulation_directory = str('/n/holystore01/LABS/hernquist_lab/Users/borodina/turb_drive_center_d100_m8/jet42_early')\n",
    "output_directory = simulation_directory+\"/output/\"\n",
    "figures_directory = simulation_directory + \"/output/figures/\""
   ]
  },
  {
   "cell_type": "markdown",
   "id": "802d2ec9",
   "metadata": {},
   "source": [
    "## mass flux propogation in r\n",
    "\n",
    "$j = \\rho \\cdot v_r $"
   ]
  },
  {
   "cell_type": "code",
   "execution_count": null,
   "id": "8e34cf7c",
   "metadata": {},
   "outputs": [],
   "source": [
    "i_file = 8\n",
    "projection = 'radial'\n",
    "j_all, x_all, y_all, z_all, time = mass_flux(output_directory, i_file, proj=projection)"
   ]
  },
  {
   "cell_type": "code",
   "execution_count": null,
   "id": "5e1830e5",
   "metadata": {},
   "outputs": [],
   "source": [
    "radius_range = np.linspace(40, 500, 31)\n",
    "NSIDE = 31\n",
    "NPIX = hp.nside2npix(NSIDE)\n",
    "theta, phi = hp.pix2ang(nside=NSIDE, ipix=np.arange(NPIX)) # return colatitude and longtitude in radian\n",
    "vec = hp.ang2vec(theta,phi)  # return unit 3D position vector"
   ]
  },
  {
   "cell_type": "code",
   "execution_count": null,
   "id": "0894d0c7",
   "metadata": {},
   "outputs": [],
   "source": [
    "for radius in radius_range:\n",
    "    print(radius)\n",
    "    vec_scaled = vec * radius\n",
    "    mask = ((np.sqrt(x_all ** 2 + y_all ** 2 + z_all ** 2) < radius + 20) & \n",
    "            (np.sqrt(x_all ** 2 + y_all ** 2 + z_all ** 2) > radius - 20))\n",
    "    j, x, y, z = j_all[mask], x_all[mask], y_all[mask], z_all[mask]\n",
    "    j_shell = []\n",
    "\n",
    "    for vector in vec_scaled:\n",
    "        distance = (vector[0] - x) ** 2 + (vector[1] - y) ** 2 + (vector[2] - z) ** 2\n",
    "        j_shell.append(j[distance.argmin()])\n",
    "    \n",
    "    if projection == 'radial':\n",
    "        hp.mollview(np.array(j_shell), title=fr\"Mass flux in $r \\in$ [{np.round(radius,0) - 20}; {np.round(radius,0) + 20}] pc\", \n",
    "        min=-5e2, max=5e2, unit=\"mass flux in cgs\", cmap='coolwarm')\n",
    "    else:\n",
    "        hp.mollview(np.array(j_shell), title=fr\"Mass flux in $r \\in$ [{np.round(radius,0) - 20}; {np.round(radius,0) + 20}] pc\", \n",
    "            min=10, max=5e4, unit=\"mass flux in cgs\", norm='log', cmap='magma')\n",
    "    hp.graticule()\n",
    "    plt.savefig(figures_directory + f'massflux_mollview_{projection}_{i_file}_{np.round(radius, 0)}.png', dpi=300, bbox_inches='tight')\n",
    "    plt.close()"
   ]
  },
  {
   "cell_type": "code",
   "execution_count": null,
   "id": "6d305d1c",
   "metadata": {},
   "outputs": [],
   "source": [
    "from PIL import Image\n",
    "\n",
    "# make gif\n",
    "#--------------------------\n",
    "def crop_img(im):\n",
    "    width, height = im.size\n",
    "    left = 9\n",
    "    top =  3\n",
    "    right = width - 3\n",
    "    bottom = height - 9\n",
    "    im = im.crop((left, top, right, bottom))\n",
    "    return im\n",
    "\n",
    "ifilename = figures_directory + f'/massflux_mollview_{projection}_{i_file}_*.png'\n",
    "ofilename = figures_directory + f'/massflux_mollview_{projection}_{i_file}-jet.gif'\n",
    "imgs = natsorted(glob.glob(ifilename))\n",
    "\n",
    "frames = []\n",
    "for i in imgs:\n",
    "    new_frame = Image.open(i)\n",
    "    frames.append(crop_img(new_frame))\n",
    "\n",
    "frames[0].save(ofilename, format='GIF',\n",
    "               append_images=frames[1:],\n",
    "               save_all=True,\n",
    "               duration=160, loop=0)"
   ]
  },
  {
   "cell_type": "markdown",
   "id": "61f5680f",
   "metadata": {},
   "source": [
    "## mass flux propogation in t"
   ]
  },
  {
   "cell_type": "code",
   "execution_count": null,
   "id": "e1d76f13",
   "metadata": {},
   "outputs": [],
   "source": [
    "radius = 200\n",
    "projection = 'radial'\n",
    "j_all, x_all, y_all, z_all, time = mass_flux(output_directory, i_file, proj=projection)"
   ]
  },
  {
   "cell_type": "code",
   "execution_count": null,
   "id": "a4c7cd28",
   "metadata": {},
   "outputs": [],
   "source": [
    "NSIDE = 31\n",
    "NPIX = hp.nside2npix(NSIDE)\n",
    "theta, phi = hp.pix2ang(nside=NSIDE, ipix=np.arange(NPIX)) # return colatitude and longtitude in radian\n",
    "vec = hp.ang2vec(theta,phi) * radius"
   ]
  },
  {
   "cell_type": "code",
   "execution_count": null,
   "id": "e355cfbe",
   "metadata": {},
   "outputs": [],
   "source": [
    "for i_file in range(12):\n",
    "    j_all, x_all, y_all, z_all, time = momentum_flux(output_directory, i_file)\n",
    "    mask = ((np.sqrt(x_all ** 2 + y_all ** 2 + z_all ** 2) < radius + 10) & \n",
    "            (np.sqrt(x_all ** 2 + y_all ** 2 + z_all ** 2) > radius - 10))\n",
    "    j, x, y, z = j_all[mask], x_all[mask], y_all[mask], z_all[mask]\n",
    "    j_shell = []\n",
    "\n",
    "    for vector in vec:\n",
    "        distance = (vector[0] - x) ** 2 + (vector[1] - y) ** 2 + (vector[2] - z) ** 2\n",
    "        j_shell.append(j[distance.argmin()])\n",
    "\n",
    "    hp.mollview(np.array(j_shell), title=fr\"Mass flux in $r \\in$ [{np.round(radius,0) - 10}; {np.round(radius,0) + 10}] pc\", \n",
    "            min=200, max=5e5,\n",
    "            unit=\"mass flux in cgs\", norm='log', cmap='magma')\n",
    "    hp.graticule()\n",
    "    plt.savefig(figures_directory + f'massflux_mollview_{projection}_{i_file}_{np.round(radius, 0)}.png', dpi=300, bbox_inches='tight')\n",
    "    plt.close()"
   ]
  },
  {
   "cell_type": "code",
   "execution_count": null,
   "id": "98c00ea7",
   "metadata": {},
   "outputs": [],
   "source": [
    "from PIL import Image\n",
    "\n",
    "# make gif\n",
    "#--------------------------\n",
    "def crop_img(im):\n",
    "    width, height = im.size\n",
    "    left = 9\n",
    "    top =  3\n",
    "    right = width - 3\n",
    "    bottom = height - 9\n",
    "    im = im.crop((left, top, right, bottom))\n",
    "    return im\n",
    "\n",
    "ifilename = figures_directory + f'/massflux_mollview_{projection}*{radius}.png'\n",
    "ofilename = figures_directory + f'/massflux_mollview_{projection}-time-jet.gif'\n",
    "imgs = natsorted(glob.glob(ifilename))\n",
    "\n",
    "frames = []\n",
    "for i in imgs:\n",
    "    new_frame = Image.open(i)\n",
    "    frames.append(crop_img(new_frame))\n",
    "\n",
    "frames[0].save(ofilename, format='GIF',\n",
    "               append_images=frames[1:],\n",
    "               save_all=True,\n",
    "               duration=160, loop=0)"
   ]
  },
  {
   "cell_type": "markdown",
   "id": "9c6221d0",
   "metadata": {},
   "source": [
    "## momentum flux distribution"
   ]
  },
  {
   "cell_type": "code",
   "execution_count": null,
   "id": "9bf7be24",
   "metadata": {},
   "outputs": [],
   "source": [
    "# radius_grid = np.linspace(rho.min(), rho.max(), 101)"
   ]
  },
  {
   "cell_type": "code",
   "execution_count": null,
   "id": "a4d4be17",
   "metadata": {},
   "outputs": [],
   "source": [
    "# result = []\n",
    "# for i in range(len(radius_grid) - 1):\n",
    "#     radius_i0 = radius_grid[i]\n",
    "#     radius_i1 = radius_grid[i + 1]\n",
    "    \n",
    "#     mask = (rho > radius_i0) & (rho < radius_i1)\n",
    "#     result.append([(radius_i0 + radius_i1) / 2, j[mask].mean()])"
   ]
  },
  {
   "cell_type": "code",
   "execution_count": null,
   "id": "9d8bbdd8",
   "metadata": {},
   "outputs": [],
   "source": [
    "# result = np.array(result).T"
   ]
  },
  {
   "cell_type": "code",
   "execution_count": null,
   "id": "f5d37d92",
   "metadata": {},
   "outputs": [],
   "source": [
    "for i in range(7):\n",
    "    j, rho, phi, theta, time = momentum_flux(output_directory, i)\n",
    "#     fig = plt.figure()\n",
    "    plt.scatter(rho, j, s=1, label=f'{np.round(time, 2)} Myr')\n",
    "    plt.xlabel('r')\n",
    "    plt.ylabel('mean momentum flux')\n",
    "plt.legend(loc='upper left')\n",
    "plt.xlim(0, 500)"
   ]
  },
  {
   "cell_type": "code",
   "execution_count": null,
   "id": "fc9c0d9b",
   "metadata": {},
   "outputs": [],
   "source": []
  },
  {
   "cell_type": "code",
   "execution_count": null,
   "id": "0b37eec3",
   "metadata": {},
   "outputs": [],
   "source": []
  },
  {
   "cell_type": "markdown",
   "id": "9404caef",
   "metadata": {},
   "source": [
    "## total energy flux"
   ]
  },
  {
   "cell_type": "code",
   "execution_count": null,
   "id": "651459c8",
   "metadata": {},
   "outputs": [],
   "source": [
    "i_file = 8\n",
    "E_all, x_all, y_all, z_all, time = total_energy(output_directory, i_file)"
   ]
  },
  {
   "cell_type": "code",
   "execution_count": null,
   "id": "b765e35c",
   "metadata": {},
   "outputs": [],
   "source": [
    "radius_range = np.linspace(40, 500, 31)\n",
    "NSIDE = 31\n",
    "NPIX = hp.nside2npix(NSIDE)\n",
    "theta, phi = hp.pix2ang(nside=NSIDE, ipix=np.arange(NPIX)) # return colatitude and longtitude in radian\n",
    "vec = hp.ang2vec(theta,phi)  # return unit 3D position vector"
   ]
  },
  {
   "cell_type": "code",
   "execution_count": null,
   "id": "f5022b38",
   "metadata": {},
   "outputs": [],
   "source": [
    "for radius in radius_range:\n",
    "    print(radius)\n",
    "    vec_scaled = vec * radius\n",
    "    mask = ((np.sqrt(x_all ** 2 + y_all ** 2 + z_all ** 2) < radius + 20) & \n",
    "            (np.sqrt(x_all ** 2 + y_all ** 2 + z_all ** 2) > radius - 20))\n",
    "    E, x, y, z = E_all[mask], x_all[mask], y_all[mask], z_all[mask]\n",
    "    E_shell = []\n",
    "\n",
    "    for vector in vec_scaled:\n",
    "        distance = (vector[0] - x) ** 2 + (vector[1] - y) ** 2 + (vector[2] - z) ** 2\n",
    "        E_shell.append(E[distance.argmin()])\n",
    "    \n",
    "    hp.mollview(np.array(E_shell), title=fr\"Total energy in $r \\in$ [{np.round(radius,0) - 20}; {np.round(radius,0) + 20}] pc\", \n",
    "            min=1e5, max=1e8,\n",
    "            unit=\"total energy in cgs\", norm='log', cmap='magma')\n",
    "    hp.graticule()\n",
    "    plt.savefig(figures_directory + f'totalenergy_mollview_{i_file}_{np.round(radius, 0)}.png', dpi=300, bbox_inches='tight')\n",
    "    plt.close()"
   ]
  },
  {
   "cell_type": "code",
   "execution_count": null,
   "id": "851b7a52",
   "metadata": {},
   "outputs": [],
   "source": [
    "from PIL import Image\n",
    "\n",
    "# make gif\n",
    "#--------------------------\n",
    "def crop_img(im):\n",
    "    width, height = im.size\n",
    "    left = 9\n",
    "    top =  3\n",
    "    right = width - 3\n",
    "    bottom = height - 9\n",
    "    im = im.crop((left, top, right, bottom))\n",
    "    return im\n",
    "\n",
    "ifilename = figures_directory + '/totalenergy_mollview_8_*.png'\n",
    "ofilename = figures_directory + '/totalenergy_mollview_8-jet.gif'\n",
    "imgs = natsorted(glob.glob(ifilename))\n",
    "\n",
    "frames = []\n",
    "for i in imgs:\n",
    "    new_frame = Image.open(i)\n",
    "    frames.append(crop_img(new_frame))\n",
    "\n",
    "frames[0].save(ofilename, format='GIF',\n",
    "               append_images=frames[1:],\n",
    "               save_all=True,\n",
    "               duration=160, loop=0)"
   ]
  },
  {
   "cell_type": "code",
   "execution_count": null,
   "id": "d7e060aa",
   "metadata": {},
   "outputs": [],
   "source": []
  }
 ],
 "metadata": {
  "kernelspec": {
   "display_name": "Python 3",
   "language": "python",
   "name": "python3"
  },
  "language_info": {
   "codemirror_mode": {
    "name": "ipython",
    "version": 3
   },
   "file_extension": ".py",
   "mimetype": "text/x-python",
   "name": "python",
   "nbconvert_exporter": "python",
   "pygments_lexer": "ipython3",
   "version": "3.6.8"
  }
 },
 "nbformat": 4,
 "nbformat_minor": 5
}
