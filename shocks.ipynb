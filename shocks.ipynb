{
 "cells": [
  {
   "cell_type": "markdown",
   "id": "ed83168b",
   "metadata": {},
   "source": [
    "this notebook is used to visiualize and analize shock regions"
   ]
  },
  {
   "cell_type": "code",
   "execution_count": null,
   "id": "839ae914",
   "metadata": {},
   "outputs": [],
   "source": [
    "from postprocessing import *\n",
    "import glob\n",
    "import os\n",
    "import healpy as hp\n",
    "from natsort import natsorted"
   ]
  },
  {
   "cell_type": "code",
   "execution_count": null,
   "id": "78976d33",
   "metadata": {},
   "outputs": [],
   "source": [
    "mpl.rcParams['figure.dpi']= 200"
   ]
  },
  {
   "cell_type": "code",
   "execution_count": null,
   "id": "d8ebfda2",
   "metadata": {},
   "outputs": [],
   "source": [
    "density = '20'\n",
    "mach    = '4'\n",
    "jet     = '40'\n",
    "start   = '15'"
   ]
  },
  {
   "cell_type": "code",
   "execution_count": null,
   "id": "1535c66d",
   "metadata": {},
   "outputs": [],
   "source": [
    "simulation_directory = str(f'/n/holylfs05/LABS/hernquist_lab/Users/borodina/2kpc/turb_jet_d{density}_m{mach}/jet{jet}_{start}')\n",
    "output_directory = simulation_directory+\"/output/\"\n",
    "figures_directory = simulation_directory + \"/output/figures/\""
   ]
  },
  {
   "cell_type": "code",
   "execution_count": null,
   "id": "0b250a2f",
   "metadata": {},
   "outputs": [],
   "source": [
    "filename = \"snap_%03d.hdf5\" % (1)\n",
    "shock_data = h5py.File(output_directory + filename, \"r\")\n",
    "shock = shock_data['PartType0/Machnumber'][:]\n",
    "energy = shock_data['PartType0/EnergyDissipation'][:]\n",
    "jet_tracer = shock_data['PartType0/Jet_Tracer'][:]"
   ]
  },
  {
   "cell_type": "code",
   "execution_count": null,
   "id": "106e3233",
   "metadata": {},
   "outputs": [],
   "source": [
    "mask_jet = jet_tracer > 1e-5\n",
    "mask_energy = energy > 0\n",
    "# bins = np.logspace(1, 2, 51)\n",
    "bins = np.logspace(-3, 9, 51)"
   ]
  },
  {
   "cell_type": "code",
   "execution_count": null,
   "id": "75ec5e43",
   "metadata": {},
   "outputs": [],
   "source": [
    "fig, ax = plt.subplots(figsize=(7, 5))\n",
    "plt.hist(energy, bins=bins)\n",
    "plt.xscale('log')\n",
    "plt.yscale('log')"
   ]
  },
  {
   "cell_type": "code",
   "execution_count": null,
   "id": "1e6a1df9",
   "metadata": {},
   "outputs": [],
   "source": [
    "i_file = 0\n",
    "while True:\n",
    "    i_file += 1\n",
    "    \n",
    "    filename = \"snap_%03d.hdf5\" % (i_file)\n",
    "    try:\n",
    "        shock_data = h5py.File(output_directory + filename, \"r\")\n",
    "    except:\n",
    "        break\n",
    "\n",
    "    shock = shock_data['PartType0/Machnumber'][:]\n",
    "    bins = np.linspace(0, 150, 35)\n",
    "\n",
    "    fig, ax = plt.subplots(2, 3, figsize=(11, 6.1))\n",
    "    fig.tight_layout(w_pad=7.0, h_pad=3.0)\n",
    "    plot_dens_vel(ax[0][0], output_directory + \"snap_%03d.hdf5\" % (i_file), fac=0.5)\n",
    "    plot_temp_vel(ax[0][1], output_directory + \"snap_%03d.hdf5\" % (i_file), fac=0.5)\n",
    "    plot_pressure(ax[0][2], output_directory + \"snap_%03d.hdf5\" % (i_file), fac=0.5)\n",
    "    plot_jet_tracer(ax[1][0], output_directory + \"snap_%03d.hdf5\" % (i_file), fac=0.5)\n",
    "    plot_shocks(ax[1][1], output_directory + \"snap_%03d.hdf5\" % (i_file), fac=0.5)\n",
    "    #plot_shocks(ax[1][2], output_directory + \"snap_%03d.hdf5\" % (i_file), value='energy', fac=0.5)\n",
    "    plot_radvelocity(ax[1][2], output_directory + \"snap_%03d.hdf5\" % (i_file), fac=0.5)\n",
    "\n",
    "#     ax[1][2].hist(shock[shock != 0], bins=bins, log=True)\n",
    "#     ax[1][2].set_xlabel('shock value distribution')\n",
    "#     ax[1][2].set_xlim(0, 150)\n",
    "#     ax[1][2].set_ylim(1, 1500)\n",
    "    plt.savefig(figures_directory + f'6panels_{i_file}.png', dpi=300, bbox_inches='tight')\n",
    "    plt.close()"
   ]
  },
  {
   "cell_type": "code",
   "execution_count": null,
   "id": "c9163695",
   "metadata": {},
   "outputs": [],
   "source": [
    "from PIL import Image\n",
    "\n",
    "# make gif\n",
    "#--------------------------\n",
    "def crop_img(im):\n",
    "    width, height = im.size\n",
    "    left = 9\n",
    "    top =  3\n",
    "    right = width - 3\n",
    "    bottom = height - 9\n",
    "    im = im.crop((left, top, right, bottom))\n",
    "    return im\n",
    "\n",
    "ifilename = figures_directory + '/6panels*.png'\n",
    "ofilename = figures_directory + '/6panels-jet.gif'\n",
    "imgs = natsorted(glob.glob(ifilename))\n",
    "\n",
    "frames = []\n",
    "for i in imgs:\n",
    "    new_frame = Image.open(i)\n",
    "    frames.append(crop_img(new_frame))\n",
    "\n",
    "frames[0].save(ofilename, format='GIF',\n",
    "               append_images=frames[1:],\n",
    "               save_all=True,\n",
    "               duration=160, loop=0)"
   ]
  },
  {
   "cell_type": "markdown",
   "id": "fe164422",
   "metadata": {},
   "source": [
    "## mollview"
   ]
  },
  {
   "cell_type": "code",
   "execution_count": null,
   "id": "84d18c1c",
   "metadata": {},
   "outputs": [],
   "source": [
    "def find_shocks(directory, i_file):\n",
    "    filename = \"shocks_%03d.hdf5\" % (i_file)\n",
    "    snap_data = h5py.File(directory + filename, \"r\")\n",
    "    x, y, z = snap_data['PartType0/Coordinates'][:].T\n",
    "    shocks = snap_data['PartType0/Machnumber'][:].T\n",
    "    return shocks, x - 500, y - 500, z - 500, get_time_from_snap(snap_data) * unit_time_in_megayr"
   ]
  },
  {
   "cell_type": "code",
   "execution_count": null,
   "id": "3edc498b",
   "metadata": {},
   "outputs": [],
   "source": [
    "i_file = 1\n",
    "shock_all, x_all, y_all, z_all, time = find_shocks(output_directory, i_file)"
   ]
  },
  {
   "cell_type": "code",
   "execution_count": null,
   "id": "89911692",
   "metadata": {},
   "outputs": [],
   "source": [
    "radius_range = np.linspace(40, 500, 31)\n",
    "NSIDE = 31\n",
    "NPIX = hp.nside2npix(NSIDE)\n",
    "theta, phi = hp.pix2ang(nside=NSIDE, ipix=np.arange(NPIX)) # return colatitude and longtitude in radian\n",
    "vec = hp.ang2vec(theta,phi)  # return unit 3D position vector"
   ]
  },
  {
   "cell_type": "code",
   "execution_count": null,
   "id": "096bea68",
   "metadata": {},
   "outputs": [],
   "source": [
    "for radius in radius_range:\n",
    "    print(radius)\n",
    "    vec_scaled = vec * radius\n",
    "    mask = ((np.sqrt(x_all ** 2 + y_all ** 2 + z_all ** 2) < radius + 20) & \n",
    "            (np.sqrt(x_all ** 2 + y_all ** 2 + z_all ** 2) > radius - 20))\n",
    "    shock, x, y, z = shock_all[mask], x_all[mask], y_all[mask], z_all[mask]\n",
    "    shock_shell = []\n",
    "\n",
    "    for vector in vec_scaled:\n",
    "        distance = (vector[0] - x) ** 2 + (vector[1] - y) ** 2 + (vector[2] - z) ** 2\n",
    "        shock_shell.append(shock[distance.argsort()[:3]].mean())\n",
    "    \n",
    "\n",
    "\n",
    "    hp.mollview(np.array(shock_shell), title=fr\"Shocks in $r \\in$ [{np.round(radius,0) - 20}; {np.round(radius,0) + 20}] pc\", \n",
    "            min=1e-2, max=100, rot=(90,0,0), unit=\"mass flux in cgs\", norm='log', cmap='magma')\n",
    "    hp.graticule()\n",
    "    plt.savefig(figures_directory + f'shocks_mollview_{i_file}_{np.round(radius, 0)}.png', dpi=300, bbox_inches='tight')\n",
    "    plt.close()"
   ]
  },
  {
   "cell_type": "code",
   "execution_count": null,
   "id": "86b1b43f",
   "metadata": {},
   "outputs": [],
   "source": [
    "from PIL import Image\n",
    "\n",
    "# make gif\n",
    "#--------------------------\n",
    "def crop_img(im):\n",
    "    width, height = im.size\n",
    "    left = 9\n",
    "    top =  3\n",
    "    right = width - 3\n",
    "    bottom = height - 9\n",
    "    im = im.crop((left, top, right, bottom))\n",
    "    return im\n",
    "\n",
    "ifilename = figures_directory + f'/shocks_mollview_{i_file}_*.png'\n",
    "ofilename = figures_directory + f'/shocks_mollview_{i_file}-jet.gif'\n",
    "imgs = natsorted(glob.glob(ifilename))\n",
    "\n",
    "frames = []\n",
    "for i in imgs:\n",
    "    new_frame = Image.open(i)\n",
    "    frames.append(crop_img(new_frame))\n",
    "\n",
    "frames[0].save(ofilename, format='GIF',\n",
    "               append_images=frames[1:],\n",
    "               save_all=True,\n",
    "               duration=160, loop=0)"
   ]
  },
  {
   "cell_type": "markdown",
   "id": "05867446",
   "metadata": {},
   "source": [
    "## shock area"
   ]
  },
  {
   "cell_type": "code",
   "execution_count": null,
   "id": "e475a082",
   "metadata": {},
   "outputs": [],
   "source": [
    "density = '100'\n",
    "mach    = '4'\n",
    "jet     = '44'\n",
    "start   = '12'"
   ]
  },
  {
   "cell_type": "code",
   "execution_count": null,
   "id": "eb44c8ea",
   "metadata": {},
   "outputs": [],
   "source": [
    "simulation_directory = str(f'/n/holystore01/LABS/hernquist_lab/Users/borodina/2kpc/turb_drive_center_d{density}_m{mach}/jet{jet}_{start}')\n",
    "#simulation_directory = str(f'/n/holystore01/LABS/hernquist_lab/Users/borodina/2kpc/turb_drive_center_d{density}_m{mach}/turb_alter_{start}')\n",
    "\n",
    "output_directory = simulation_directory+\"/output/\"\n",
    "figures_directory = simulation_directory + \"/output/figures/\""
   ]
  },
  {
   "cell_type": "code",
   "execution_count": null,
   "id": "a6e007cd",
   "metadata": {},
   "outputs": [],
   "source": [
    "filename = \"snap_%03d.hdf5\" % (3)\n",
    "shock_data = h5py.File(output_directory + filename, \"r\")\n",
    "shock = shock_data['PartType0/Machnumber'][:]\n",
    "masses = shock_data['PartType0/Masses'][:]\n",
    "energy = shock_data['PartType0/EnergyDissipation'][:]\n",
    "density_grad = shock_data['PartType0/DensityGradient'][:]\n",
    "jet_tracer = shock_data['PartType0/Jet_Tracer'][:]"
   ]
  },
  {
   "cell_type": "code",
   "execution_count": null,
   "id": "f1cb7d31",
   "metadata": {},
   "outputs": [],
   "source": [
    "fig, ax = plt.subplots(1, 2, figsize=(11, 5.1))\n",
    "fig.tight_layout(w_pad=7.0, h_pad=3.0)\n",
    "plot_jet_tracer(ax[0], output_directory + \"snap_%03d.hdf5\" % (7), fac=0.5)\n",
    "plot_jet_tracer(ax[1], output_directory + \"snap_%03d.hdf5\" % (7), edge=True, fac=0.5)"
   ]
  },
  {
   "cell_type": "code",
   "execution_count": null,
   "id": "e1d9e446",
   "metadata": {},
   "outputs": [],
   "source": [
    "mask_edge = (jet_tracer > 1e-5)# & (jet_tracer < 1e-2)"
   ]
  },
  {
   "cell_type": "code",
   "execution_count": null,
   "id": "1846f36e",
   "metadata": {},
   "outputs": [],
   "source": [
    "bins = np.logspace(-5, 11, 51)\n",
    "\n",
    "fig, ax = plt.subplots(figsize=(7, 5))\n",
    "plt.hist(energy, weights=masses, bins=bins, label='whole box')\n",
    "plt.hist(energy[mask_edge], weights=masses[mask_edge], bins=bins, label='edges of jet')\n",
    "plt.xlabel('Energy Dissipation')\n",
    "plt.ylabel(r'Mass [M$_\\odot$]')\n",
    "plt.ylim(10, 1e7)\n",
    "plt.xscale('log')\n",
    "plt.yscale('log')\n",
    "plt.legend()"
   ]
  },
  {
   "cell_type": "code",
   "execution_count": null,
   "id": "535ed08e",
   "metadata": {},
   "outputs": [],
   "source": [
    "bins = np.logspace(0, 2.5, 51)\n",
    "\n",
    "fig, ax = plt.subplots(figsize=(7, 5))\n",
    "plt.hist(shock, weights=masses, bins=bins, label='whole box')\n",
    "plt.hist(shock[mask_edge], weights=masses[mask_edge], bins=bins, label='edges of jet')\n",
    "plt.xlabel('Mach Number')\n",
    "plt.ylabel(r'Mass [M$_\\odot$]')\n",
    "plt.ylim(10, 5e7)\n",
    "plt.xscale('log')\n",
    "plt.yscale('log')\n",
    "plt.legend()"
   ]
  },
  {
   "cell_type": "code",
   "execution_count": null,
   "id": "cdb3ba6e",
   "metadata": {},
   "outputs": [],
   "source": [
    "density_grad = np.sqrt(density_grad[:,0] ** 2 + density_grad[:, 1] ** 2 + density_grad[:, 2] ** 2)"
   ]
  },
  {
   "cell_type": "code",
   "execution_count": null,
   "id": "9cae048b",
   "metadata": {},
   "outputs": [],
   "source": [
    "bins = np.logspace(-8, 2, 51)\n",
    "\n",
    "fig, ax = plt.subplots(figsize=(7, 5))\n",
    "plt.hist(density_grad, weights=masses, bins=bins, label='whole box')\n",
    "plt.hist(density_grad[mask_edge], weights=masses[mask_edge], bins=bins, label='edges of jet')\n",
    "plt.xlabel('Density Gradient')\n",
    "plt.ylabel(r'Mass [M$_\\odot$]')\n",
    "plt.ylim(10, 5e9)\n",
    "plt.xscale('log')\n",
    "plt.yscale('log')\n",
    "plt.legend()"
   ]
  }
 ],
 "metadata": {
  "kernelspec": {
   "display_name": "Python 3 (ipykernel)",
   "language": "python",
   "name": "python3"
  },
  "language_info": {
   "codemirror_mode": {
    "name": "ipython",
    "version": 3
   },
   "file_extension": ".py",
   "mimetype": "text/x-python",
   "name": "python",
   "nbconvert_exporter": "python",
   "pygments_lexer": "ipython3",
   "version": "3.6.8"
  }
 },
 "nbformat": 4,
 "nbformat_minor": 5
}
