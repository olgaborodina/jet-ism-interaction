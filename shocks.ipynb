{
 "cells": [
  {
   "cell_type": "code",
   "execution_count": null,
   "id": "839ae914",
   "metadata": {},
   "outputs": [],
   "source": [
    "from postprocessing import *\n",
    "import glob\n",
    "import os\n",
    "from natsort import natsorted"
   ]
  },
  {
   "cell_type": "code",
   "execution_count": null,
   "id": "1535c66d",
   "metadata": {},
   "outputs": [],
   "source": [
    "simulation_directory = str('/n/holystore01/LABS/hernquist_lab/Users/borodina/turb_drive_center_d100/jet44_early_shockfinder')\n",
    "output_directory = simulation_directory+\"/output/\"\n",
    "figures_directory = simulation_directory + \"/output/figures/\""
   ]
  },
  {
   "cell_type": "code",
   "execution_count": null,
   "id": "0b250a2f",
   "metadata": {},
   "outputs": [],
   "source": [
    "filename = \"shocks_%03d.hdf5\" % (1)\n",
    "shock_data = h5py.File(output_directory + filename, \"r\")\n",
    "shock = shock_data['PartType0/Machnumber'][:]"
   ]
  },
  {
   "cell_type": "code",
   "execution_count": null,
   "id": "1e6a1df9",
   "metadata": {},
   "outputs": [],
   "source": [
    "for i_file in range(6):\n",
    "\n",
    "    filename = \"shocks_%03d.hdf5\" % (i_file)\n",
    "    shock_data = h5py.File(output_directory + filename, \"r\")\n",
    "    shock = shock_data['PartType0/Machnumber'][:]\n",
    "    bins = np.linspace(0, 150, 35)\n",
    "\n",
    "    fig, ax = plt.subplots(2, 3, figsize=(11, 6.1))\n",
    "    fig.tight_layout(w_pad=7.0, h_pad=3.0)\n",
    "    plot_dens_vel(ax[0][0], output_directory + \"snap_%03d.hdf5\" % (i_file))\n",
    "    plot_temp_vel(ax[0][1], output_directory + \"snap_%03d.hdf5\" % (i_file))\n",
    "    plot_pressure(ax[0][2], output_directory + \"snap_%03d.hdf5\" % (i_file))\n",
    "    plot_jet_tracer(ax[1][0], output_directory + \"snap_%03d.hdf5\" % (i_file))\n",
    "    plot_shocks(ax[1][1], output_directory + \"shocks_%03d.hdf5\" % (i_file))\n",
    "\n",
    "\n",
    "    ax[1][2].hist(shock[shock != 0], bins=bins, log=True)\n",
    "    ax[1][2].set_xlabel('shock value distribution')\n",
    "    ax[1][2].set_xlim(0, 150)\n",
    "    ax[1][2].set_ylim(1, 1500)\n",
    "    plt.savefig(figures_directory + f'6panels_{i_file}.png', dpi=300, bbox_inches='tight')\n",
    "    plt.close()"
   ]
  },
  {
   "cell_type": "code",
   "execution_count": null,
   "id": "c9163695",
   "metadata": {},
   "outputs": [],
   "source": [
    "from PIL import Image\n",
    "\n",
    "# make gif\n",
    "#--------------------------\n",
    "def crop_img(im):\n",
    "    width, height = im.size\n",
    "    left = 9\n",
    "    top =  3\n",
    "    right = width - 3\n",
    "    bottom = height - 9\n",
    "    im = im.crop((left, top, right, bottom))\n",
    "    return im\n",
    "\n",
    "ifilename = figures_directory + '/6panels*.png'\n",
    "ofilename = figures_directory + '/6panels-jet.gif'\n",
    "imgs = natsorted(glob.glob(ifilename))\n",
    "\n",
    "frames = []\n",
    "for i in imgs:\n",
    "    new_frame = Image.open(i)\n",
    "    frames.append(crop_img(new_frame))\n",
    "\n",
    "frames[0].save(ofilename, format='GIF',\n",
    "               append_images=frames[1:],\n",
    "               save_all=True,\n",
    "               duration=160, loop=0)"
   ]
  }
 ],
 "metadata": {
  "kernelspec": {
   "display_name": "Python 3",
   "language": "python",
   "name": "python3"
  },
  "language_info": {
   "codemirror_mode": {
    "name": "ipython",
    "version": 3
   },
   "file_extension": ".py",
   "mimetype": "text/x-python",
   "name": "python",
   "nbconvert_exporter": "python",
   "pygments_lexer": "ipython3",
   "version": "3.6.8"
  }
 },
 "nbformat": 4,
 "nbformat_minor": 5
}
