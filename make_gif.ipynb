{
 "cells": [
  {
   "cell_type": "code",
   "execution_count": null,
   "id": "1791ee70",
   "metadata": {},
   "outputs": [],
   "source": [
    "import glob\n",
    "import os\n",
    "from natsort import natsorted\n",
    "from postprocessing import *"
   ]
  },
  {
   "cell_type": "code",
   "execution_count": null,
   "id": "9e8b21cf",
   "metadata": {},
   "outputs": [],
   "source": [
    "density = 100\n",
    "jetpower = 41\n",
    "mach = 4"
   ]
  },
  {
   "cell_type": "code",
   "execution_count": null,
   "id": "9eadaf3d",
   "metadata": {},
   "outputs": [],
   "source": [
    "simulation_directory_jet = str(f'/n/holystore01/LABS/hernquist_lab/Users/borodina/turb_drive_center_d{density}_m{mach}/jet{jetpower}_early')\n",
    "output_directory_jet = simulation_directory_jet + \"/output/\"\n",
    "figures_directory_jet = simulation_directory_jet + \"/output/figures/\"\n",
    "\n",
    "# simulation_directory_turb = str(f'/n/holyscratch01/hernquist_lab/borodina/turb_drive_center_d{density}_m{mach}/turb')\n",
    "# output_directory_turb = simulation_directory_turb + \"/output/\"\n",
    "# figures_directory_turb = simulation_directory_turb + \"/output/figures/\""
   ]
  },
  {
   "cell_type": "markdown",
   "id": "3dc09e68",
   "metadata": {},
   "source": [
    "## make pictures"
   ]
  },
  {
   "cell_type": "code",
   "execution_count": null,
   "id": "87cc5b30",
   "metadata": {},
   "outputs": [],
   "source": [
    "# find initial snapshot number n0 and its time t0\n",
    "n0_jet = int(natsorted(glob.glob(output_directory_jet +'snap*.hdf5'))[0].split('snap_')[-1][:3])\n",
    "snap_data = h5py.File(output_directory_jet + \"snap_%03d.hdf5\" % (n0_jet), \"r\")\n",
    "t0_jet = get_time_from_snap(snap_data) * unit_time_in_megayr\n",
    "\n",
    "# n0_turb = int(natsorted(glob.glob(output_directory_turb +'snap*.hdf5'))[0].split('snap_')[-1][:3])\n",
    "# snap_data = h5py.File(output_directory_turb + \"snap_%03d.hdf5\" % (n0_turb), \"r\")\n",
    "# t0_turb = get_time_from_snap(snap_data) * unit_time_in_megayr"
   ]
  },
  {
   "cell_type": "code",
   "execution_count": null,
   "id": "f5a2bc0b",
   "metadata": {},
   "outputs": [],
   "source": [
    "# !ls /n/holyscratch01/hernquist_lab/borodina/turb_drive_center_d100_m4/jet42_early/output/"
   ]
  },
  {
   "cell_type": "code",
   "execution_count": null,
   "id": "dd8287c2",
   "metadata": {},
   "outputs": [],
   "source": [
    "# !mkdir /n/holyscratch01/hernquist_lab/borodina/turb_drive_center_d100_m8/turb/output/figures"
   ]
  },
  {
   "cell_type": "code",
   "execution_count": null,
   "id": "16b1dfe6",
   "metadata": {},
   "outputs": [],
   "source": [
    "i_file =  n0_jet # skip snap 0\n",
    "while True:\n",
    "    i_file += 1\n",
    "    filename = \"snap_%03d.hdf5\" % (n0_jet + i_file)\n",
    "    try:\n",
    "        snap_data = h5py.File(output_directory_jet + filename, \"r\")\n",
    "    except:\n",
    "        break\n",
    "    fig, ax = plt.subplots(2, 2, figsize=(8, 6.1))\n",
    "    fig.tight_layout(w_pad=7.0, h_pad=3.0)\n",
    "    plot_dens_vel(ax[0][0], output_directory_jet + \"snap_%03d.hdf5\" % (n0_jet + i_file), t0=t0_jet)\n",
    "    plot_temp_vel(ax[0][1], output_directory_jet + \"snap_%03d.hdf5\" % (n0_jet + i_file), t0=t0_jet)\n",
    "    plot_pressure(ax[1][0], output_directory_jet + \"snap_%03d.hdf5\" % (n0_jet + i_file), t0=t0_jet)\n",
    "    plot_jet_tracer(ax[1][1], output_directory_jet + \"snap_%03d.hdf5\" % (n0_jet + i_file), t0=t0_jet)\n",
    "    \n",
    "    plt.savefig(figures_directory_jet + f'4panels_{n0_jet + i_file}.png', dpi=300, bbox_inches='tight')\n",
    "    plt.close()"
   ]
  },
  {
   "cell_type": "code",
   "execution_count": null,
   "id": "55d6e53d",
   "metadata": {},
   "outputs": [],
   "source": [
    "# ################# turb:\n",
    "\n",
    "# i_file =  n0_turb # skip snap 0\n",
    "# while True:\n",
    "#     i_file += 1\n",
    "#     filename = \"snap_%03d.hdf5\" % (n0_jet + i_file)\n",
    "#     try:\n",
    "#         snap_data = h5py.File(output_directory_turb + filename, \"r\")\n",
    "#     except:\n",
    "#         break\n",
    "#     fig, ax = plt.subplots(2, 2, figsize=(8, 6.1))\n",
    "#     fig.tight_layout(w_pad=7.0, h_pad=3.0)\n",
    "#     plot_dens_vel(ax[0][0], output_directory_turb + \"snap_%03d.hdf5\" % (n0_turb + i_file), t0=t0_turb)\n",
    "#     plot_temp_vel(ax[0][1], output_directory_turb + \"snap_%03d.hdf5\" % (n0_turb + i_file), t0=t0_turb)\n",
    "#     plot_pressure(ax[1][0], output_directory_turb + \"snap_%03d.hdf5\" % (n0_turb + i_file), t0=t0_turb)\n",
    "# #     plot_jet_tracer(ax[1][1], output_directory_turb + \"snap_%03d.hdf5\" % (n0_turb + i_file), t0=t0_turb)\n",
    "    \n",
    "#     plt.savefig(figures_directory_turb + f'4panels_{n0_jet + i_file}.png', dpi=300, bbox_inches='tight')\n",
    "#     plt.close()"
   ]
  },
  {
   "cell_type": "code",
   "execution_count": null,
   "id": "f1cb8905",
   "metadata": {},
   "outputs": [],
   "source": [
    "# density xz\n",
    "\n",
    "i_file = n0_jet - 1 # skip snap 0\n",
    "while True:\n",
    "    i_file += 1\n",
    "    filename = \"snap_%03d.hdf5\" % (i_file)\n",
    "    try:\n",
    "        snap_data = h5py.File(output_directory_jet + filename, \"r\")\n",
    "    except:\n",
    "        break\n",
    "    fig, ax = plt.subplots(figsize=(6,7))\n",
    "    plot_dens_xz(ax, output_directory_jet + filename, t0=t0_jet)\n",
    "    plt.savefig(figures_directory_jet + f'density_xz_{i_file}.png', dpi=300, bbox_inches='tight')\n",
    "    plt.close()"
   ]
  },
  {
   "cell_type": "code",
   "execution_count": null,
   "id": "6f32587d",
   "metadata": {},
   "outputs": [],
   "source": [
    "# density\n",
    "\n",
    "i_file = n0_turb # skip snap 0\n",
    "while True:\n",
    "    i_file += 1\n",
    "    filename = \"snap_%03d.hdf5\" % (i_file)\n",
    "    try:\n",
    "        snap_data = h5py.File(output_directory_turb + filename, \"r\")\n",
    "    except:\n",
    "        break\n",
    "    fig, ax = plt.subplots(figsize=(6,7))\n",
    "    plot_dens_vel(ax, output_directory_turb + filename, t0=t0_turb)\n",
    "    plt.savefig(figures_directory_turb + f'density_{i_file}.png', dpi=300, bbox_inches='tight')\n",
    "    plt.close()"
   ]
  },
  {
   "cell_type": "code",
   "execution_count": null,
   "id": "0a32d67c",
   "metadata": {},
   "outputs": [],
   "source": [
    "# temperature\n",
    "\n",
    "i_file = n0 - 1  # skip snap 0\n",
    "while True:\n",
    "    i_file += 1\n",
    "    filename = \"snap_%03d.hdf5\" % (i_file)\n",
    "    try:\n",
    "        snap_data = h5py.File(output_directory + filename, \"r\")\n",
    "    except:\n",
    "        break\n",
    "    fig, ax = plt.subplots(figsize=(6,7))\n",
    "    plot_temp_vel(ax, output_directory + filename, t0=t0)\n",
    "    plt.savefig(figures_directory + f'temperature_{i_file}.png', dpi=300, bbox_inches='tight')\n",
    "    plt.close()"
   ]
  },
  {
   "cell_type": "markdown",
   "id": "9e2df66c",
   "metadata": {},
   "source": [
    "## make gif"
   ]
  },
  {
   "cell_type": "code",
   "execution_count": null,
   "id": "9d2c89b1",
   "metadata": {},
   "outputs": [],
   "source": [
    "from PIL import Image\n",
    "\n",
    "# make gif\n",
    "#--------------------------\n",
    "def crop_img(im):\n",
    "    width, height = im.size\n",
    "    left = 9\n",
    "    top =  3\n",
    "    right = width - 3\n",
    "    bottom = height - 9\n",
    "    im = im.crop((left, top, right, bottom))\n",
    "    return im\n",
    "\n",
    "ifilename = figures_directory_jet + '/4panels*.png'\n",
    "ofilename = figures_directory_jet + '/4panels-jet.gif'\n",
    "imgs = natsorted(glob.glob(ifilename))\n",
    "\n",
    "frames = []\n",
    "for i in imgs:\n",
    "    new_frame = Image.open(i)\n",
    "    frames.append(crop_img(new_frame))\n",
    "\n",
    "frames[0].save(ofilename, format='GIF',\n",
    "               append_images=frames[1:],\n",
    "               save_all=True,\n",
    "               duration=140, loop=0)"
   ]
  },
  {
   "cell_type": "code",
   "execution_count": null,
   "id": "358c14d1",
   "metadata": {},
   "outputs": [],
   "source": []
  }
 ],
 "metadata": {
  "kernelspec": {
   "display_name": "Python 3",
   "language": "python",
   "name": "python3"
  },
  "language_info": {
   "codemirror_mode": {
    "name": "ipython",
    "version": 3
   },
   "file_extension": ".py",
   "mimetype": "text/x-python",
   "name": "python",
   "nbconvert_exporter": "python",
   "pygments_lexer": "ipython3",
   "version": "3.6.8"
  }
 },
 "nbformat": 4,
 "nbformat_minor": 5
}
