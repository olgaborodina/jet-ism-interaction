{
 "cells": [
  {
   "cell_type": "code",
   "execution_count": null,
   "id": "1791ee70",
   "metadata": {},
   "outputs": [],
   "source": [
    "import glob\n",
    "import os\n",
    "from natsort import natsorted\n",
    "from postprocessing import *"
   ]
  },
  {
   "cell_type": "code",
   "execution_count": null,
   "id": "9eadaf3d",
   "metadata": {},
   "outputs": [],
   "source": [
    "simulation_directory = str('/n/holyscratch01/hernquist_lab/borodina/turb_drive_cooling_dense/turb_alter')\n",
    "output_directory = simulation_directory+\"/output/\"\n",
    "figures_directory = simulation_directory + \"/output/figures/\""
   ]
  },
  {
   "cell_type": "markdown",
   "id": "3dc09e68",
   "metadata": {},
   "source": [
    "## make pictures"
   ]
  },
  {
   "cell_type": "code",
   "execution_count": null,
   "id": "87cc5b30",
   "metadata": {},
   "outputs": [],
   "source": [
    "# find initial snapshot number n0 and its time t0\n",
    "n0 = int(natsorted(glob.glob(output_directory +'snap*.hdf5'))[0].split('snap_')[-1][:3])\n",
    "snap_data = h5py.File(output_directory + \"snap_%03d.hdf5\" % (n0), \"r\")\n",
    "t0 = get_time_from_snap(snap_data) * unit_time_in_megayr"
   ]
  },
  {
   "cell_type": "code",
   "execution_count": null,
   "id": "f1cb8905",
   "metadata": {},
   "outputs": [],
   "source": [
    "# density\n",
    "\n",
    "i_file = n0 - 1 # skip snap 0\n",
    "while True:\n",
    "    i_file += 1\n",
    "    filename = \"snap_%03d.hdf5\" % (i_file)\n",
    "    try:\n",
    "        snap_data = h5py.File(output_directory + filename, \"r\")\n",
    "    except:\n",
    "        break\n",
    "    fig, ax = plt.subplots(figsize=(6,7))\n",
    "    plot_dens_vel(ax, output_directory + filename, t0=t0)\n",
    "    plt.savefig(figures_directory + f'density_{i_file}.png', dpi=300, bbox_inches='tight')\n",
    "    plt.close()"
   ]
  },
  {
   "cell_type": "code",
   "execution_count": null,
   "id": "0a32d67c",
   "metadata": {},
   "outputs": [],
   "source": [
    "# temperature\n",
    "\n",
    "i_file = n0 - 1  # skip snap 0\n",
    "while True:\n",
    "    i_file += 1\n",
    "    filename = \"snap_%03d.hdf5\" % (i_file)\n",
    "    try:\n",
    "        snap_data = h5py.File(output_directory + filename, \"r\")\n",
    "    except:\n",
    "        break\n",
    "    fig, ax = plt.subplots(figsize=(6,7))\n",
    "    plot_temp_vel(ax, output_directory + filename, t0=t0)\n",
    "    plt.savefig(figures_directory + f'temperature_{i_file}.png', dpi=300, bbox_inches='tight')\n",
    "    plt.close()"
   ]
  },
  {
   "cell_type": "markdown",
   "id": "9e2df66c",
   "metadata": {},
   "source": [
    "## make gif"
   ]
  },
  {
   "cell_type": "code",
   "execution_count": null,
   "id": "9d2c89b1",
   "metadata": {},
   "outputs": [],
   "source": [
    "from PIL import Image\n",
    "\n",
    "# make gif\n",
    "#--------------------------\n",
    "def crop_img(im):\n",
    "    width, height = im.size\n",
    "    left = 9\n",
    "    top =  3\n",
    "    right = width - 3\n",
    "    bottom = height - 9\n",
    "    im = im.crop((left, top, right, bottom))\n",
    "    return im\n",
    "\n",
    "\n",
    "image_dir = str('/n/holyscratch01/hernquist_lab/borodina/turb_drive_cooling_dense/jet/output/figures')\n",
    "\n",
    "ifilename = image_dir+'/density*.png'\n",
    "ofilename = image_dir+'/density-jet.gif'\n",
    "imgs = natsorted(glob.glob(ifilename))\n",
    "\n",
    "frames = []\n",
    "for i in imgs:\n",
    "    new_frame = Image.open(i)\n",
    "    frames.append(crop_img(new_frame))\n",
    "\n",
    "frames[0].save(ofilename, format='GIF',\n",
    "               append_images=frames[1:],\n",
    "               save_all=True,\n",
    "               duration=70, loop=0)"
   ]
  },
  {
   "cell_type": "code",
   "execution_count": null,
   "id": "9adf55ed",
   "metadata": {},
   "outputs": [],
   "source": []
  }
 ],
 "metadata": {
  "kernelspec": {
   "display_name": "Python 3",
   "language": "python",
   "name": "python3"
  },
  "language_info": {
   "codemirror_mode": {
    "name": "ipython",
    "version": 3
   },
   "file_extension": ".py",
   "mimetype": "text/x-python",
   "name": "python",
   "nbconvert_exporter": "python",
   "pygments_lexer": "ipython3",
   "version": "3.6.8"
  }
 },
 "nbformat": 4,
 "nbformat_minor": 5
}
