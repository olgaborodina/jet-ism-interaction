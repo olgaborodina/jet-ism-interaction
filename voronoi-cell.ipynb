{
 "cells": [
  {
   "cell_type": "code",
   "execution_count": null,
   "id": "f4f64a6d-dade-46bf-8ce9-828a57232e1c",
   "metadata": {},
   "outputs": [],
   "source": [
    "import glob\n",
    "import os\n",
    "from natsort import natsorted\n",
    "from postprocessing import *\n",
    "from scipy.spatial import Voronoi, voronoi_plot_2d"
   ]
  },
  {
   "cell_type": "code",
   "execution_count": null,
   "id": "3578d023-040f-41eb-ae9b-b1d065c2502f",
   "metadata": {},
   "outputs": [],
   "source": [
    "mpl.rcParams['figure.dpi']= 200"
   ]
  },
  {
   "cell_type": "code",
   "execution_count": null,
   "id": "70736230-cd0f-40ab-9387-57c1136a1e68",
   "metadata": {},
   "outputs": [],
   "source": [
    "density = 10\n",
    "mach = 8\n",
    "jetpower = 43\n",
    "start = '15'"
   ]
  },
  {
   "cell_type": "code",
   "execution_count": null,
   "id": "1e117373-ded5-4fbd-9bc6-835184e2a85e",
   "metadata": {},
   "outputs": [],
   "source": [
    "simulation_directory = str(f'/n/holylfs05/LABS/hernquist_lab/Users/borodina/2kpc/turb_jet_d{density}_m{mach}/jet{jetpower}_{start}')\n",
    "output_directory = simulation_directory + \"/output/\"\n",
    "figures_directory = simulation_directory + \"/output/figures/\""
   ]
  },
  {
   "cell_type": "code",
   "execution_count": null,
   "id": "b9d3155f-012f-4c7a-916d-30466cf8ae92",
   "metadata": {},
   "outputs": [],
   "source": [
    "i_file = 14\n",
    "filename = \"snap_%03d.hdf5\" % (i_file)\n",
    "snap_data = h5py.File(output_directory + filename, \"r\")"
   ]
  },
  {
   "cell_type": "code",
   "execution_count": null,
   "id": "4ca8fcd7-c74e-4cd1-812a-1e241dc60e8c",
   "metadata": {},
   "outputs": [],
   "source": [
    "x, y = np.linspace(500, 1500, 40), np.linspace(500, 1500, 40)\n",
    "X, Y = np.meshgrid(x, y)\n",
    "fixed_grid = np.array([X.flatten(), Y.flatten()]).T"
   ]
  },
  {
   "cell_type": "code",
   "execution_count": null,
   "id": "a375f987-0f27-47a4-8941-e610884ff057",
   "metadata": {},
   "outputs": [],
   "source": [
    "x, y, z = snap_data['PartType0/Coordinates'][:].T\n",
    "vx, vy, vz = snap_data['PartType0/Velocities'][:].T\n",
    "center = 0.5 * 2000\n",
    "mask_slice = (z > center) & (z < center + 30) & (x > center - 500) & (x < center + 500) & (y > center - 500) & (y < center + 500)"
   ]
  },
  {
   "cell_type": "code",
   "execution_count": null,
   "id": "c027ec82-6dfb-4c9b-b20b-762b7ab1a420",
   "metadata": {},
   "outputs": [],
   "source": [
    "dataset = Voronoi(snap_data['PartType0/Coordinates'][:, 0:2][mask_slice])\n",
    "#dataset = Voronoi(fixed_grid)"
   ]
  },
  {
   "cell_type": "code",
   "execution_count": null,
   "id": "d489864d-aec9-467a-ae6e-a6fcc16c90d7",
   "metadata": {},
   "outputs": [],
   "source": [
    "fig = voronoi_plot_2d(dataset, show_vertices=False, line_colors='black',\n",
    "                      line_width=1, line_alpha=0.6, point_size=0)\n",
    "plt.xlim(500, 1500)\n",
    "plt.ylim(500, 1500)\n",
    "plt.gca().set_aspect('equal')\n",
    "\n",
    "plt.xlabel('x, pc')\n",
    "plt.ylabel('y, pc')\n",
    "\n",
    "plt.show()"
   ]
  },
  {
   "cell_type": "code",
   "execution_count": null,
   "id": "4a3a66b9-b6b9-493a-b842-1dfe7b419979",
   "metadata": {},
   "outputs": [],
   "source": [
    "xs = [14, 24, 43, 47, 54, 66, 74, 89, 12,\n",
    "      44, 1, 2, 23, 34.2, 15, 9.2, 8, 17, 6, 5]\n",
    " \n",
    "ys = [0, 1, 2.6, 3, 6.4, 5.6, 6, 7, 8, 9.2, 6, 6.3,\n",
    "      5, 2, 4.7, 1, 8, 7.7, 7, 5]\n",
    " "
   ]
  },
  {
   "cell_type": "code",
   "execution_count": null,
   "id": "c05d3e55-6b2e-4a18-9c17-ea51e896ffc2",
   "metadata": {},
   "outputs": [],
   "source": [
    "fig, ax = plt.subplots(figsize=(7, 5))\n",
    "ax.scatter(xs, ys, c='black', s=13)"
   ]
  },
  {
   "cell_type": "code",
   "execution_count": null,
   "id": "0ff104c3-bf8a-4e19-99dd-353b43abe531",
   "metadata": {},
   "outputs": [],
   "source": []
  },
  {
   "cell_type": "code",
   "execution_count": null,
   "id": "48bfd767-46e7-4e0d-91c2-1e842aa78f82",
   "metadata": {},
   "outputs": [],
   "source": []
  }
 ],
 "metadata": {
  "kernelspec": {
   "display_name": "Python 3 (ipykernel)",
   "language": "python",
   "name": "python3"
  },
  "language_info": {
   "codemirror_mode": {
    "name": "ipython",
    "version": 3
   },
   "file_extension": ".py",
   "mimetype": "text/x-python",
   "name": "python",
   "nbconvert_exporter": "python",
   "pygments_lexer": "ipython3",
   "version": "3.6.8"
  }
 },
 "nbformat": 4,
 "nbformat_minor": 5
}
