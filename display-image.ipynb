{
 "cells": [
  {
   "cell_type": "markdown",
   "id": "f834f896",
   "metadata": {},
   "source": [
    "this notebook is used to plot images and gifs! also you can use the last cell for easier copy-paste from the server"
   ]
  },
  {
   "cell_type": "code",
   "execution_count": null,
   "id": "417c1110",
   "metadata": {},
   "outputs": [],
   "source": [
    "from IPython.display import Image"
   ]
  },
  {
   "cell_type": "code",
   "execution_count": null,
   "id": "e1f24e8d",
   "metadata": {},
   "outputs": [],
   "source": [
    "density = '20'\n",
    "mach    = '2'\n",
    "jet     = '40'\n",
    "stage   = '25'"
   ]
  },
  {
   "cell_type": "code",
   "execution_count": null,
   "id": "0a0ee83a",
   "metadata": {},
   "outputs": [],
   "source": [
    "directory = f'/n/holylfs05/LABS/hernquist_lab/Users/borodina/2kpc/turb_jet_d{density}_m{mach}/jet{jet}_{stage}/output/figures/'\n",
    "#directory = f'/n/holylfs05/LABS/hernquist_lab/Users/borodina/2kpc/turb_jet_d{density}_m{mach}/turb/output/figures/'"
   ]
  },
  {
   "cell_type": "code",
   "execution_count": null,
   "id": "1cfabef9",
   "metadata": {
    "scrolled": true
   },
   "outputs": [],
   "source": [
    "!ls {directory}"
   ]
  },
  {
   "cell_type": "code",
   "execution_count": null,
   "id": "cd43d8cf",
   "metadata": {},
   "outputs": [],
   "source": [
    "filename = 'gaepsi_1000_100-jet.gif'"
   ]
  },
  {
   "cell_type": "code",
   "execution_count": null,
   "id": "a3af7c71",
   "metadata": {},
   "outputs": [],
   "source": [
    "Image(f'{directory}/{filename}')"
   ]
  },
  {
   "cell_type": "code",
   "execution_count": null,
   "id": "27b5e964",
   "metadata": {
    "scrolled": true
   },
   "outputs": [],
   "source": [
    "f'borodina@login.rc.fas.harvard.edu:{directory}/{filename}'"
   ]
  }
 ],
 "metadata": {
  "kernelspec": {
   "display_name": "Python 3 (ipykernel)",
   "language": "python",
   "name": "python3"
  },
  "language_info": {
   "codemirror_mode": {
    "name": "ipython",
    "version": 3
   },
   "file_extension": ".py",
   "mimetype": "text/x-python",
   "name": "python",
   "nbconvert_exporter": "python",
   "pygments_lexer": "ipython3",
   "version": "3.6.8"
  }
 },
 "nbformat": 4,
 "nbformat_minor": 5
}
