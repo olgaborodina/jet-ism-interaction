{
 "cells": [
  {
   "cell_type": "markdown",
   "id": "f834f896",
   "metadata": {},
   "source": [
    "this notebook is used to plot images and gifs! also you can use the last cell for easier copy-paste from the server"
   ]
  },
  {
   "cell_type": "code",
   "execution_count": null,
   "id": "417c1110",
   "metadata": {},
   "outputs": [],
   "source": [
    "from IPython.display import Image"
   ]
  },
  {
   "cell_type": "code",
   "execution_count": null,
   "id": "e1f24e8d",
   "metadata": {},
   "outputs": [],
   "source": [
    "density = '30'\n",
    "mach    = '8'\n",
    "jet     = '43'\n",
    "stage   = 'early'"
   ]
  },
  {
   "cell_type": "code",
   "execution_count": null,
   "id": "0a0ee83a",
   "metadata": {},
   "outputs": [],
   "source": [
    "directory = f'/n/holystore01/LABS/hernquist_lab/Users/borodina/turb_drive_center_d{density}_m{mach}/jet{jet}_{stage}/output/figures/'\n",
    "#directory = f'/n/holystore01/LABS/hernquist_lab/Users/borodina/turb_drive_center_d{density}_m{mach}/turb/output/figures/'"
   ]
  },
  {
   "cell_type": "code",
   "execution_count": null,
   "id": "1cfabef9",
   "metadata": {
    "scrolled": true
   },
   "outputs": [],
   "source": [
    "!ls {directory}"
   ]
  },
  {
   "cell_type": "code",
   "execution_count": null,
   "id": "cd43d8cf",
   "metadata": {},
   "outputs": [],
   "source": [
    "filename = 'massflux_mollview_radial_hot_5-jet.gif'"
   ]
  },
  {
   "cell_type": "code",
   "execution_count": null,
   "id": "892c5e5d",
   "metadata": {},
   "outputs": [],
   "source": [
    "Image(f'{directory}/{filename}')"
   ]
  },
  {
   "cell_type": "code",
   "execution_count": null,
   "id": "27b5e964",
   "metadata": {},
   "outputs": [],
   "source": [
    "f'borodina@login.rc.fas.harvard.edu:{directory}/{filename}'"
   ]
  },
  {
   "cell_type": "code",
   "execution_count": null,
   "id": "3bc394c6",
   "metadata": {},
   "outputs": [],
   "source": []
  }
 ],
 "metadata": {
  "kernelspec": {
   "display_name": "Python 3",
   "language": "python",
   "name": "python3"
  },
  "language_info": {
   "codemirror_mode": {
    "name": "ipython",
    "version": 3
   },
   "file_extension": ".py",
   "mimetype": "text/x-python",
   "name": "python",
   "nbconvert_exporter": "python",
   "pygments_lexer": "ipython3",
   "version": "3.6.8"
  }
 },
 "nbformat": 4,
 "nbformat_minor": 5
}
