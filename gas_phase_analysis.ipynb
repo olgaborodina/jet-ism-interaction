{
 "cells": [
  {
   "cell_type": "markdown",
   "id": "7ebfdb65",
   "metadata": {},
   "source": [
    "this notebook can be messy but it is for gas phase analysis like temperature histograms and 2D phase diagrams"
   ]
  },
  {
   "cell_type": "code",
   "execution_count": null,
   "id": "fe2214f7",
   "metadata": {},
   "outputs": [],
   "source": [
    "from postprocessing import *\n",
    "import scipy as scp"
   ]
  },
  {
   "cell_type": "code",
   "execution_count": null,
   "id": "6c2c43da",
   "metadata": {},
   "outputs": [],
   "source": [
    "mpl.rcParams['figure.dpi']= 200"
   ]
  },
  {
   "cell_type": "code",
   "execution_count": null,
   "id": "94595a1b",
   "metadata": {},
   "outputs": [],
   "source": [
    "density = 20\n",
    "mach = 8\n",
    "jetpower = 38\n",
    "start = '15'"
   ]
  },
  {
   "cell_type": "code",
   "execution_count": null,
   "id": "3bda3973",
   "metadata": {},
   "outputs": [],
   "source": [
    "simulation_directory = str(f'/n/holylfs05/LABS/hernquist_lab/Users/borodina/2kpc/turb_jet_d{density}_m{mach}/jet{jetpower}_{start}')\n",
    "output_directory = simulation_directory + \"/output/\"\n",
    "figures_directory = simulation_directory + \"/output/figures/\"\n",
    "\n",
    "# simulation_directory = str(f'/n/holystore01/LABS/hernquist_lab/Users/borodina/2kpc/turb_drive_center_d{density}_m{mach}/turb/')\n",
    "# output_directory = simulation_directory + \"/output/\"\n",
    "# figures_directory = simulation_directory + \"/output/figures/\""
   ]
  },
  {
   "cell_type": "code",
   "execution_count": null,
   "id": "b8faae6e",
   "metadata": {},
   "outputs": [],
   "source": [
    "t_bins = np.linspace(3.3, 11.2, 151)"
   ]
  },
  {
   "cell_type": "code",
   "execution_count": null,
   "id": "824f2414",
   "metadata": {},
   "outputs": [],
   "source": [
    "i_file = 1\n",
    "filename = \"snap_%03d.hdf5\" % (i_file)\n",
    "snapshot = h5py.File(output_directory +  \"snap_%03d.hdf5\" % (i_file),'r')"
   ]
  },
  {
   "cell_type": "code",
   "execution_count": null,
   "id": "c89e7c05",
   "metadata": {},
   "outputs": [],
   "source": [
    "snapshot['PartType0/Masses'][:].mean()"
   ]
  },
  {
   "cell_type": "markdown",
   "id": "6386fcdf",
   "metadata": {},
   "source": [
    "## temperature histogram"
   ]
  },
  {
   "cell_type": "code",
   "execution_count": null,
   "id": "a3481b74",
   "metadata": {},
   "outputs": [],
   "source": [
    "simulation_directory = str(f'/n/holylfs05/LABS/hernquist_lab/Users/borodina/2kpc/turb_jet_d{density}_m{mach}/turb')\n",
    "output_directory = simulation_directory + \"/output/\"\n",
    "figures_directory = simulation_directory + \"/output/figures/\""
   ]
  },
  {
   "cell_type": "code",
   "execution_count": null,
   "id": "c7c08a97",
   "metadata": {},
   "outputs": [],
   "source": [
    "################## 1\n",
    "i_file = 1\n",
    "filename = \"snap_%03d.hdf5\" % (i_file)\n",
    "snapshot = h5py.File(output_directory +  \"snap_%03d.hdf5\" % (i_file),'r')\n",
    "\n",
    "time_1 = get_time_from_snap(snapshot)\n",
    "masses_1 = snapshot['PartType0/Masses'][:]\n",
    "temperatures_1 = get_temp(output_directory + filename, 5/3)\n",
    "\n",
    "\n",
    "################## 2\n",
    "i_file = 3\n",
    "filename = \"snap_%03d.hdf5\" % (i_file)\n",
    "snapshot = h5py.File(output_directory +  \"snap_%03d.hdf5\" % (i_file),'r')\n",
    "\n",
    "time_2 = get_time_from_snap(snapshot)\n",
    "masses_2 = snapshot['PartType0/Masses'][:]\n",
    "temperatures_2 = get_temp(output_directory + filename, 5/3)\n",
    "\n",
    "\n",
    "################## 12\n",
    "i_file = 12\n",
    "filename = \"snap_%03d.hdf5\" % (i_file)\n",
    "snapshot = h5py.File(output_directory +  \"snap_%03d.hdf5\" % (i_file),'r')\n",
    "\n",
    "time_12 = get_time_from_snap(snapshot)\n",
    "masses_12 = snapshot['PartType0/Masses'][:]\n",
    "densities_12 = snapshot['PartType0/Density'][:]\n",
    "temperatures_12 = get_temp(output_directory + filename, 5/3)\n"
   ]
  },
  {
   "cell_type": "code",
   "execution_count": null,
   "id": "97182388",
   "metadata": {},
   "outputs": [],
   "source": [
    "fig, ax = plt.subplots(figsize=(6, 4))\n",
    "plt.hist(np.log10(temperatures_1), weights=masses_1, density=False, \n",
    "         bins=t_bins, alpha=0.9, linewidth=2., color='tab:blue', label=\"t=%.2f Myr\"%(time_1 * unit_time_in_megayr))\n",
    "plt.hist(np.log10(temperatures_2), weights=masses_2, density=False, \n",
    "         bins=t_bins,  alpha=0.6, linewidth=2., color='tab:green', label=\"t=%.2f Myr\"%(time_2 * unit_time_in_megayr))\n",
    "plt.hist(np.log10(temperatures_12), weights=masses_12, density=False, \n",
    "         bins=t_bins,  alpha=0.6, linewidth=2., color='tab:orange', label=\"t=%.2f Myr\"%(time_12 * unit_time_in_megayr))\n",
    "plt.axvline(4.45, c='black', label='log T = 4.45')\n",
    "plt.legend(fontsize=12)\n",
    "plt.xlim(t_bins.min(), 9)# t_bins.max()\n",
    "plt.ylim(1, 1e10)\n",
    "\n",
    "plt.grid(ls='--', c='gray', alpha=0.2, zorder=100)\n",
    "plt.yscale('log')\n",
    "plt.xlabel(\"log T [K]\", fontsize=15)\n",
    "plt.ylabel(r\"Mass [$M_\\odot$]\", fontsize=15)"
   ]
  },
  {
   "cell_type": "code",
   "execution_count": null,
   "id": "a166e601",
   "metadata": {},
   "outputs": [],
   "source": []
  },
  {
   "cell_type": "code",
   "execution_count": null,
   "id": "dc6d3aaa",
   "metadata": {},
   "outputs": [],
   "source": [
    "simulation_directory = str(f'/n/holylfs05/LABS/hernquist_lab/Users/borodina/2kpc/turb_jet_d{density}_m{mach}/jet{jetpower}_{start}')\n",
    "output_directory = simulation_directory + \"/output/\"\n",
    "figures_directory = simulation_directory + \"/output/figures/\""
   ]
  },
  {
   "cell_type": "code",
   "execution_count": null,
   "id": "8d75ce4d",
   "metadata": {},
   "outputs": [],
   "source": [
    "################## 3\n",
    "i_file = 5+12\n",
    "filename = \"snap_%03d.hdf5\" % (i_file)\n",
    "snapshot = h5py.File(output_directory +  \"snap_%03d.hdf5\" % (i_file),'r')\n",
    "\n",
    "time_3 = get_time_from_snap(snapshot)\n",
    "masses_3 = snapshot['PartType0/Masses'][:]\n",
    "densities_3 = snapshot['PartType0/Density'][:]\n",
    "temperatures_3 = get_temp(output_directory + filename, 5/3)\n",
    "\n",
    "\n",
    "################## 5\n",
    "i_file = 3+12\n",
    "filename = \"snap_%03d.hdf5\" % (i_file)\n",
    "snapshot = h5py.File(output_directory +  \"snap_%03d.hdf5\" % (i_file),'r')\n",
    "\n",
    "time_5 = get_time_from_snap(snapshot)\n",
    "masses_5 = snapshot['PartType0/Masses'][:]\n",
    "densities_5 = snapshot['PartType0/Density'][:]\n",
    "temperatures_5 = get_temp(output_directory + filename, 5/3)\n",
    "\n",
    "\n",
    "################## 15\n",
    "i_file = 88+12\n",
    "filename = \"snap_%03d.hdf5\" % (i_file)\n",
    "snapshot = h5py.File(output_directory +  \"snap_%03d.hdf5\" % (i_file),'r')\n",
    "\n",
    "time_15 = get_time_from_snap(snapshot)\n",
    "masses_15 = snapshot['PartType0/Masses'][:]\n",
    "densities_15 = snapshot['PartType0/Density'][:]\n",
    "temperatures_15 = get_temp(output_directory + filename, 5/3)"
   ]
  },
  {
   "cell_type": "code",
   "execution_count": null,
   "id": "82f6c328",
   "metadata": {},
   "outputs": [],
   "source": [
    "fig, ax = plt.subplots(figsize=(6, 4))\n",
    "plt.hist(np.log10(temperatures_12), weights=masses_12, density=False, bins=t_bins, alpha=0.7, label=\"before jet\")\n",
    "plt.hist(np.log10(temperatures_3), weights=masses_3, density=False, color='tab:orange',\n",
    "         bins=t_bins, alpha=0.4, label=\"t=%.2f Myr\"%(time_3 * unit_time_in_megayr-15))\n",
    "# plt.hist(np.log10(temperatures_5), weights=masses_5, density=False, \n",
    "#          bins=t_bins, alpha=0.4, label=\"t=%.2f Myr\"%(time_5 * unit_time_in_megayr))\n",
    "plt.hist(np.log10(temperatures_15), weights=masses_15, density=False, color='tab:red',\n",
    "         bins=t_bins, alpha=0.4, label=\"t=%.2f Myr\"%(time_15 * unit_time_in_megayr-15))\n",
    "plt.axvline(4.45, c='black', label='log T = 4.45')\n",
    "plt.yscale('log')\n",
    "plt.xlim(t_bins.min(), t_bins.max())\n",
    "plt.ylim(1, 1e10)\n",
    "plt.xlim(t_bins.min(), 9)# t_bins.max()\n",
    "plt.legend(fontsize=12)\n",
    "plt.grid(ls='--', c='gray', alpha=0.2, zorder=100)\n",
    "\n",
    "plt.xlabel(\"log T [K]\", fontsize=15)\n",
    "plt.ylabel(r\"Mass [$M_\\odot$]\", fontsize=15)"
   ]
  },
  {
   "cell_type": "markdown",
   "id": "2160aeae",
   "metadata": {},
   "source": [
    "## temperature histogram for jet tracer"
   ]
  },
  {
   "cell_type": "code",
   "execution_count": null,
   "id": "de58436c",
   "metadata": {},
   "outputs": [],
   "source": [
    "threshold_tracer = 1e-3\n",
    "t_bins = np.linspace(3.3, 11.2, 201)"
   ]
  },
  {
   "cell_type": "code",
   "execution_count": null,
   "id": "042b78dd",
   "metadata": {},
   "outputs": [],
   "source": [
    "simulation_directory = str(f'/n/holystore01/LABS/hernquist_lab/Users/borodina/2kpc/turb_drive_center_d{density}_m{mach}/jet{jetpower}_{start}')\n",
    "output_directory = simulation_directory + \"/output/\"\n",
    "figures_directory = simulation_directory + \"/output/figures/\""
   ]
  },
  {
   "cell_type": "code",
   "execution_count": null,
   "id": "fa182bb7",
   "metadata": {},
   "outputs": [],
   "source": [
    "i_file = 0  # skip snap 0\n",
    "while True:\n",
    "    i_file += 1\n",
    "    filename = \"snap_%03d.hdf5\" % (i_file)\n",
    "    try:\n",
    "        snap_data = h5py.File(output_directory + filename, \"r\")\n",
    "    except:\n",
    "        break\n",
    "    fig, ax = plt.subplots(figsize=(6, 4))\n",
    "    snapshot = h5py.File(output_directory +  \"snap_%03d.hdf5\" % (i_file),'r')\n",
    "\n",
    "    time = get_time_from_snap(snapshot)\n",
    "\n",
    "    tracers = snap_data['PartType0/Jet_Tracer'][:]\n",
    "    \n",
    "    masses = snapshot['PartType0/Masses'][:][tracers < threshold_tracer]\n",
    "    densities = snapshot['PartType0/Density'][:][tracers < threshold_tracer] * rho_to_numdensity\n",
    "    temperatures = get_temp(output_directory + filename, 5/3)[tracers < threshold_tracer]\n",
    "    \n",
    "    masses_jet = snapshot['PartType0/Masses'][:][tracers >= threshold_tracer]\n",
    "    densities_jet = snapshot['PartType0/Density'][:][tracers >= threshold_tracer] * rho_to_numdensity\n",
    "    temperatures_jet = get_temp(output_directory + filename, 5/3)[tracers >= threshold_tracer]\n",
    "    \n",
    "    fig, ax = plt.subplots(figsize=(6, 4))\n",
    "    plt.hist(np.log10(temperatures), weights=masses, density=False, color='tab:blue',\n",
    "         bins=t_bins, alpha=0.5, label=\"ambient medium\")\n",
    "    \n",
    "    plt.hist(np.log10(temperatures_jet), weights=masses_jet, density=False, color='tab:orange',\n",
    "         bins=t_bins, alpha=0.5, label=\"jet tracer\")\n",
    "    \n",
    "    plt.title(\"t=%.2f Myr\"%(time * unit_time_in_megayr))\n",
    "    \n",
    "    plt.axvline(4.45, c='black', label='log T = 4.45')\n",
    "    \n",
    "    plt.yscale('log')\n",
    "    plt.xlim(t_bins.min(), t_bins.max())\n",
    "    plt.ylim(1, 1e10)\n",
    "    plt.legend(fontsize=12)\n",
    "    plt.grid(ls='--', c='gray', alpha=0.2, zorder=100)\n",
    "\n",
    "    plt.xlabel(\"log T [K]\", fontsize=15)\n",
    "    plt.ylabel(r\"Mass [$M_\\odot$]\", fontsize=15)\n",
    "\n",
    "    plt.savefig(figures_directory + f'hist_temperature_jet-tracer_{i_file}.png', dpi=300, bbox_inches='tight')\n",
    "    plt.close()"
   ]
  },
  {
   "cell_type": "code",
   "execution_count": null,
   "id": "b5d916f8",
   "metadata": {},
   "outputs": [],
   "source": [
    "from PIL import Image\n",
    "from natsort import natsorted\n",
    "import glob\n",
    "\n",
    "# make gif\n",
    "#--------------------------\n",
    "def crop_img(im):\n",
    "    width, height = im.size\n",
    "    left = 9\n",
    "    top =  3\n",
    "    right = width - 3\n",
    "    bottom = height - 9\n",
    "    im = im.crop((left, top, right, bottom))\n",
    "    return im\n",
    "\n",
    "ifilename = figures_directory + '/hist_temperature_jet-tracer*.png'\n",
    "ofilename = figures_directory + '/hist_temperature_jet-tracer.gif'\n",
    "imgs = natsorted(glob.glob(ifilename))\n",
    "\n",
    "frames = []\n",
    "\n",
    "timestep=4\n",
    "\n",
    "\n",
    "for i in imgs:\n",
    "    new_frame = Image.open(i)\n",
    "    frames.append(crop_img(new_frame))\n",
    "\n",
    "frames[0].save(ofilename, format='GIF',\n",
    "               append_images=frames[1:],\n",
    "               save_all=True,\n",
    "               duration=len(imgs) * timestep, loop=0)"
   ]
  },
  {
   "cell_type": "code",
   "execution_count": null,
   "id": "d4186f45",
   "metadata": {},
   "outputs": [],
   "source": []
  },
  {
   "cell_type": "markdown",
   "id": "36845620",
   "metadata": {},
   "source": [
    "## phase diagram"
   ]
  },
  {
   "cell_type": "code",
   "execution_count": null,
   "id": "6653747d",
   "metadata": {},
   "outputs": [],
   "source": [
    "simulation_directory = str(f'/n/holylfs05/LABS/hernquist_lab/Users/borodina/2kpc/turb_jet_d{density}_m{mach}/jet{jetpower}_{start}')\n",
    "output_directory = simulation_directory + \"/output/\"\n",
    "figures_directory = simulation_directory + \"/output/figures/\""
   ]
  },
  {
   "cell_type": "code",
   "execution_count": null,
   "id": "1caf2bf8",
   "metadata": {},
   "outputs": [],
   "source": [
    "i_file = 10 \n",
    "filename = \"snap_%03d.hdf5\" % (i_file)\n",
    "snap_data = h5py.File(output_directory + filename, \"r\")\n",
    "\n",
    "fig, ax = plt.subplots(figsize=(6,6))\n",
    "snapshot = h5py.File(output_directory +  \"snap_%03d.hdf5\" % (i_file),'r')\n",
    "\n",
    "time = get_time_from_snap(snapshot)\n",
    "masses = snapshot['PartType0/Masses'][:]\n",
    "densities = snapshot['PartType0/Density'][:] * rho_to_numdensity\n",
    "temperatures = get_temp(output_directory + filename, 5/3)\n",
    "\n",
    "n_electrons = snapshot['PartType0/ElectronAbundance'][:]\n",
    "X = 0.76\n",
    "mu1 = 4 / (3 * X + 1 + 4 * X * n_electrons)\n",
    "temp1 = snapshot['PartType0/InternalEnergy'][:] / ((BOLTZMANN / PROTONMASS) / mu1 / (gamma - 1) / unit_velocity / unit_velocity)\n",
    "\n",
    "# h = ax.hist2d(np.log10(densities), np.log10(temperatures), weights=masses, \n",
    "#               bins=500, density=True, norm=mpl.colors.LogNorm(vmin=1e-8, vmax=1e1))\n",
    "h = ax.hist2d(np.log10(densities), np.log10(temp1), weights=masses, \n",
    "              bins=500, density=True, norm=mpl.colors.LogNorm(vmin=1e-8, vmax=1e1))\n",
    "\n",
    "ax.set_xlabel(r'log $n_H$')\n",
    "ax.set_ylabel('log T')\n",
    "ax.set_title(\"t=%.2f Myr\"%(get_time_from_snap(snap_data) * unit_time_in_megayr))\n",
    "ax.set_xlim(-5, 5)\n",
    "ax.set_ylim(3 , 6.5)\n",
    "\n",
    "plt.colorbar(h[3], ax=ax, )"
   ]
  },
  {
   "cell_type": "code",
   "execution_count": null,
   "id": "8c856abc",
   "metadata": {},
   "outputs": [],
   "source": [
    "i_file = 0  # skip snap 0\n",
    "while True:\n",
    "    i_file += 1\n",
    "    filename = \"snap_%03d.hdf5\" % (i_file)\n",
    "    try:\n",
    "        snap_data = h5py.File(output_directory + filename, \"r\")\n",
    "    except:\n",
    "        break\n",
    "    fig, ax = plt.subplots(figsize=(6,6))\n",
    "    snapshot = h5py.File(output_directory +  \"snap_%03d.hdf5\" % (i_file),'r')\n",
    "\n",
    "    time = get_time_from_snap(snapshot)\n",
    "    masses = snapshot['PartType0/Masses'][:]\n",
    "    densities = snapshot['PartType0/Density'][:] * rho_to_numdensity\n",
    "    temperatures = get_temp(output_directory + filename, 5/3)\n",
    "    \n",
    "    h = ax.hist2d(np.log10(densities), np.log10(temperatures), weights=masses, \n",
    "                  bins=300, density=True, norm=mpl.colors.LogNorm(vmin=1e-8, vmax=5e1))\n",
    "    ax.set_xlabel(r'$n_H$')\n",
    "    ax.set_ylabel('log T')\n",
    "    ax.set_title(\"t=%.2f Myr\"%(get_time_from_snap(snap_data) * unit_time_in_megayr))\n",
    "    ax.set_xlim(-5, 5)\n",
    "    ax.set_ylim(3.2 , 10.5)\n",
    "#     ax.set_xlim(-2, 6)\n",
    "#     ax.set_ylim(3.2, 6.2)\n",
    "    plt.colorbar(h[3], ax=ax)\n",
    "    plt.savefig(figures_directory + f'phasediagram_{i_file}.png', dpi=300, bbox_inches='tight')\n",
    "    plt.close()"
   ]
  },
  {
   "cell_type": "code",
   "execution_count": null,
   "id": "be0f6386",
   "metadata": {},
   "outputs": [],
   "source": [
    "from PIL import Image\n",
    "from natsort import natsorted\n",
    "import glob\n",
    "\n",
    "# make gif\n",
    "#--------------------------\n",
    "def crop_img(im):\n",
    "    width, height = im.size\n",
    "    left = 9\n",
    "    top =  3\n",
    "    right = width - 3\n",
    "    bottom = height - 9\n",
    "    im = im.crop((left, top, right, bottom))\n",
    "    return im\n",
    "\n",
    "ifilename = figures_directory + '/phasediagram_*.png'\n",
    "ofilename = figures_directory + '/phasediagram.gif'\n",
    "imgs = natsorted(glob.glob(ifilename))\n",
    "\n",
    "frames = []\n",
    "for i in imgs:\n",
    "    new_frame = Image.open(i)\n",
    "    frames.append(crop_img(new_frame))\n",
    "\n",
    "frames[0].save(ofilename, format='GIF',\n",
    "               append_images=frames[1:],\n",
    "               save_all=True,\n",
    "               duration=140, loop=0)"
   ]
  },
  {
   "cell_type": "markdown",
   "id": "0b9517fb",
   "metadata": {},
   "source": [
    "## pressure at a boundary"
   ]
  },
  {
   "cell_type": "code",
   "execution_count": null,
   "id": "c7424dec",
   "metadata": {},
   "outputs": [],
   "source": [
    "density = 20\n",
    "mach = 8\n",
    "jetpower = 40\n",
    "start = 'uniform_dilute'"
   ]
  },
  {
   "cell_type": "code",
   "execution_count": null,
   "id": "98b70725",
   "metadata": {},
   "outputs": [],
   "source": [
    "simulation_directory = str(f'/n/holylfs05/LABS/hernquist_lab/Users/borodina/2kpc/turb_jet_d{density}_m{mach}/jet{jetpower}_{start}')\n",
    "output_directory = simulation_directory + \"/output/\"\n",
    "figures_directory = simulation_directory + \"/output/figures/\""
   ]
  },
  {
   "cell_type": "code",
   "execution_count": null,
   "id": "80342876",
   "metadata": {},
   "outputs": [],
   "source": [
    "i_file = 12\n",
    "filename = \"snap_%03d.hdf5\" % (i_file)\n",
    "snapshot = h5py.File(output_directory +  \"snap_%03d.hdf5\" % (i_file),'r')"
   ]
  },
  {
   "cell_type": "code",
   "execution_count": null,
   "id": "ade4b9b4",
   "metadata": {},
   "outputs": [],
   "source": [
    "T = snapshot['PartType0/InternalEnergy'][:] / temp_to_u\n",
    "n0 = snapshot['PartType0/Density'][:] * rho_to_numdensity \n",
    "pressure = (T * n0 * BOLTZMANN)\n",
    "masses = snapshot['PartType0/Masses'][:]"
   ]
  },
  {
   "cell_type": "code",
   "execution_count": null,
   "id": "26b05b27",
   "metadata": {},
   "outputs": [],
   "source": [
    "bins = np.logspace(-14, -6, 50)\n",
    "plt.hist(pressure, bins=bins, weights=masses, log=True)\n",
    "plt.xscale('log')\n",
    "plt.xlabel('pressure [Ba]')"
   ]
  },
  {
   "cell_type": "code",
   "execution_count": null,
   "id": "4f7a5cc7",
   "metadata": {},
   "outputs": [],
   "source": [
    "i_file = 7\n",
    "pressures = []"
   ]
  },
  {
   "cell_type": "code",
   "execution_count": null,
   "id": "dad142e7",
   "metadata": {},
   "outputs": [],
   "source": [
    "while True:\n",
    "    i_file += 1\n",
    "\n",
    "    try:\n",
    "        filename = \"snap_%03d.hdf5\" % (i_file)\n",
    "        snap_data = h5py.File(output_directory + filename, \"r\")\n",
    "    except:\n",
    "        break\n",
    "\n",
    "    snap_data = h5py.File(output_directory + filename, \"r\")\n",
    "    x, y, z = snap_data['PartType0/Coordinates'][:].T\n",
    "    vx, vy, vz = snap_data['PartType0/Velocities'][:].T\n",
    "    density = snap_data['PartType0/Density'][:]\n",
    "    jet_tracer = snap_data['PartType0/Jet_Tracer'][:]\n",
    "    temperature = get_temp(output_directory + filename, 5/3)\n",
    "\n",
    "    center = 0.5 * snap_data[\"Header\"].attrs[\"BoxSize\"]\n",
    "    number_density = density * rho_to_numdensity \n",
    "\n",
    "    thermal_pressure = temperature * number_density * BOLTZMANN\n",
    "    \n",
    "    mask_boundary = ((x < 5) | (x > 1995) | (y < 5) | (y > 1995) | (z < 5) | (z > 1995))\n",
    "    pressure = np.mean(thermal_pressure[mask_boundary][jet_tracer[mask_boundary] < 1e-3])\n",
    "    pressures.append([np.round(get_time_from_snap(snap_data) * unit_time_in_megayr, 2), pressure])"
   ]
  },
  {
   "cell_type": "code",
   "execution_count": null,
   "id": "2dde5bb2",
   "metadata": {},
   "outputs": [],
   "source": [
    "pressures_40 = np.array(pressures).T"
   ]
  },
  {
   "cell_type": "code",
   "execution_count": null,
   "id": "a746e535",
   "metadata": {},
   "outputs": [],
   "source": [
    "plt.plot(pressures_40[0], pressures_40[1], label='10^40 erg/s')\n",
    "plt.ylabel('pressure, Bar')\n",
    "plt.xlabel('time, Myr')\n",
    "plt.legend()"
   ]
  },
  {
   "cell_type": "markdown",
   "id": "313e6777",
   "metadata": {},
   "source": [
    "## density"
   ]
  },
  {
   "cell_type": "code",
   "execution_count": null,
   "id": "dc58e8b0",
   "metadata": {},
   "outputs": [],
   "source": [
    "density = 20\n",
    "mach = 8\n",
    "jetpower = 40\n",
    "start = '15'\n",
    "\n",
    "simulation_directory = str(f'/n/holylfs05/LABS/hernquist_lab/Users/borodina/2kpc/turb_jet_d{density}_m{mach}/jet{jetpower}_{start}')\n",
    "output_directory = simulation_directory + \"/output/\"\n",
    "figures_directory = simulation_directory + \"/output/figures/\"\n",
    "\n",
    "\n",
    "i_file = 11\n",
    "filename = \"snap_%03d.hdf5\" % (i_file)\n",
    "snapshot = h5py.File(output_directory +  \"snap_%03d.hdf5\" % (i_file),'r')\n",
    "\n",
    "time = get_time_from_snap(snapshot)\n",
    "masses_8 = snapshot['PartType0/Masses'][:]\n",
    "densities_8 = snapshot['PartType0/Density'][:] * rho_to_numdensity \n"
   ]
  },
  {
   "cell_type": "code",
   "execution_count": null,
   "id": "e7272673",
   "metadata": {},
   "outputs": [],
   "source": [
    "density = 20\n",
    "mach = 4\n",
    "jetpower = 40\n",
    "start = '15'\n",
    "\n",
    "simulation_directory = str(f'/n/holylfs05/LABS/hernquist_lab/Users/borodina/2kpc/turb_jet_d{density}_m{mach}/jet{jetpower}_{start}')\n",
    "output_directory = simulation_directory + \"/output/\"\n",
    "figures_directory = simulation_directory + \"/output/figures/\"\n",
    "\n",
    "\n",
    "i_file = 11\n",
    "filename = \"snap_%03d.hdf5\" % (i_file)\n",
    "snapshot = h5py.File(output_directory +  \"snap_%03d.hdf5\" % (i_file),'r')\n",
    "\n",
    "time = get_time_from_snap(snapshot)\n",
    "masses_4 = snapshot['PartType0/Masses'][:]\n",
    "densities_4 = snapshot['PartType0/Density'][:] * rho_to_numdensity \n"
   ]
  },
  {
   "cell_type": "code",
   "execution_count": null,
   "id": "e42e0883",
   "metadata": {},
   "outputs": [],
   "source": [
    "density = 20\n",
    "mach = 2\n",
    "jetpower = 40\n",
    "start = '15'\n",
    "\n",
    "simulation_directory = str(f'/n/holylfs05/LABS/hernquist_lab/Users/borodina/2kpc/turb_jet_d{density}_m{mach}/jet{jetpower}_{start}')\n",
    "output_directory = simulation_directory + \"/output/\"\n",
    "figures_directory = simulation_directory + \"/output/figures/\"\n",
    "\n",
    "\n",
    "i_file = 110\n",
    "filename = \"snap_%03d.hdf5\" % (i_file)\n",
    "snapshot = h5py.File(output_directory +  \"snap_%03d.hdf5\" % (i_file),'r')\n",
    "\n",
    "time = get_time_from_snap(snapshot)\n",
    "masses_2 = snapshot['PartType0/Masses'][:]\n",
    "densities_2 = snapshot['PartType0/Density'][:] * rho_to_numdensity \n"
   ]
  },
  {
   "cell_type": "code",
   "execution_count": null,
   "id": "f28a5488",
   "metadata": {},
   "outputs": [],
   "source": [
    "bins = np.logspace(-3, 6, 50)"
   ]
  },
  {
   "cell_type": "code",
   "execution_count": null,
   "id": "a18a49f3",
   "metadata": {},
   "outputs": [],
   "source": [
    "plt.hist(densities_2, bins=bins, weights=masses_2, lw=3, log=True, label='m=2', histtype='step')\n",
    "plt.hist(densities_4, bins=bins, weights=masses_4, lw=3, log=True, label='m=4', histtype='step')\n",
    "plt.hist(densities_8, bins=bins, weights=masses_8, lw=3, log=True, label='m=8', histtype='step')\n",
    "\n",
    "plt.xscale('log')\n",
    "plt.xlim(1e-3, 1e6)\n",
    "plt.ylim(10, 1e10)\n",
    "plt.xlabel(r'density [cm$^{-3}$]')\n",
    "plt.ylabel(r'mass')\n",
    "plt.legend()"
   ]
  },
  {
   "cell_type": "code",
   "execution_count": null,
   "id": "5400bd87",
   "metadata": {},
   "outputs": [],
   "source": [
    "i_file = 12\n",
    "filename = \"snap_%03d.hdf5\" % (i_file)\n",
    "snapshot = h5py.File(output_directory +  \"snap_%03d.hdf5\" % (i_file),'r')\n",
    "\n",
    "time = get_time_from_snap(snapshot)\n",
    "masses = snapshot['PartType0/Masses'][:]\n",
    "densities = snapshot['PartType0/Density'][:] * rho_to_numdensity\n",
    "volumes = masses/densities\n",
    "temperature = get_temp(output_directory + filename, 5/3)"
   ]
  },
  {
   "cell_type": "code",
   "execution_count": null,
   "id": "0bcbafeb",
   "metadata": {},
   "outputs": [],
   "source": [
    "def weighted_percentile(data, weights, perc):\n",
    "    \"\"\"\n",
    "    perc : percentile in [0-1]!\n",
    "    \"\"\"\n",
    "    ix = np.argsort(data)\n",
    "    data = data[ix] # sort data\n",
    "    weights = weights[ix] # sort weights\n",
    "    cdf = (np.cumsum(weights) - 0.5 * weights) / np.sum(weights) # 'like' a CDF function\n",
    "    return np.interp(perc, cdf, data)"
   ]
  },
  {
   "cell_type": "code",
   "execution_count": null,
   "id": "e8bce381",
   "metadata": {},
   "outputs": [],
   "source": [
    "weighted_percentile(densities, masses/densities, 0.1)"
   ]
  },
  {
   "cell_type": "code",
   "execution_count": null,
   "id": "c827069a",
   "metadata": {},
   "outputs": [],
   "source": [
    "mask_dilute = (densities < 0.1)"
   ]
  },
  {
   "cell_type": "code",
   "execution_count": null,
   "id": "01714a64",
   "metadata": {},
   "outputs": [],
   "source": [
    "plt.hist(np.log10(temperature[mask_dilute]), bins=60)\n",
    "plt.xlabel(r'n [1/cm$^3$]')"
   ]
  },
  {
   "cell_type": "markdown",
   "id": "c02524c5",
   "metadata": {},
   "source": [
    "## temperature and jet tracer evolution"
   ]
  },
  {
   "cell_type": "code",
   "execution_count": null,
   "id": "987c5b1d",
   "metadata": {},
   "outputs": [],
   "source": [
    "i_file"
   ]
  },
  {
   "cell_type": "code",
   "execution_count": null,
   "id": "13ea3a99",
   "metadata": {},
   "outputs": [],
   "source": [
    "i_file = 12  # skip snap 0\n",
    "while True:\n",
    "    i_file += 1\n",
    "    filename = \"snap_%03d.hdf5\" % (i_file)\n",
    "    try:\n",
    "        snap_data = h5py.File(output_directory + filename, \"r\")\n",
    "    except:\n",
    "        break\n",
    "    fig, ax = plt.subplots(figsize=(6,4))\n",
    "    snapshot = h5py.File(output_directory +  \"snap_%03d.hdf5\" % (i_file),'r')\n",
    "\n",
    "    time = get_time_from_snap(snapshot)\n",
    "    temperatures = get_temp(output_directory + filename, 5/3)\n",
    "    jettracer = snapshot['PartType0/Jet_Tracer'][:]\n",
    "    \n",
    "    ax.scatter(jettracer, temperatures, s=3)\n",
    "    ax.axvline(1e-3, c='gray', zorder=0)\n",
    "    ax.set_xscale('log')\n",
    "    ax.set_yscale('log')\n",
    "    ax.set_xlim(1e-10, 1)\n",
    "    ax.set_ylim(1e3, 1e9)\n",
    "    ax.set_xlabel(r'jet tracer')\n",
    "    ax.set_ylabel('T, K')\n",
    "    ax.set_title(\"t=%.2f Myr\"%(get_time_from_snap(snap_data) * unit_time_in_megayr))\n",
    "    plt.savefig(figures_directory + f'jet_temperature_{i_file}.png', dpi=300, bbox_inches='tight')\n",
    "    plt.close()"
   ]
  },
  {
   "cell_type": "code",
   "execution_count": null,
   "id": "96f147c8",
   "metadata": {},
   "outputs": [],
   "source": [
    "from PIL import Image\n",
    "from natsort import natsorted\n",
    "import glob\n",
    "\n",
    "# make gif\n",
    "#--------------------------\n",
    "def crop_img(im):\n",
    "    width, height = im.size\n",
    "    left = 9\n",
    "    top =  3\n",
    "    right = width - 3\n",
    "    bottom = height - 9\n",
    "    im = im.crop((left, top, right, bottom))\n",
    "    return im\n",
    "\n",
    "ifilename = figures_directory + '/jet_temperature_*.png'\n",
    "ofilename = figures_directory + '/jet_temperature.gif'\n",
    "imgs = natsorted(glob.glob(ifilename))\n",
    "\n",
    "frames = []\n",
    "for i in imgs:\n",
    "    new_frame = Image.open(i)\n",
    "    frames.append(crop_img(new_frame))\n",
    "\n",
    "frames[0].save(ofilename, format='GIF',\n",
    "               append_images=frames[1:],\n",
    "               save_all=True,\n",
    "               duration=140, loop=0)"
   ]
  },
  {
   "cell_type": "code",
   "execution_count": null,
   "id": "9bfe0e28",
   "metadata": {},
   "outputs": [],
   "source": []
  },
  {
   "cell_type": "markdown",
   "id": "fd04e5bd",
   "metadata": {},
   "source": [
    "## mass of phases"
   ]
  },
  {
   "cell_type": "code",
   "execution_count": null,
   "id": "cfd3760f",
   "metadata": {},
   "outputs": [],
   "source": [
    "density = 20\n",
    "mach = 8\n",
    "jetpower = 38\n",
    "start = '15'"
   ]
  },
  {
   "cell_type": "code",
   "execution_count": null,
   "id": "055e04bd",
   "metadata": {},
   "outputs": [],
   "source": [
    "simulation_directory = str(f'/n/holylfs05/LABS/hernquist_lab/Users/borodina/2kpc/turb_jet_d{density}_m{mach}/turb')\n",
    "output_directory = simulation_directory + \"/output/\"\n",
    "figures_directory = simulation_directory + \"/output/figures/\""
   ]
  },
  {
   "cell_type": "code",
   "execution_count": null,
   "id": "d287a251",
   "metadata": {},
   "outputs": [],
   "source": [
    "i_file = 0  # skip snap 0\n",
    "mass_phases = []\n",
    "while True:\n",
    "    i_file += 1\n",
    "    filename = \"snap_%03d.hdf5\" % (i_file)\n",
    "    try:\n",
    "        snap_data = h5py.File(output_directory + filename, \"r\")\n",
    "    except:\n",
    "        break\n",
    "\n",
    "    time = get_time_from_snap(snap_data)\n",
    "    temperatures = get_temp(output_directory + filename, 5/3)\n",
    "#     jettracer = snap_data['PartType0/Jet_Tracer'][:]\n",
    "    x,y,z = snap_data['PartType0/Coordinates'][:].T\n",
    "    masses = snap_data['PartType0/Masses'][:]\n",
    "    center = 1000\n",
    "    \n",
    "    mask_hot_all = (temperatures > 10**4.4) #& (np.sqrt((x - center) ** 2 +(y - center) ** 2 + (z - center) ** 2) < 500)\n",
    "    mask_warm_all = (temperatures < 10**4.4) #& (np.sqrt((x - center) ** 2 +(y - center) ** 2 + (z - center) ** 2) < 500)\n",
    "    mask_hot_center = (temperatures > 10**4.4) & (np.sqrt((x - center) ** 2 +(y - center) ** 2 + (z - center) ** 2) < 500)\n",
    "    mask_warm_center = (temperatures < 10**4.4) & (np.sqrt((x - center) ** 2 +(y - center) ** 2 + (z - center) ** 2) < 500)\n",
    "\n",
    "    mass_phases.append([time, masses[mask_hot_all].sum(), masses[mask_warm_all].sum(),\n",
    "                              masses[mask_hot_center].sum(), masses[mask_warm_center].sum()])\n",
    "mass_phases = np.array(mass_phases).T"
   ]
  },
  {
   "cell_type": "code",
   "execution_count": null,
   "id": "adbb58ae",
   "metadata": {},
   "outputs": [],
   "source": [
    "fig, ax = plt.subplots(figsize=(6,4))\n",
    "\n",
    "ax.set_xlim(14.8,21)\n",
    "# ax.set_ylim(1e3, 5e6) ## hot\n",
    "# ax.set_ylim(2.76e9, 2.77e9) # warm all\n",
    "ax.set_ylim(1.4e8, 3e8) # warm center\n",
    "\n",
    "# ax.set_yscale('log')\n",
    "ax.plot(mass_phases[0], mass_phases[1], label='hot 2kpc')\n",
    "ax.plot(mass_phases[0], mass_phases[2], label='warm 2kpc')\n",
    "ax.plot(mass_phases[0], mass_phases[3], label='hot 1kpc')\n",
    "ax.plot(mass_phases[0], mass_phases[4], label='warm 1kpc')\n",
    "ax.set_xlabel('t, Myr')\n",
    "ax.set_ylabel(r'Mass, $M_\\odot$')\n",
    "plt.legend()"
   ]
  },
  {
   "cell_type": "markdown",
   "id": "9a586a58-88e5-4224-ac13-4af3c5332613",
   "metadata": {},
   "source": [
    "## where cold stuff is?"
   ]
  },
  {
   "cell_type": "code",
   "execution_count": null,
   "id": "a35a5679-4483-4b7a-9ad5-3fd6d8ce677b",
   "metadata": {},
   "outputs": [],
   "source": [
    "simulation_directory_jet = str('/n/holylfs05/LABS/hernquist_lab/Users/borodina/2kpc/turb_jet_d20_m8/jet38_15')\n",
    "output_directory_jet = simulation_directory_jet + \"/output/\"\n",
    "figures_directory_jet = simulation_directory_jet + \"/output/figures/\""
   ]
  },
  {
   "cell_type": "code",
   "execution_count": null,
   "id": "fd840852-fc84-42b4-bc5d-64b1a25d915f",
   "metadata": {},
   "outputs": [],
   "source": [
    "i_file = 16\n",
    "filename = \"snap_%03d.hdf5\" % (i_file)\n",
    "snap_data = h5py.File(output_directory_jet + filename, \"r\")"
   ]
  },
  {
   "cell_type": "code",
   "execution_count": null,
   "id": "0453aa1b-7a37-4f2f-b67f-8d2903ef7e9c",
   "metadata": {},
   "outputs": [],
   "source": [
    "x = snap_data['PartType0/Jet_Tracer'][:]\n",
    "masses = snap_data['PartType0/Masses'][:]\n",
    "energy = snap_data['PartType0/InternalEnergy'][:]\n",
    "temperature = get_temp(output_directory_jet + filename, 5/3)"
   ]
  },
  {
   "cell_type": "code",
   "execution_count": null,
   "id": "f5daf3bf-7e78-4d91-a0fd-da4df978e7da",
   "metadata": {},
   "outputs": [],
   "source": [
    "cold_material = np.zeros_like(x)\n",
    "mask_cold = (temperature < 10 ** 3.7)\n",
    "cold_material[mask_cold] = 1\n",
    "\n",
    "hot_material = np.zeros_like(x)\n",
    "mask_hot = (temperature > 10 ** 5)\n",
    "hot_material[mask_hot] = 1"
   ]
  },
  {
   "cell_type": "code",
   "execution_count": null,
   "id": "42c2fa1b-604f-4f6c-a086-5efe456f1ff4",
   "metadata": {},
   "outputs": [],
   "source": [
    "fig, axes = plt.subplots(1, 2, figsize=(13, 6))\n",
    "\n",
    "plot_random(axes[0], output_directory_jet + filename, value=hot_material, limits=[0, 1], log=False, cmap='seismic',\n",
    "            value_name='hot gas', fac=0.5, t0=0)\n",
    "\n",
    "plot_dens_vel(axes[1], output_directory_jet + filename, fac=0.5, t0=0)"
   ]
  },
  {
   "cell_type": "markdown",
   "id": "0baf1f68-a4b7-4642-9a40-d93af85c4312",
   "metadata": {},
   "source": [
    "## correct temperature calculation"
   ]
  },
  {
   "cell_type": "code",
   "execution_count": null,
   "id": "7f738085-ab41-49ac-85bb-b40e4f2fbc4f",
   "metadata": {},
   "outputs": [],
   "source": [
    "################## 12\n",
    "i_file = 12\n",
    "filename = \"snap_%03d.hdf5\" % (i_file)\n",
    "snapshot = h5py.File(output_directory +  \"snap_%03d.hdf5\" % (i_file),'r')\n",
    "\n",
    "time_12 = get_time_from_snap(snapshot)\n",
    "masses_12 = snapshot['PartType0/Masses'][:]\n",
    "densities_12 = snapshot['PartType0/Density'][:]\n",
    "temperatures_12 = get_temp(output_directory + filename, 5/3)"
   ]
  },
  {
   "cell_type": "code",
   "execution_count": null,
   "id": "ec7a25e2-efc8-4e71-83c9-777eae76dd27",
   "metadata": {},
   "outputs": [],
   "source": [
    "snapshot['PartType0'].keys()"
   ]
  },
  {
   "cell_type": "code",
   "execution_count": null,
   "id": "d0ccb2c1-c7df-4a9d-bba4-54c64f0be629",
   "metadata": {},
   "outputs": [],
   "source": [
    "H_neutral = snapshot['PartType0/NeutralHydrogenAbundance'][:]\n",
    "n_electrons = snapshot['PartType0/ElectronAbundance'][:]\n",
    "X = 0.76\n",
    "mu1 = 4 / (3 * X + 1 + 4 * X * n_electrons)\n",
    "temp1 = snapshot['PartType0/InternalEnergy'][:] / ((BOLTZMANN / PROTONMASS) / mu1 / (gamma - 1) / unit_velocity / unit_velocity)"
   ]
  },
  {
   "cell_type": "code",
   "execution_count": null,
   "id": "e1ff5d18-a63d-4244-b1fd-f6fbefe3ea39",
   "metadata": {},
   "outputs": [],
   "source": [
    "mu1 = 4 / (3 * X + 1 + 4 * X * n_electrons)\n",
    "# mu2 = 4 / (3 * X + 1 + 4 * X * n_electrons / H_neutral)\n",
    "# mu3 = 4 / (3 * X + 1 + 4 * X * n_electrons * H_neutral)\n",
    "# mu4 = 4 / (3 * X + 1 + 4 * X * n_electrons * X * snapshot['PartType0/Density'][:] * rho_to_numdensity * mu)"
   ]
  },
  {
   "cell_type": "code",
   "execution_count": null,
   "id": "6c5f3275-1841-4cf2-af65-b4ddc929c532",
   "metadata": {},
   "outputs": [],
   "source": [
    "temp1 = snapshot['PartType0/InternalEnergy'][:] / ((BOLTZMANN / PROTONMASS) / mu1 / (gamma - 1) / unit_velocity / unit_velocity)\n",
    "# temp2 = snapshot['PartType0/InternalEnergy'][:] / ((BOLTZMANN / PROTONMASS) / mu2 / (gamma - 1) / unit_velocity / unit_velocity)\n",
    "# temp3 = snapshot['PartType0/InternalEnergy'][:] / ((BOLTZMANN / PROTONMASS) / mu3 / (gamma - 1) / unit_velocity / unit_velocity)\n",
    "# temp4 = snapshot['PartType0/InternalEnergy'][:] / ((BOLTZMANN / PROTONMASS) / mu4 / (gamma - 1) / unit_velocity / unit_velocity)"
   ]
  },
  {
   "cell_type": "code",
   "execution_count": null,
   "id": "94a22bc2-7886-41e7-9b34-dfabf49bd4d0",
   "metadata": {},
   "outputs": [],
   "source": [
    "np.log10(temp1).mean()"
   ]
  },
  {
   "cell_type": "code",
   "execution_count": null,
   "id": "e7cf9a5c-af71-4363-9eb8-1e40c8b0da7a",
   "metadata": {},
   "outputs": [],
   "source": [
    "fig, ax = plt.subplots(figsize=(6, 4))\n",
    "plt.hist(np.log10(temp1), weights=masses_12, density=False, \n",
    "         bins=100,  alpha=0.6, linewidth=2., color='tab:orange', label=\"local mu\")\n",
    "\n",
    "\n",
    "plt.hist(np.log10(temperatures_12), weights=masses_12, density=False, \n",
    "         bins=100,  alpha=0.6, linewidth=2., color='tab:blue', label=\"uniform mu\")\n",
    "plt.axvline(4.45, c='black', label='log T = 4.45')\n",
    "plt.legend(fontsize=12)\n",
    "# plt.xlim(t_bins.min(), 9)# t_bins.max()\n",
    "plt.ylim(1, 1e10)\n",
    "\n",
    "plt.grid(ls='--', c='gray', alpha=0.2, zorder=100)\n",
    "plt.yscale('log')\n",
    "plt.xlabel(\"log T [K]\", fontsize=15)\n",
    "plt.ylabel(r\"Mass [$M_\\odot$]\", fontsize=15)"
   ]
  },
  {
   "cell_type": "code",
   "execution_count": null,
   "id": "c437518c-1bef-47a0-bb4f-293dd4d3f2c1",
   "metadata": {},
   "outputs": [],
   "source": []
  }
 ],
 "metadata": {
  "kernelspec": {
   "display_name": "Python 3 (ipykernel)",
   "language": "python",
   "name": "python3"
  },
  "language_info": {
   "codemirror_mode": {
    "name": "ipython",
    "version": 3
   },
   "file_extension": ".py",
   "mimetype": "text/x-python",
   "name": "python",
   "nbconvert_exporter": "python",
   "pygments_lexer": "ipython3",
   "version": "3.6.8"
  }
 },
 "nbformat": 4,
 "nbformat_minor": 5
}
