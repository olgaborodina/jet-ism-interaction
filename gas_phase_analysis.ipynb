{
 "cells": [
  {
   "cell_type": "code",
   "execution_count": null,
   "id": "fe2214f7",
   "metadata": {},
   "outputs": [],
   "source": [
    "from postprocessing import *"
   ]
  },
  {
   "cell_type": "code",
   "execution_count": null,
   "id": "6c2c43da",
   "metadata": {},
   "outputs": [],
   "source": [
    "mpl.rcParams['figure.dpi']= 200"
   ]
  },
  {
   "cell_type": "code",
   "execution_count": null,
   "id": "3bda3973",
   "metadata": {},
   "outputs": [],
   "source": [
    "simulation_directory = str('/n/holystore01/LABS/hernquist_lab/Users/borodina/turb_drive_center_d100_m8/turb')\n",
    "output_directory = simulation_directory+\"/output/\"\n",
    "figures_directory = simulation_directory + \"/output/figures/\""
   ]
  },
  {
   "cell_type": "code",
   "execution_count": null,
   "id": "b8faae6e",
   "metadata": {},
   "outputs": [],
   "source": [
    "t_bins = np.linspace(3.3, 10.2, 201)"
   ]
  },
  {
   "cell_type": "code",
   "execution_count": null,
   "id": "824f2414",
   "metadata": {},
   "outputs": [],
   "source": [
    "i_file = 1\n",
    "filename = \"snap_%03d.hdf5\" % (i_file)\n",
    "snapshot = h5py.File(output_directory +  \"snap_%03d.hdf5\" % (i_file),'r')"
   ]
  },
  {
   "cell_type": "code",
   "execution_count": null,
   "id": "c89e7c05",
   "metadata": {},
   "outputs": [],
   "source": [
    "snapshot['PartType0/Masses'][:].mean()"
   ]
  },
  {
   "cell_type": "code",
   "execution_count": null,
   "id": "c7c08a97",
   "metadata": {},
   "outputs": [],
   "source": [
    "################## 1\n",
    "i_file = 1\n",
    "filename = \"snap_%03d.hdf5\" % (i_file)\n",
    "snapshot = h5py.File(output_directory +  \"snap_%03d.hdf5\" % (i_file),'r')\n",
    "\n",
    "time_1 = get_time_from_snap(snapshot)\n",
    "masses_1 = snapshot['PartType0/Masses'][:]\n",
    "temperatures_1 = get_temp(output_directory + filename, 5/3)\n",
    "\n",
    "\n",
    "################## 2\n",
    "i_file = 2\n",
    "filename = \"snap_%03d.hdf5\" % (i_file)\n",
    "snapshot = h5py.File(output_directory +  \"snap_%03d.hdf5\" % (i_file),'r')\n",
    "\n",
    "time_2 = get_time_from_snap(snapshot)\n",
    "masses_2 = snapshot['PartType0/Masses'][:]\n",
    "temperatures_2 = get_temp(output_directory + filename, 5/3)\n",
    "\n",
    "\n",
    "################## 12\n",
    "i_file = 12\n",
    "filename = \"snap_%03d.hdf5\" % (i_file)\n",
    "snapshot = h5py.File(output_directory +  \"snap_%03d.hdf5\" % (i_file),'r')\n",
    "\n",
    "time_12 = get_time_from_snap(snapshot)\n",
    "masses_12 = snapshot['PartType0/Masses'][:]\n",
    "densities_12 = snapshot['PartType0/Density'][:]\n",
    "temperatures_12 = get_temp(output_directory + filename, 5/3)\n"
   ]
  },
  {
   "cell_type": "code",
   "execution_count": null,
   "id": "97182388",
   "metadata": {},
   "outputs": [],
   "source": [
    "plt.hist(np.log10(temperatures_1), weights=masses_1, density=False, \n",
    "         bins=t_bins, alpha=1, histtype='step', linewidth=2., label=\"t=%.2f Myr\"%(time_1 * unit_time_in_megayr))\n",
    "plt.hist(np.log10(temperatures_2), weights=masses_2, density=False, \n",
    "         bins=t_bins,  alpha=1, histtype='step', linewidth=2., label=\"t=%.2f Myr\"%(time_2 * unit_time_in_megayr))\n",
    "plt.hist(np.log10(temperatures_12), weights=masses_12, density=False, \n",
    "         bins=t_bins,  alpha=1, histtype='step', linewidth=2., label=\"t=%.2f Myr\"%(time_12 * unit_time_in_megayr))\n",
    "plt.axvline(4.45, c='black', label='log T = 4.45')\n",
    "plt.legend()\n",
    "plt.xlim(t_bins.min(), 6.0)\n",
    "plt.ylim(1, 1e10)\n",
    "\n",
    "plt.yscale('log')\n",
    "plt.xlabel(\"log T [K]\")\n",
    "plt.ylabel(\"cell number distribution \\n  weighted by mass\")"
   ]
  },
  {
   "cell_type": "code",
   "execution_count": null,
   "id": "dc6d3aaa",
   "metadata": {},
   "outputs": [],
   "source": [
    "simulation_directory = str('/n/holystore01/LABS/hernquist_lab/Users/borodina/turb_drive_center_d100/jet42_later')\n",
    "output_directory = simulation_directory+\"/output/\"\n",
    "figures_directory = simulation_directory + \"/output/figures/\""
   ]
  },
  {
   "cell_type": "code",
   "execution_count": null,
   "id": "8d75ce4d",
   "metadata": {},
   "outputs": [],
   "source": [
    "################## 3\n",
    "i_file = 3\n",
    "filename = \"snap_%03d.hdf5\" % (i_file)\n",
    "snapshot = h5py.File(output_directory +  \"snap_%03d.hdf5\" % (i_file),'r')\n",
    "\n",
    "time_3 = get_time_from_snap(snapshot)\n",
    "masses_3 = snapshot['PartType0/Masses'][:]\n",
    "densities_3 = snapshot['PartType0/Density'][:]\n",
    "temperatures_3 = get_temp(output_directory + filename, 5/3)\n",
    "\n",
    "\n",
    "################## 5\n",
    "i_file = 5\n",
    "filename = \"snap_%03d.hdf5\" % (i_file)\n",
    "snapshot = h5py.File(output_directory +  \"snap_%03d.hdf5\" % (i_file),'r')\n",
    "\n",
    "time_5 = get_time_from_snap(snapshot)\n",
    "masses_5 = snapshot['PartType0/Masses'][:]\n",
    "densities_5 = snapshot['PartType0/Density'][:]\n",
    "temperatures_5 = get_temp(output_directory + filename, 5/3)\n",
    "\n",
    "\n",
    "################## 15\n",
    "i_file = 15\n",
    "filename = \"snap_%03d.hdf5\" % (i_file)\n",
    "snapshot = h5py.File(output_directory +  \"snap_%03d.hdf5\" % (i_file),'r')\n",
    "\n",
    "time_15 = get_time_from_snap(snapshot)\n",
    "masses_15 = snapshot['PartType0/Masses'][:]\n",
    "densities_15 = snapshot['PartType0/Density'][:]\n",
    "temperatures_15 = get_temp(output_directory + filename, 5/3)"
   ]
  },
  {
   "cell_type": "code",
   "execution_count": null,
   "id": "82f6c328",
   "metadata": {},
   "outputs": [],
   "source": [
    "plt.hist(np.log10(temperatures_12), weights=masses_12, density=False, bins=t_bins, alpha=0.7, label=\"before jet\")\n",
    "plt.hist(np.log10(temperatures_3), weights=masses_3, density=False, \n",
    "         bins=t_bins, alpha=0.4, label=\"t=%.2f Myr\"%(time_3 * unit_time_in_megayr))\n",
    "plt.hist(np.log10(temperatures_5), weights=masses_5, density=False, \n",
    "         bins=t_bins, alpha=0.4, label=\"t=%.2f Myr\"%(time_5 * unit_time_in_megayr))\n",
    "plt.hist(np.log10(temperatures_15), weights=masses_15, density=False, \n",
    "         bins=t_bins, alpha=0.4, label=\"t=%.2f Myr\"%(time_15 * unit_time_in_megayr))\n",
    "plt.axvline(4.45, c='black', label='log T = 4.45')\n",
    "\n",
    "plt.xlim(t_bins.min(), t_bins.max())\n",
    "plt.ylim(1e-1, 1e10)\n",
    "plt.legend()\n",
    "plt.yscale('log')\n",
    "plt.xlabel(\"log T [K]\")"
   ]
  },
  {
   "cell_type": "markdown",
   "id": "36845620",
   "metadata": {},
   "source": [
    "### phase diagram"
   ]
  },
  {
   "cell_type": "code",
   "execution_count": null,
   "id": "6653747d",
   "metadata": {},
   "outputs": [],
   "source": [
    "simulation_directory = str('/n/holystore01/LABS/hernquist_lab/Users/borodina/turb_drive_center_d300/jet42_early')\n",
    "output_directory = simulation_directory+\"/output/\"\n",
    "figures_directory = simulation_directory + \"/output/figures/\""
   ]
  },
  {
   "cell_type": "code",
   "execution_count": null,
   "id": "8c856abc",
   "metadata": {},
   "outputs": [],
   "source": [
    "i_file = 0  # skip snap 0\n",
    "while True:\n",
    "    i_file += 1\n",
    "    filename = \"snap_%03d.hdf5\" % (i_file)\n",
    "    try:\n",
    "        snap_data = h5py.File(output_directory + filename, \"r\")\n",
    "    except:\n",
    "        break\n",
    "    fig, ax = plt.subplots(figsize=(6,6))\n",
    "    snapshot = h5py.File(output_directory +  \"snap_%03d.hdf5\" % (i_file),'r')\n",
    "\n",
    "    time = get_time_from_snap(snapshot)\n",
    "    masses = snapshot['PartType0/Masses'][:]\n",
    "    densities = snapshot['PartType0/Density'][:] * rho_to_numdensity\n",
    "    temperatures = get_temp(output_directory + filename, 5/3)\n",
    "    \n",
    "    h = ax.hist2d(np.log10(densities), np.log10(temperatures), weights=masses, \n",
    "                  bins=300, density=True, norm=mpl.colors.LogNorm(vmin=1e-8, vmax=5e1))\n",
    "    ax.set_xlabel(r'$n_H$')\n",
    "    ax.set_ylabel('log T')\n",
    "    ax.set_title(\"t=%.2f Myr\"%(get_time_from_snap(snap_data) * unit_time_in_megayr))\n",
    "    ax.set_xlim(-5, 5)\n",
    "    ax.set_ylim(3.2 , 10.5)\n",
    "#     ax.set_xlim(-2, 6)\n",
    "#     ax.set_ylim(3.2, 6.2)\n",
    "    plt.colorbar(h[3], ax=ax)\n",
    "    plt.savefig(figures_directory + f'phasediagram_{i_file}.png', dpi=300, bbox_inches='tight')\n",
    "    plt.close()"
   ]
  },
  {
   "cell_type": "code",
   "execution_count": null,
   "id": "be0f6386",
   "metadata": {},
   "outputs": [],
   "source": [
    "from PIL import Image\n",
    "from natsort import natsorted\n",
    "import glob\n",
    "\n",
    "# make gif\n",
    "#--------------------------\n",
    "def crop_img(im):\n",
    "    width, height = im.size\n",
    "    left = 9\n",
    "    top =  3\n",
    "    right = width - 3\n",
    "    bottom = height - 9\n",
    "    im = im.crop((left, top, right, bottom))\n",
    "    return im\n",
    "\n",
    "ifilename = figures_directory + '/phasediagram_*.png'\n",
    "ofilename = figures_directory + '/phasediagram.gif'\n",
    "imgs = natsorted(glob.glob(ifilename))\n",
    "\n",
    "frames = []\n",
    "for i in imgs:\n",
    "    new_frame = Image.open(i)\n",
    "    frames.append(crop_img(new_frame))\n",
    "\n",
    "frames[0].save(ofilename, format='GIF',\n",
    "               append_images=frames[1:],\n",
    "               save_all=True,\n",
    "               duration=140, loop=0)"
   ]
  },
  {
   "cell_type": "code",
   "execution_count": null,
   "id": "0a956d06",
   "metadata": {},
   "outputs": [],
   "source": []
  }
 ],
 "metadata": {
  "kernelspec": {
   "display_name": "Python 3",
   "language": "python",
   "name": "python3"
  },
  "language_info": {
   "codemirror_mode": {
    "name": "ipython",
    "version": 3
   },
   "file_extension": ".py",
   "mimetype": "text/x-python",
   "name": "python",
   "nbconvert_exporter": "python",
   "pygments_lexer": "ipython3",
   "version": "3.6.8"
  }
 },
 "nbformat": 4,
 "nbformat_minor": 5
}
