{
 "cells": [
  {
   "cell_type": "code",
   "execution_count": null,
   "id": "a0eec00e",
   "metadata": {},
   "outputs": [],
   "source": [
    "import glob\n",
    "import os\n",
    "from natsort import natsorted\n",
    "from postprocessing import *"
   ]
  },
  {
   "cell_type": "code",
   "execution_count": null,
   "id": "7134dad4",
   "metadata": {},
   "outputs": [],
   "source": [
    "mpl.rcParams['figure.dpi']= 200"
   ]
  },
  {
   "cell_type": "code",
   "execution_count": null,
   "id": "3b4e951a",
   "metadata": {},
   "outputs": [],
   "source": [
    "simulation_directory_jet = str('/n/holyscratch01/hernquist_lab/borodina/turb_drive_center_d30/jet41_early')\n",
    "output_directory_jet = simulation_directory_jet + \"/output/\"\n",
    "figures_directory_jet = simulation_directory_jet + \"/output/figures/\""
   ]
  },
  {
   "cell_type": "code",
   "execution_count": null,
   "id": "bfd878f7",
   "metadata": {},
   "outputs": [],
   "source": [
    "i_file = 5\n",
    "filename = \"snap_%03d.hdf5\" % (i_file)\n",
    "snap_data = h5py.File(output_directory_jet + filename, \"r\")"
   ]
  },
  {
   "cell_type": "code",
   "execution_count": null,
   "id": "cc1915ed",
   "metadata": {},
   "outputs": [],
   "source": [
    "x = snap_data['PartType0/Jet_Tracer'][:]"
   ]
  },
  {
   "cell_type": "code",
   "execution_count": null,
   "id": "1dc60488",
   "metadata": {},
   "outputs": [],
   "source": [
    "k1 = snap_data['Config'].attrs['BH_CONSTANT_POWER_RADIOMODE_IN_ERG_PER_S']\n",
    "print(k1)"
   ]
  },
  {
   "cell_type": "code",
   "execution_count": null,
   "id": "dcf4dbf5",
   "metadata": {},
   "outputs": [],
   "source": [
    "plt.hist(np.log10(x[x>1e-25]), bins=100, log=True)\n",
    "plt.axvline(-3, c='black', zorder=100)\n",
    "plt.xlabel('jet tracer')"
   ]
  },
  {
   "cell_type": "code",
   "execution_count": null,
   "id": "1858a8bd",
   "metadata": {},
   "outputs": [],
   "source": [
    "density_arr = np.array([30, 60, 100, 200, 300])\n",
    "jetpower_arr = np.array([41, 42, 43, 44])"
   ]
  },
  {
   "cell_type": "code",
   "execution_count": null,
   "id": "a77451a4",
   "metadata": {},
   "outputs": [],
   "source": [
    "threshold_tracer = 1e-3"
   ]
  },
  {
   "cell_type": "code",
   "execution_count": null,
   "id": "fdb7a9a5",
   "metadata": {},
   "outputs": [],
   "source": [
    "def calculate_jet_tracer(i_file):\n",
    "    result = []\n",
    "    for density in density_arr:\n",
    "        for jetpower in jetpower_arr:\n",
    "            simulation_directory_jet = str(f'/n/holyscratch01/hernquist_lab/borodina/turb_drive_center_d{density}/jet{jetpower}_early')\n",
    "            output_directory_jet = simulation_directory_jet + \"/output/\"\n",
    "            filename = \"snap_%03d.hdf5\" % (i_file)\n",
    "            try:\n",
    "                snap_data = h5py.File(output_directory_jet + filename, \"r\")\n",
    "                volume = snap_data['PartType0/Masses'][:]/snap_data['PartType0/Density'][:] \n",
    "                tracer = snap_data['PartType0/Jet_Tracer'][:]\n",
    "                jet_volume = volume[tracer > threshold_tracer]\n",
    "                jet_volume_fraction = np.sum(jet_volume)/np.sum(volume)\n",
    "                result.append([density, jetpower, jet_volume_fraction])\n",
    "            except:\n",
    "                result.append([density, jetpower, -1])\n",
    "    time = get_time_from_snap(snap_data)\n",
    "    return np.array(result).T, time"
   ]
  },
  {
   "cell_type": "code",
   "execution_count": null,
   "id": "0df783e9",
   "metadata": {},
   "outputs": [],
   "source": [
    "xaxis = np.array([1, 1, 1, 1, 2, 2, 2, 2, 3, 3, 3, 3, 4, 4, 4, 4, 5, 5, 5, 5])\n",
    "\n",
    "for i in [0, 1, 2, 2, 3, 4, 5, 6, 7, 8, 9, 10, 11]:\n",
    "    result, time = calculate_jet_tracer(i)\n",
    "    \n",
    "    fig, ax = plt.subplots(figsize=(4.5, 3))\n",
    "    norm=plt.Normalize(0, 0.6)\n",
    "    \n",
    "    mask = (result[2] > 0)\n",
    "\n",
    "    sc = ax.scatter(xaxis[mask], result[1][mask], c=result[2][mask], \n",
    "                    cmap='plasma', norm=norm, marker='s', s=1580, zorder=100)\n",
    "    ax.tick_params(labelsize=12, direction='in')\n",
    "\n",
    "    locs, labels = plt.xticks()  # Get the current locations and labels.\n",
    "    plt.xticks([1, 2, 3, 4, 5], density_arr)  # Set text labels and properties.\n",
    "    ax.set_xlim(0.5, 5.5)\n",
    "    ax.set_ylim(40.5, 44.5)\n",
    "\n",
    "    ax.set_xlabel('density [cm$^{-3}$]', fontsize=15)\n",
    "    ax.set_ylabel('log (jet power)', fontsize=15)\n",
    "\n",
    "    cbar = plt.colorbar(sc, format='%g')\n",
    "    cbar.set_label(label=r'jet tracer volume fraction', size=10)\n",
    "\n",
    "    ax.set_title(\"t=%.2f Myr\"%(time * unit_time_in_megayr))\n",
    "    plt.savefig( f'./figures/jet_tracer_{i}.png', bbox_inches='tight', dpi=300)\n",
    "    plt.close()"
   ]
  },
  {
   "cell_type": "markdown",
   "id": "39e0eea3",
   "metadata": {},
   "source": [
    "## make gif"
   ]
  },
  {
   "cell_type": "code",
   "execution_count": null,
   "id": "081bb598",
   "metadata": {},
   "outputs": [],
   "source": [
    "from PIL import Image\n",
    "\n",
    "# make gif\n",
    "#--------------------------\n",
    "def crop_img(im):\n",
    "    width, height = im.size\n",
    "    left = 9\n",
    "    top =  3\n",
    "    right = width - 3\n",
    "    bottom = height - 9\n",
    "    im = im.crop((left, top, right, bottom))\n",
    "    return im\n",
    "\n",
    "ifilename = './figures/jet_tracer*.png'\n",
    "ofilename = './figures/jet_tracer-jet.gif'\n",
    "imgs = natsorted(glob.glob(ifilename))\n",
    "\n",
    "frames = []\n",
    "for i in imgs:\n",
    "    new_frame = Image.open(i)\n",
    "    frames.append(crop_img(new_frame))\n",
    "\n",
    "frames[0].save(ofilename, format='GIF',\n",
    "               append_images=frames[1:],\n",
    "               save_all=True,\n",
    "               duration=140, loop=0)"
   ]
  },
  {
   "cell_type": "code",
   "execution_count": null,
   "id": "af27967e",
   "metadata": {},
   "outputs": [],
   "source": []
  }
 ],
 "metadata": {
  "kernelspec": {
   "display_name": "Python 3",
   "language": "python",
   "name": "python3"
  },
  "language_info": {
   "codemirror_mode": {
    "name": "ipython",
    "version": 3
   },
   "file_extension": ".py",
   "mimetype": "text/x-python",
   "name": "python",
   "nbconvert_exporter": "python",
   "pygments_lexer": "ipython3",
   "version": "3.6.8"
  }
 },
 "nbformat": 4,
 "nbformat_minor": 5
}
