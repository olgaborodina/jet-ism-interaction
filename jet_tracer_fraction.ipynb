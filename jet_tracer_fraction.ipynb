{
 "cells": [
  {
   "cell_type": "markdown",
   "id": "8f770e21",
   "metadata": {},
   "source": [
    "this is another messy notebook! this one is used to study jet trscer volume fraction"
   ]
  },
  {
   "cell_type": "code",
   "execution_count": null,
   "id": "a0eec00e",
   "metadata": {},
   "outputs": [],
   "source": [
    "import glob\n",
    "import os\n",
    "from natsort import natsorted\n",
    "from postprocessing import *"
   ]
  },
  {
   "cell_type": "code",
   "execution_count": null,
   "id": "7134dad4",
   "metadata": {},
   "outputs": [],
   "source": [
    "mpl.rcParams['figure.dpi']= 400"
   ]
  },
  {
   "cell_type": "code",
   "execution_count": null,
   "id": "a266016f",
   "metadata": {},
   "outputs": [],
   "source": [
    "density = '20'\n",
    "mach    = '2'\n",
    "jet     = '40'\n",
    "stage   = '25'"
   ]
  },
  {
   "cell_type": "code",
   "execution_count": null,
   "id": "3b4e951a",
   "metadata": {},
   "outputs": [],
   "source": [
    "simulation_directory_jet = f'/n/holylfs05/LABS/hernquist_lab/Users/borodina/2kpc/turb_jet_d{density}_m{mach}/jet{jet}_{stage}'\n",
    "output_directory_jet = simulation_directory_jet + \"/output/\"\n",
    "figures_directory_jet = simulation_directory_jet + \"/output/figures/\""
   ]
  },
  {
   "cell_type": "code",
   "execution_count": null,
   "id": "bfd878f7",
   "metadata": {},
   "outputs": [],
   "source": [
    "i_file = 12\n",
    "filename = \"snap_%03d.hdf5\" % (i_file)\n",
    "snap_data = h5py.File(output_directory_jet + filename, \"r\")"
   ]
  },
  {
   "cell_type": "code",
   "execution_count": null,
   "id": "cc1915ed",
   "metadata": {},
   "outputs": [],
   "source": [
    "x = snap_data['PartType0/Jet_Tracer'][:]\n",
    "masses = snap_data['PartType0/Masses'][:]\n",
    "energy = snap_data['PartType0/InternalEnergy'][:]\n",
    "temperature = get_temp(output_directory_jet + filename, 5/3)"
   ]
  },
  {
   "cell_type": "code",
   "execution_count": null,
   "id": "74fd1fb7-39fc-4c17-9d20-f148bacd1960",
   "metadata": {},
   "outputs": [],
   "source": [
    "plt.scatter(x, energy, s=2)\n",
    "plt.axvline(1e-3, c='grey')\n",
    "plt.xscale('log')\n",
    "plt.yscale('log')\n",
    "plt.xlim(1e-13, 10)\n",
    "plt.ylim(1, 1e7)\n",
    "\n",
    "plt.xlabel('jet tracer')\n",
    "plt.ylabel('temperature, K')"
   ]
  },
  {
   "cell_type": "code",
   "execution_count": null,
   "id": "a8157376",
   "metadata": {},
   "outputs": [],
   "source": [
    "warm_jet = np.zeros_like(x)\n",
    "mask_warm_jet = (temperature < 2e4) & (x > 1e-3)\n",
    "warm_jet[mask_warm_jet] = 1\n",
    "\n",
    "hot_nonjet = np.zeros_like(x)\n",
    "mask_hot_nonjet = (temperature > 4e4) & (x < 1e-6)\n",
    "hot_nonjet[mask_hot_nonjet] = 1"
   ]
  },
  {
   "cell_type": "code",
   "execution_count": null,
   "id": "7a7572a7",
   "metadata": {},
   "outputs": [],
   "source": [
    "fig, ax = plt.subplots(figsize=(6,7))\n",
    "# plot_random(ax, output_directory_jet + filename, value=warm_jet, limits=[0, 1], log=False,\n",
    "#             value_name='warm jet', fac=0.5, t0=15)\n",
    "plot_random(ax, output_directory_jet + filename, value=hot_nonjet, limits=[0, 1], log=False,\n",
    "            value_name='hot not jet', fac=0.5, t0=0)\n",
    "plot_jet_tracer_on_top(ax, output_directory_jet + filename, fac=0.5, t0=0)"
   ]
  },
  {
   "cell_type": "code",
   "execution_count": null,
   "id": "1dc60488",
   "metadata": {},
   "outputs": [],
   "source": [
    "k1 = snap_data['Config'].attrs['BH_CONSTANT_POWER_RADIOMODE_IN_ERG_PER_S']\n",
    "print(k1)"
   ]
  },
  {
   "cell_type": "code",
   "execution_count": null,
   "id": "c22f86c8-02b6-42e3-a68b-0ecc940ef50c",
   "metadata": {},
   "outputs": [],
   "source": [
    "sum(x > 0)#snap_data['PartType0/Coordinates']"
   ]
  },
  {
   "cell_type": "code",
   "execution_count": null,
   "id": "dcf4dbf5",
   "metadata": {},
   "outputs": [],
   "source": [
    "plt.hist(np.log10(x[x>1e-25]), bins=100, log=True)\n",
    "plt.axvline(-3, c='black', zorder=100)\n",
    "plt.xlabel('jet tracer')"
   ]
  },
  {
   "cell_type": "code",
   "execution_count": null,
   "id": "1858a8bd",
   "metadata": {},
   "outputs": [],
   "source": [
    "density_arr  = np.array([30, 60, 100, 200, 300])\n",
    "jetpower_arr = np.array([41, 42, 43, 44])\n",
    "machnum_arr  = np.array([4, 8, 12])"
   ]
  },
  {
   "cell_type": "code",
   "execution_count": null,
   "id": "a77451a4",
   "metadata": {},
   "outputs": [],
   "source": [
    "threshold_tracer = 1e-3"
   ]
  },
  {
   "cell_type": "code",
   "execution_count": null,
   "id": "fdb7a9a5",
   "metadata": {},
   "outputs": [],
   "source": [
    "def calculate_jet_tracer_dj(i_file, density_arr=density_arr, jetpower_arr=jetpower_arr, mach=8):\n",
    "    \"\"\"\n",
    "    Create a table with jet tracer volume fraction for different density and jet power values\n",
    "    Input: i_file       (snapshot number)\n",
    "           density_arr  (array of number densities for which simulations exist)\n",
    "           jetpower_arr (array of jet power values for which simulations exist)\n",
    "           mach         (mach number)\n",
    "    Output: array with three columns: number density, jet power, and jet volume fraction. and time of the snapshot in Myr\n",
    "    \n",
    "    \"\"\"\n",
    "    \n",
    "    result = []\n",
    "    for density in density_arr:\n",
    "        for jetpower in jetpower_arr:\n",
    "            \n",
    "            simulation_directory_jet = str(f'/n/holyscratch01/hernquist_lab/borodina/turb_drive_center_d{density}_m{mach}/jet{jetpower}_early')\n",
    "            output_directory_jet = simulation_directory_jet + \"/output/\"\n",
    "            filename = \"snap_%03d.hdf5\" % (i_file)\n",
    "            try:\n",
    "                snap_data = h5py.File(output_directory_jet + filename, \"r\")\n",
    "                volume = snap_data['PartType0/Masses'][:]/snap_data['PartType0/Density'][:] \n",
    "                tracer = snap_data['PartType0/Jet_Tracer'][:]\n",
    "                jet_volume = volume[tracer > threshold_tracer]\n",
    "                jet_volume_fraction = np.sum(jet_volume)/np.sum(volume)\n",
    "                result.append([density, jetpower, jet_volume_fraction])\n",
    "            except:\n",
    "                result.append([density, jetpower, -1])\n",
    "    time = get_time_from_snap(snap_data)\n",
    "    return np.array(result).T, time * unit_time_in_megay"
   ]
  },
  {
   "cell_type": "code",
   "execution_count": null,
   "id": "0df783e9",
   "metadata": {},
   "outputs": [],
   "source": [
    "xaxis = np.array([1, 1, 1, 1, 2, 2, 2, 2, 3, 3, 3, 3, 4, 4, 4, 4, 5, 5, 5, 5])\n",
    "\n",
    "for i in [0, 1, 2, 2, 3, 4, 5, 6, 7, 8, 9, 10, 11]:\n",
    "    result, time = calculate_jet_tracer_dj(i)\n",
    "    \n",
    "    fig, ax = plt.subplots(figsize=(4.5, 3))\n",
    "    norm=plt.Normalize(np.log10(5e-4), np.log10(0.2))\n",
    "\n",
    "    mask = (result[2] > 0)\n",
    "\n",
    "    sc = ax.scatter(xaxis[mask], result[1][mask], c=np.log10(result[2][mask]), \n",
    "                    cmap='plasma', norm=norm, marker='s', s=1580, zorder=100)\n",
    "    ax.tick_params(labelsize=12, direction='in')\n",
    "\n",
    "    locs, labels = plt.xticks()  # Get the current locations and labels.\n",
    "    plt.xticks([1, 2, 3, 4, 5], density_arr)  # Set text labels and properties.\n",
    "    ax.set_xlim(0.5, 5.5)\n",
    "    ax.set_ylim(40.5, 44.5)\n",
    "\n",
    "    ax.set_xlabel('density [cm$^{-3}$]', fontsize=15)\n",
    "    ax.set_ylabel('log (jet power)', fontsize=15)\n",
    "\n",
    "    cbar = plt.colorbar(sc, format='%g')\n",
    "    cbar.set_label(label=r'log(jet tracer volume fraction)', size=10)\n",
    "\n",
    "    ax.set_title(\"t=%.2f Myr\"%(time * unit_time_in_megayr))\n",
    "    plt.savefig( f'./figures/jet_tracer_dj_{i}.png', bbox_inches='tight', dpi=300)\n",
    "    plt.close()"
   ]
  },
  {
   "cell_type": "code",
   "execution_count": null,
   "id": "2f1f8dc1",
   "metadata": {},
   "outputs": [],
   "source": [
    "def calculate_jet_tracer_mnum(i_file, machnum_arr=machnum_arr, jetpower_arr=jetpower_arr, density=100):\n",
    "    \"\"\"\n",
    "    Create a table with jet tracer volume fraction for different mach numbers and jet power values\n",
    "    Input: i_file       (snapshot number)\n",
    "           machnum_arr  (array of mach numbers for which simulations exist)\n",
    "           jetpower_arr (array of jet power values for which simulations exist)\n",
    "           density      (number density of the simulation)\n",
    "           \n",
    "    Output: array with three columns: mach number, jet power, and jet volume fraction. and time of the snapshot in Myr\n",
    "    \n",
    "    \"\"\"\n",
    "    result = []\n",
    "    for machnum in machnum_arr:\n",
    "        for jetpower in jetpower_arr:\n",
    "            simulation_directory_jet = str(f'/n/holyscratch01/hernquist_lab/borodina/turb_drive_center_d{density}_m{machnum}/jet{jetpower}_early')\n",
    "            output_directory_jet = simulation_directory_jet + \"/output/\"\n",
    "            filename = \"snap_%03d.hdf5\" % (i_file)\n",
    "            try:\n",
    "                snap_data = h5py.File(output_directory_jet + filename, \"r\")\n",
    "                volume = snap_data['PartType0/Masses'][:]/snap_data['PartType0/Density'][:] \n",
    "                tracer = snap_data['PartType0/Jet_Tracer'][:]\n",
    "                jet_volume = volume[tracer > threshold_tracer]\n",
    "                jet_volume_fraction = np.sum(jet_volume)/np.sum(volume)\n",
    "                result.append([machnum, jetpower, jet_volume_fraction])\n",
    "            except:\n",
    "                result.append([machnum, jetpower, -1])\n",
    "    time = get_time_from_snap(snap_data)\n",
    "    return np.array(result).T, time * unit_time_in_megay"
   ]
  },
  {
   "cell_type": "code",
   "execution_count": null,
   "id": "75f3ba02",
   "metadata": {},
   "outputs": [],
   "source": [
    "xaxis = np.array([1, 1, 1, 1, 2, 2, 2, 2, 3, 3, 3, 3])\n",
    "for i in [0, 1, 2, 2, 3, 4, 5, 6, 7, 8, 9, 10, 11]:\n",
    "    result, time = calculate_jet_tracer_mnum(i)\n",
    "\n",
    "    fig, ax = plt.subplots(figsize=(2.7, 3))\n",
    "    norm=plt.Normalize(np.log10(5e-4), np.log10(0.2))\n",
    "\n",
    "    mask = (result[2] > 0)\n",
    "\n",
    "    sc = ax.scatter(xaxis[mask], result[1][mask], c=np.log10(result[2][mask]), \n",
    "                    cmap='plasma', norm=norm, marker='s', s=1580, zorder=100)\n",
    "    ax.tick_params(labelsize=12, direction='in')\n",
    "\n",
    "    locs, labels = plt.xticks()  # Get the current locations and labels.\n",
    "    plt.xticks([1, 2, 3], machnum_arr)  # Set text labels and properties.\n",
    "    ax.set_xlim(0.5, 3.5)\n",
    "    ax.set_ylim(40.5, 44.5)\n",
    "\n",
    "    ax.set_xlabel('Mach number', fontsize=15)\n",
    "    ax.set_ylabel('log (jet power)', fontsize=15)\n",
    "\n",
    "    cbar = plt.colorbar(sc, format='%g')\n",
    "    cbar.set_label(label=r'log(jet tracer volume fraction)', size=10)\n",
    "\n",
    "    ax.set_title(\"t=%.2f Myr\"%(time * unit_time_in_megayr))\n",
    "    plt.savefig( f'./figures/jet_tracer_mnum_{i}.png', bbox_inches='tight', dpi=300)\n",
    "    plt.close()"
   ]
  },
  {
   "cell_type": "markdown",
   "id": "39e0eea3",
   "metadata": {},
   "source": [
    "## make gif"
   ]
  },
  {
   "cell_type": "code",
   "execution_count": null,
   "id": "081bb598",
   "metadata": {},
   "outputs": [],
   "source": [
    "from PIL import Image\n",
    "\n",
    "# make gif\n",
    "#--------------------------\n",
    "def crop_img(im):\n",
    "    width, height = im.size\n",
    "    left = 9\n",
    "    top =  3\n",
    "    right = width - 3\n",
    "    bottom = height - 9\n",
    "    im = im.crop((left, top, right, bottom))\n",
    "    return im\n",
    "\n",
    "ifilename = './figures/jet_tracer_dj*.png'\n",
    "ofilename = './figures/jet_tracer-dj.gif'\n",
    "imgs = natsorted(glob.glob(ifilename))\n",
    "\n",
    "frames = []\n",
    "for i in imgs:\n",
    "    new_frame = Image.open(i)\n",
    "    frames.append(crop_img(new_frame))\n",
    "\n",
    "frames[0].save(ofilename, format='GIF',\n",
    "               append_images=frames[1:],\n",
    "               save_all=True,\n",
    "               duration=140, loop=0)"
   ]
  },
  {
   "cell_type": "markdown",
   "id": "8ec04533",
   "metadata": {},
   "source": [
    "## time evolution with density"
   ]
  },
  {
   "cell_type": "code",
   "execution_count": null,
   "id": "b7d0ba78",
   "metadata": {},
   "outputs": [],
   "source": [
    "def jet_and_density(storage, boxsize, density, machnumber, jetpower, start='early'):\n",
    "    \"\"\"\n",
    "    Create a table with jet tracer volume fraction and central density evolution with time\n",
    "    Input: density    (number density of the simulation)\n",
    "           machnumber (mach number of the simulation)\n",
    "           jetpower   (jet power of the simulation)\n",
    "           start      (initial snapshot from the turbulent box)\n",
    "           \n",
    "    Output: array with three columns: time un Myr, jet tracer volume fraction, and mean number density within central 50pc\n",
    "    \n",
    "    \"\"\"    \n",
    "    simulation_directory_jet = str(f'/n/{storage}/LABS/hernquist_lab/Users/borodina/{boxsize}/turb_jet_d{density}_m{machnumber}/jet{jetpower}_{start}')\n",
    "    output_directory_jet = simulation_directory_jet + \"/output/\"\n",
    "    figures_directory_jet = simulation_directory_jet + \"/output/figures/\"\n",
    "    \n",
    "    threshold_tracer = 1e-3\n",
    "    result = []\n",
    "    i_file = 12\n",
    "    while True: #True or a number for a set length\n",
    "        i_file += 1\n",
    "        output_directory_jet = simulation_directory_jet + \"/output/\"\n",
    "        filename = \"snap_%03d.hdf5\" % (i_file)\n",
    "        try:\n",
    "            snap_data = h5py.File(output_directory_jet + filename, \"r+\")\n",
    "        except:\n",
    "            try:\n",
    "                i_file += 1\n",
    "                filename = \"snap_%03d.hdf5\" % (i_file)\n",
    "                snap_data = h5py.File(output_directory_jet + filename, \"r+\")\n",
    "            except:\n",
    "                break\n",
    "        time = get_time_from_snap(snap_data) * unit_time_in_megayr\n",
    "        x, y, z = snap_data['PartType0/Coordinates'][:].T\n",
    "        center = snap_data['Header'].attrs['BoxSize'] / 2\n",
    "        mask = (np.sqrt((x - center) ** 2 + (y - center) ** 2 + (z - center) ** 2) < 500)\n",
    "        \n",
    "        volume = snap_data['PartType0/Masses'][:][mask]/snap_data['PartType0/Density'][:][mask]\n",
    "        tracer = snap_data['PartType0/Jet_Tracer'][:][mask]\n",
    "        jet_volume = volume[tracer > threshold_tracer]\n",
    "        jet_volume_fraction = np.sum(jet_volume)/np.sum(volume)\n",
    "        mask = (np.sqrt((x - center) ** 2 + (y - center) ** 2 + (z - center) ** 2) < 50)\n",
    "        n_mean = np.mean(snap_data['PartType0/Density'][mask]) * rho_to_numdensity\n",
    "        result.append([time, jet_volume_fraction, n_mean])\n",
    "    return result"
   ]
  },
  {
   "cell_type": "code",
   "execution_count": null,
   "id": "ca11bd8b",
   "metadata": {},
   "outputs": [],
   "source": [
    "\n",
    "result_8  = np.array(jet_and_density('holystore01', '2kpc', 30,  8, 43, 8)).T\n",
    "result_12  = np.array(jet_and_density('holystore01', '2kpc', 30,  8, 43, 12)).T\n",
    "result_15 = np.array(jet_and_density('holystore01', '2kpc', 30, 8, 43, 15)).T\n",
    "result_early = np.array(jet_and_density('holystore01', '1kpc',30,  8, 43, 'early')).T\n",
    "result_uni = np.array(jet_and_density('holylfs05', '2kpc',30, 8, 43, 'uniform')).T\n"
   ]
  },
  {
   "cell_type": "code",
   "execution_count": null,
   "id": "78e9699d",
   "metadata": {},
   "outputs": [],
   "source": [
    "result_mean = np.mean([result_8[1][:24], result_12[1][:24], result_15[1][:24]], axis=0)\n",
    "result_min = np.min([result_8[1][:24], result_12[1][:24], result_15[1][:24]], axis=0)\n",
    "result_max = np.max([result_8[1][:24], result_12[1][:24], result_15[1][:24]], axis=0)"
   ]
  },
  {
   "cell_type": "code",
   "execution_count": null,
   "id": "95cca786",
   "metadata": {},
   "outputs": [],
   "source": [
    "fig, ax1 = plt.subplots(figsize=(5,3))\n",
    "\n",
    "\n",
    "# ax1.plot(result_8[0], result_8[1], label='m8 jet=43', c='darkred', ls='--', )\n",
    "# ax1.plot(result_12[0], result_12[1], c='darkred', ls='--', )\n",
    "# ax1.plot(result_15[0], result_15[1], c='darkred', ls='--', )\n",
    "ax1.plot(result_uni[0], result_uni[1], label='jet in uniform box', c='black', ls='-')\n",
    "#ax1.plot(result_early[0], result_early[1], label='1 kpc box', c='darkblue', ls='--')\n",
    "\n",
    "ax1.plot(result_8[0], result_mean, '-', c='darkred', label='jet in turbulent ISM')\n",
    "ax1.fill_between(result_8[0], result_min, result_max, alpha=0.2, color='darkblue', zorder=100)\n",
    "\n",
    "# ax1.axhline(0.05, c='gray', ls='--')\n",
    "\n",
    "ax1.set_xlabel('t [Myr]', fontsize=10)\n",
    "ax1.set_xlim(0, 1.02)\n",
    "ax1.set_ylim(1e-3, 0.5)\n",
    "# ax2.set_ylim(10, 6e3)\n",
    "\n",
    "# ax1.set_facecolor('w')\n",
    "# fig.set_facecolor('none')\n",
    "\n",
    "params = {\"ytick.color\" : \"w\",\n",
    "      \"xtick.color\" : \"w\",\n",
    "      \"axes.labelcolor\" : \"w\",\n",
    "      \"axes.edgecolor\" : \"w\",\n",
    "      \"text.color\" : \"w\",\n",
    "      \"figure.facecolor\" : '2F366E'}\n",
    "plt.rcParams.update(params)\n",
    "\n",
    "ax1.set_ylabel('jet tracer volume fraction', fontsize=10, zorder=100)\n",
    "plt.title(r'$n = 30$cm$^{-3}$  $\\quad \\mathfrak{M} = 8 \\quad$ jet power$= 10^{43}$erg/s')\n",
    "plt.grid(ls='--', c='gray', alpha=0.4, zorder=0)\n",
    "plt.legend(fontsize=9, loc='upper left', labelcolor='black')\n",
    "plt.show()"
   ]
  },
  {
   "cell_type": "code",
   "execution_count": null,
   "id": "f607b4c8",
   "metadata": {},
   "outputs": [],
   "source": []
  },
  {
   "cell_type": "code",
   "execution_count": null,
   "id": "c70b685c",
   "metadata": {},
   "outputs": [],
   "source": [
    "result_43  = np.array(jet_and_density('holylfs05', '2kpc', 10, 8, 43, 15)).T\n",
    "result_40  = np.array(jet_and_density('holylfs05', '2kpc', 10, 8, 40, 15)).T\n",
    "result_38  = np.array(jet_and_density('holylfs05', '2kpc', 10, 8, 38, 15)).T"
   ]
  },
  {
   "cell_type": "code",
   "execution_count": null,
   "id": "a19f04fa",
   "metadata": {},
   "outputs": [],
   "source": [
    "result_43_uniform  = np.array(jet_and_density('holylfs05', '2kpc', 10, 8, 43, 'uniform')).T\n",
    "result_40_uniform  = np.array(jet_and_density('holylfs05', '2kpc', 10, 8, 40, 'uniform')).T\n",
    "result_38_uniform  = np.array(jet_and_density('holylfs05', '2kpc', 10, 8, 38, 'uniform')).T"
   ]
  },
  {
   "cell_type": "code",
   "execution_count": null,
   "id": "9c9f9b9b",
   "metadata": {},
   "outputs": [],
   "source": [
    "result_43_no_ss  = np.array(jet_and_density('holylfs05', '2kpc', 10, 8, 43, 'no_ss')).T\n",
    "result_40_no_ss  = np.array(jet_and_density('holylfs05', '2kpc', 10, 8, 40, 'no_ss')).T\n",
    "result_38_no_ss  = np.array(jet_and_density('holylfs05', '2kpc', 10, 8, 38, 'no_ss')).T"
   ]
  },
  {
   "cell_type": "code",
   "execution_count": null,
   "id": "088b4ba2",
   "metadata": {},
   "outputs": [],
   "source": [
    "result_40_12  = np.array(jet_and_density('holylfs05', '2kpc', 20, 12, 40, 15)).T\n",
    "result_40_8  = np.array(jet_and_density('holylfs05', '2kpc', 20, 8, 40, 15)).T\n",
    "result_40_4  = np.array(jet_and_density('holylfs05', '2kpc', 20, 4, 40, 15)).T"
   ]
  },
  {
   "cell_type": "code",
   "execution_count": null,
   "id": "30d20c65",
   "metadata": {},
   "outputs": [],
   "source": [
    "result_40_uniform  = np.array(jet_and_density('holylfs05', '2kpc', 20, 8, 40, 'uniform')).T\n",
    "result_40_uniform_dilute  = np.array(jet_and_density('holylfs05', '2kpc', 20, 8, 40, 'uniform_dilute')).T"
   ]
  },
  {
   "cell_type": "code",
   "execution_count": null,
   "id": "b15959dd",
   "metadata": {},
   "outputs": [],
   "source": [
    "fig, ax1 = plt.subplots(figsize=(5,3))\n",
    "\n",
    "# ax1.plot(result_43[0], result_43[1], label='jet 10^43 erg/s', c='darkred', ls='-', )\n",
    "# ax1.plot(result_40[0], result_40[1], label='jet 10^40 erg/s', c='tab:blue', ls='-', )\n",
    "# ax1.plot(result_38[0], result_38[1], label='jet 10^38 erg/s', c='tab:green', ls='-', )\n",
    "\n",
    "# ax1.plot(result_43_uniform[0], result_43_uniform[1], label='jet 10^43 erg/s uniform', c='darkred', ls='--', )\n",
    "# ax1.plot(result_40_uniform[0], result_40_uniform[1], label='jet 10^40 erg/s uniform', c='tab:blue', ls='--', )\n",
    "# ax1.plot(result_38_uniform[0], result_38_uniform[1], label='jet 10^38 erg/s uniform', c='tab:green', ls='--', )\n",
    "\n",
    "# ax1.plot(result_43_no_ss[0], result_43_no_ss[1], label='jet 10^43 erg/s v=0', c='darkred', ls=':', )\n",
    "# ax1.plot(result_40_no_ss[0], result_40_no_ss[1], label='jet 10^40 erg/s v=0', c='tab:blue', ls=':', )\n",
    "# ax1.plot(result_38_no_ss[0], result_38_no_ss[1], label='jet 10^38 erg/s v=0', c='tab:green', ls=':', )\n",
    "\n",
    "\n",
    "ax1.plot(result_40_12[0], result_40_12[1], label='M = 12', c='purple', ls='-', )\n",
    "ax1.plot(result_40_8[0], result_40_8[1], label='M = 8', c='tab:blue', ls='-', )\n",
    "ax1.plot(result_38_4[0], result_38_4[1], label='M = 4', c='tab:green', ls='-')\n",
    "\n",
    "ax1.plot(result_40_uniform[0], result_40_uniform[1], label='uniform', c='navy', ls='-', )\n",
    "ax1.plot(result_40_uniform_dilute[0], result_40_uniform_dilute[1], label='uniform dilute', c='aqua', ls='-', )\n",
    "\n",
    "# ax1.axhline(0.05, c='gray', ls='--')\n",
    "\n",
    "ax1.set_xlabel('t [Myr]', fontsize=10)\n",
    "ax1.set_xlim(15, 21)\n",
    "ax1.set_ylim(0, 0.4)\n",
    "# ax2.set_ylim(10, 6e3)\n",
    "\n",
    "ax1.set_ylabel('jet tracer volume fraction', fontsize=10, zorder=100)\n",
    "# ax2.set_ylabel('mean density inside central 50 pc [cm$^{-3}$](-)', fontsize=10)\n",
    "# ax2.set_yscale('log')\n",
    "# ax1.set_yscale('log')\n",
    "plt.grid(ls='--', c='gray', alpha=0.4, zorder=0)\n",
    "plt.legend(fontsize=6, loc='upper right')\n",
    "plt.show()"
   ]
  },
  {
   "cell_type": "markdown",
   "id": "d9c73b41-4069-4a83-95f4-2281ff391f97",
   "metadata": {},
   "source": [
    "## jet tracer radial percentiles"
   ]
  },
  {
   "cell_type": "code",
   "execution_count": null,
   "id": "93f55748-0c35-46e1-a124-f5b991699114",
   "metadata": {},
   "outputs": [],
   "source": [
    "def percentile_distance(storage, boxsize, density, machnumber, jetpower, start='early', percentiles=[10, 50, 100]):\n",
    "    \"\"\"\n",
    "    Create a table with jet tracer volume fraction and central density evolution with time\n",
    "    Input: density    (number density of the simulation)\n",
    "           machnumber (mach number of the simulation)\n",
    "           jetpower   (jet power of the simulation)\n",
    "           start      (initial snapshot from the turbulent box)\n",
    "           a\n",
    "    Output: array with three columns: time un Myr, jet tracer volume fraction, and mean number density within central 50pc\n",
    "    \n",
    "    \"\"\"    \n",
    "    simulation_directory = str(f'/n/{storage}/LABS/hernquist_lab/Users/borodina/{boxsize}/turb_jet_d{density}_m{machnumber}/jet{jetpower}_{start}')\n",
    "    output_directory = simulation_directory + \"/output/\"\n",
    "    figures_directory = simulation_directory + \"/output/figures/\"\n",
    "    \n",
    "    threshold_tracer = 1e-3\n",
    "    i_file = 12\n",
    "    distance_array = []\n",
    "    time = 0\n",
    "    while True and time < 20: #True or a number for a set length\n",
    "        i_file += 1\n",
    "        filename = \"snap_%03d.hdf5\" % (i_file)\n",
    "        try:\n",
    "            snap_data = h5py.File(output_directory + filename, \"r+\")\n",
    "        except:\n",
    "            try:\n",
    "                i_file += 1\n",
    "                filename = \"snap_%03d.hdf5\" % (i_file)\n",
    "                snap_data = h5py.File(output_directory + filename, \"r+\")\n",
    "            except:\n",
    "                break\n",
    "        center = 1000\n",
    "        x = snap_data['PartType0/Coordinates'][:, 0] - center\n",
    "        y = snap_data['PartType0/Coordinates'][:, 1] - center\n",
    "        z = snap_data['PartType0/Coordinates'][:, 2] - center\n",
    "        jet_tracer = snap_data['PartType0/Jet_Tracer'][:]\n",
    "        mass = snap_data['PartType0/Masses'][:]\n",
    "\n",
    "        mask_jet = jet_tracer > 1e-3\n",
    "        time = get_time_from_snap(snap_data) * unit_time_in_megayr\n",
    "        distance_sq = x ** 2 + y ** 2 + z ** 2\n",
    "\n",
    "        if len(distance_sq[mask_jet]) > 0:\n",
    "            #distance_max = np.sqrt(distance_sq[mask_jet].max())\n",
    "            distances = np.sqrt(np.percentile(distance_sq[mask_jet], percentiles))\n",
    "        else:\n",
    "            distances = np.zeros_like(percentiles)\n",
    "\n",
    "        distance_array.append([np.ones_like(distances) * time, distances])\n",
    "    return np.array(distance_array)"
   ]
  },
  {
   "cell_type": "code",
   "execution_count": null,
   "id": "b8be4d3c",
   "metadata": {},
   "outputs": [],
   "source": [
    "percentiles = np.linspace(5, 100, 51)\n",
    "# dist_38_15 = percentile_distance('holylfs05', '2kpc', 10, 8, 38, '15', percentiles)\n",
    "# dist_40_15 = percentile_distance('holylfs05', '2kpc', 10, 8, 40, '15', percentiles)\n",
    "# dist_43_15 = percentile_distance('holylfs05', '2kpc', 10, 8, 43, '15', percentiles)\n",
    "\n",
    "dist_38_uniform = percentile_distance('holylfs05', '2kpc', 10, 8, 38, 'uniform', percentiles)\n",
    "dist_40_uniform = percentile_distance('holylfs05', '2kpc', 10, 8, 40, 'uniform', percentiles)\n",
    "dist_43_uniform = percentile_distance('holylfs05', '2kpc', 10, 8, 43, 'uniform', percentiles)"
   ]
  },
  {
   "cell_type": "code",
   "execution_count": null,
   "id": "63ae6448",
   "metadata": {},
   "outputs": [],
   "source": [
    "for i in range(len(dist_40_uniform)):\n",
    "    plt.scatter(dist_40_uniform[i][0],dist_40_uniform[i][1], c=percentiles, cmap='plasma', s=10)\n",
    "plt.colorbar(label='percentile')\n",
    "plt.xlim(15,20)\n",
    "plt.ylim(0, 500 * np.sqrt(2))\n",
    "plt.xlabel('time [Myr]')\n",
    "plt.ylabel('distance [pc]')"
   ]
  },
  {
   "cell_type": "code",
   "execution_count": null,
   "id": "84b756e1",
   "metadata": {},
   "outputs": [],
   "source": [
    "dist_40_15[1][0]"
   ]
  },
  {
   "cell_type": "code",
   "execution_count": null,
   "id": "99d49fa7",
   "metadata": {},
   "outputs": [],
   "source": [
    "def weighted_percentile(data, weights, perc):\n",
    "    \"\"\"\n",
    "    perc : percentile in [0-1]!\n",
    "    \"\"\"\n",
    "    ix = np.argsort(data)\n",
    "    data = data[ix] # sort data\n",
    "    weights = weights[ix] # sort weights\n",
    "    cdf = (np.cumsum(weights) - 0.5 * weights) / np.sum(weights) # 'like' a CDF function\n",
    "    return np.interp(perc, cdf, data)"
   ]
  },
  {
   "cell_type": "code",
   "execution_count": null,
   "id": "7f39ef39-e991-4e7f-b5c6-b3a91449c751",
   "metadata": {},
   "outputs": [],
   "source": [
    "density = 10\n",
    "mach = 8\n",
    "jetpower = 40\n",
    "start = '15'\n",
    "\n",
    "simulation_directory = str(f'/n/holylfs05/LABS/hernquist_lab/Users/borodina/2kpc/turb_jet_d{density}_m{mach}/jet{jetpower}_{start}')\n",
    "output_directory = simulation_directory + \"/output/\"\n",
    "figures_directory = simulation_directory + \"/output/figures/\"\n",
    "\n",
    "i_file = 20\n",
    "filename = \"snap_%03d.hdf5\" % (i_file)\n",
    "\n",
    "snap_data = h5py.File(output_directory + filename, \"r+\")\n",
    "\n",
    "center = 1000\n",
    "x = snap_data['PartType0/Coordinates'][:, 0] - center\n",
    "y = snap_data['PartType0/Coordinates'][:, 1] - center\n",
    "z = snap_data['PartType0/Coordinates'][:, 2] - center\n",
    "mass = snap_data['PartType0/Masses'][:]\n",
    "jet_tracer = snap_data['PartType0/Jet_Tracer'][:]\n",
    "\n",
    "mask_jet = jet_tracer > 1e-3\n",
    "time = get_time_from_snap(snap_data) * unit_time_in_megayr\n",
    "distance_sq = x ** 2 + y ** 2 + z ** 2\n",
    "\n",
    "new, old, new_weighted = [], [], []\n",
    "for i in np.linspace(0, 1, 11):\n",
    "    new_weighted.append(weighted_percentile(distance_sq[mask_jet], jet_tracer[mask_jet] * mass[mask_jet], i))\n",
    "    new.append(weighted_percentile(distance_sq[mask_jet], np.ones_like(distance_sq[mask_jet]), i))\n",
    "    old.append(np.percentile(distance_sq[mask_jet], i * 100))\n",
    "\n",
    "fig, ax = plt.subplots(figsize=(4, 4))\n",
    "#plt.scatter(np.sqrt(old), np.sqrt(new), c=-np.linspace(0, 1, 11))\n",
    "plt.plot([0,150], [0,150], c='black')\n",
    "plt.scatter(np.sqrt(old), np.sqrt(new_weighted), c=-np.linspace(0, 1, 11), zorder=100)\n",
    "ax.set_aspect('1')\n",
    "ax.set_xlabel('distance using basic percentile')\n",
    "ax.set_ylabel('distance using weigthed percentile')"
   ]
  },
  {
   "cell_type": "code",
   "execution_count": null,
   "id": "df2cfb56-e6b2-4a5e-9679-8f9313e372ca",
   "metadata": {},
   "outputs": [],
   "source": []
  },
  {
   "cell_type": "code",
   "execution_count": null,
   "id": "e79f163c-e7b7-4573-b900-e8acbf99433f",
   "metadata": {},
   "outputs": [],
   "source": [
    "def weighted_percentile(data, weights, perc):\n",
    "    \"\"\"\n",
    "    perc : percentile in [0-1]!\n",
    "    \"\"\"\n",
    "    ix = np.argsort(data)\n",
    "    data = data[ix] # sort data\n",
    "    weights = weights[ix] # sort weights\n",
    "    cdf = (np.cumsum(weights) - 0.5 * weights) / np.sum(weights) # 'like' a CDF function\n",
    "    return np.interp(perc, cdf, data)"
   ]
  },
  {
   "cell_type": "code",
   "execution_count": null,
   "id": "d432f88d-05f1-4da1-a795-06d4e7d0f75e",
   "metadata": {},
   "outputs": [],
   "source": [
    "def percentile_distance_3(storage, boxsize, density, machnumber, jetpower, start='early'):\n",
    "    \"\"\"\n",
    "    Create a table with jet tracer volume fraction and central density evolution with time\n",
    "    Input: density    (number density of the simulation)\n",
    "           machnumber (mach number of the simulation)\n",
    "           jetpower   (jet power of the simulation)\n",
    "           start      (initial snapshot from the turbulent box)\n",
    "           a\n",
    "    Output: array with three columns: time un Myr, jet tracer volume fraction, and mean number density within central 50pc\n",
    "    \n",
    "    \"\"\"    \n",
    "    simulation_directory = str(f'/n/{storage}/LABS/hernquist_lab/Users/borodina/{boxsize}/turb_jet_d{density}_m{machnumber}/jet{jetpower}_{start}')\n",
    "    output_directory = simulation_directory + \"/output/\"\n",
    "    figures_directory = simulation_directory + \"/output/figures/\"\n",
    "    \n",
    "    threshold_tracer = 1e-3\n",
    "    i_file = 12\n",
    "    distance_array = []\n",
    "    time = 0\n",
    "    while True and time < 20: #True or a number for a set length\n",
    "        i_file += 1\n",
    "        filename = \"snap_%03d.hdf5\" % (i_file)\n",
    "        try:\n",
    "            snap_data = h5py.File(output_directory + filename, \"r+\")\n",
    "        except:\n",
    "            try:\n",
    "                i_file += 1\n",
    "                filename = \"snap_%03d.hdf5\" % (i_file)\n",
    "                snap_data = h5py.File(output_directory + filename, \"r+\")\n",
    "            except:\n",
    "                break\n",
    "        center = 1000\n",
    "        x = snap_data['PartType0/Coordinates'][:, 0] - center\n",
    "        y = snap_data['PartType0/Coordinates'][:, 1] - center\n",
    "        z = snap_data['PartType0/Coordinates'][:, 2] - center\n",
    "        jet_tracer = snap_data['PartType0/Jet_Tracer'][:]\n",
    "        mass = snap_data['PartType0/Masses'][:]\n",
    "\n",
    "        mask_jet = jet_tracer > 1e-3\n",
    "        time = get_time_from_snap(snap_data) * unit_time_in_megayr\n",
    "        distance_sq = x ** 2 + y ** 2 + z ** 2\n",
    "\n",
    "        if len(distance_sq[mask_jet]) > 0:\n",
    "#             distance_100 = np.sqrt(np.percentile(distance_sq[mask_jet], 100))\n",
    "#             distance_80 = np.sqrt(np.percentile(distance_sq[mask_jet], 80))\n",
    "#             distance_50 = np.sqrt(np.percentile(distance_sq[mask_jet], 50))\n",
    "            \n",
    "            distance_100 = np.sqrt(weighted_percentile(distance_sq[mask_jet], jet_tracer[mask_jet] * mass[mask_jet], 1))\n",
    "            distance_80 = np.sqrt(weighted_percentile(distance_sq[mask_jet], jet_tracer[mask_jet] * mass[mask_jet], 0.8))\n",
    "            distance_50 = np.sqrt(weighted_percentile(distance_sq[mask_jet], jet_tracer[mask_jet] * mass[mask_jet], 0.5))\n",
    "        else:\n",
    "            distance_100 = 0\n",
    "            distance_80 = 0\n",
    "            distance_50 = 0\n",
    "\n",
    "        distance_array.append([time, distance_100, distance_80, distance_50])\n",
    "    return np.array(distance_array).T"
   ]
  },
  {
   "cell_type": "code",
   "execution_count": null,
   "id": "1f162d83-fb93-43c7-8620-7a8fb4b7869b",
   "metadata": {},
   "outputs": [],
   "source": [
    "dist_38_8_15 = percentile_distance_3('holylfs05', '2kpc', 20, 8, 38, '15')\n",
    "dist_40_8_15 = percentile_distance_3('holylfs05', '2kpc', 20, 8, 40, '15')\n",
    "dist_43_8_15 = percentile_distance_3('holylfs05', '2kpc', 20, 8, 43, '15')"
   ]
  },
  {
   "cell_type": "code",
   "execution_count": null,
   "id": "70c07cd8-cc5f-439f-a122-53a4cc866e0c",
   "metadata": {},
   "outputs": [],
   "source": [
    "dist_40_12_15 = percentile_distance_3('holylfs05', '2kpc', 20, 12, 40, '15')\n",
    "dist_40_4_15 = percentile_distance_3('holylfs05', '2kpc', 20, 4, 40, '15')"
   ]
  },
  {
   "cell_type": "code",
   "execution_count": null,
   "id": "0f7558dd-ea98-4d3c-be96-6a085486d295",
   "metadata": {},
   "outputs": [],
   "source": [
    "dist_40_uniform  = percentile_distance_3('holylfs05', '2kpc', 20, 8, 40, 'uniform')"
   ]
  },
  {
   "cell_type": "code",
   "execution_count": null,
   "id": "1d8d3aad-8380-4fc7-aa7f-6090289526ce",
   "metadata": {},
   "outputs": [],
   "source": [
    "dist_40_uniform_dilute  = percentile_distance_3('holylfs05', '2kpc', 20, 8, 40, 'uniform_dilute')"
   ]
  },
  {
   "cell_type": "code",
   "execution_count": null,
   "id": "10b4a4b1-bceb-4525-9ded-d542651406ff",
   "metadata": {},
   "outputs": [],
   "source": [
    "fig, axes = plt.subplots(figsize=(6,4))\n",
    "\n",
    "# axes.plot(dist_40_4_15[0], dist_40_4_15[2], label='M = 4', c='purple', ls='-', )\n",
    "axes.plot(dist_40_8_15[0], dist_40_8_15[2], label='M = 8', c='tab:blue', ls='-', )\n",
    "# axes.plot(dist_40_12_15[0], dist_40_12_15[2], label='M=12', c='tab:green', ls='-', )\n",
    "\n",
    "# axes.fill_between(dist_40_4_15[0], dist_40_4_15[1], dist_40_4_15[3], color='purple', ls='-', alpha=0.2)\n",
    "axes.fill_between(dist_40_8_15[0], dist_40_8_15[1], dist_40_8_15[3], color='tab:blue', ls='-', alpha=0.2)\n",
    "# axes.fill_between(dist_40_12_15[0], dist_40_12_15[1], dist_40_12_15[3], color='tab:green', ls='-', alpha=0.2)\n",
    "\n",
    "axes.plot(dist_40_uniform[0], dist_40_uniform[1], label='uniform', c='navy', ls='--', )\n",
    "axes.plot(dist_40_uniform_dilute[0], dist_40_uniform_dilute[1], label='uniform dilute', c='aqua', ls='--', )\n",
    "\n",
    "axes.fill_between(dist_40_uniform[0], dist_40_uniform[1], dist_40_uniform[3], color='navy', ls='-', alpha=0.2, hatch='///')\n",
    "axes.fill_between(dist_40_uniform_dilute[0], dist_40_uniform_dilute[1], dist_40_uniform_dilute[3], color='aqua', ls='-', alpha=0.2, hatch='///')\n",
    "\n",
    "axes.set_xlabel('t [Myr]', fontsize=10)\n",
    "axes.set_xlim(15, 20)\n",
    "\n",
    "axes.set_ylabel('jet tracer distance 80th percentile', fontsize=10, zorder=100)\n",
    "axes.grid(ls='--', c='gray', alpha=0.4, zorder=0)\n",
    "axes.legend(fontsize=10, loc='upper left', framealpha=0.6)\n",
    "fig.tight_layout()"
   ]
  },
  {
   "cell_type": "code",
   "execution_count": null,
   "id": "8c82b291-5278-47f7-90ab-3f0e13741702",
   "metadata": {},
   "outputs": [],
   "source": [
    "dist_43_uniform  = percentile_distance('holylfs05', '2kpc', 20, 8, 43, 'uniform')\n",
    "dist_40_uniform  = percentile_distance('holylfs05', '2kpc', 20, 8, 40, 'uniform')\n",
    "dist_38_uniform  = percentile_distance('holylfs05', '2kpc', 20, 8, 38, 'uniform')"
   ]
  },
  {
   "cell_type": "code",
   "execution_count": null,
   "id": "c3940700-34ff-4cab-9872-4a29672bb750",
   "metadata": {},
   "outputs": [],
   "source": [
    "dist_43_uniform_dilute  = percentile_distance_3('holylfs05', '2kpc', 20, 8, 43, 'uniform_dilute')\n",
    "dist_40_uniform_dilute  = percentile_distance_3('holylfs05', '2kpc', 20, 8, 40, 'uniform_dilute')\n",
    "dist_38_uniform_dilute  = percentile_distance_3('holylfs05', '2kpc', 20, 8, 38, 'uniform_dilute')"
   ]
  }
 ],
 "metadata": {
  "kernelspec": {
   "display_name": "Python 3 (ipykernel)",
   "language": "python",
   "name": "python3"
  },
  "language_info": {
   "codemirror_mode": {
    "name": "ipython",
    "version": 3
   },
   "file_extension": ".py",
   "mimetype": "text/x-python",
   "name": "python",
   "nbconvert_exporter": "python",
   "pygments_lexer": "ipython3",
   "version": "3.6.8"
  }
 },
 "nbformat": 4,
 "nbformat_minor": 5
}
