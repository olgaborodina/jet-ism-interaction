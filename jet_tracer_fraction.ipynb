{
 "cells": [
  {
   "cell_type": "markdown",
   "id": "8f770e21",
   "metadata": {},
   "source": [
    "this is another messy notebook! this one is used to study jet trscer volume fraction"
   ]
  },
  {
   "cell_type": "code",
   "execution_count": null,
   "id": "a0eec00e",
   "metadata": {},
   "outputs": [],
   "source": [
    "import glob\n",
    "import os\n",
    "from natsort import natsorted\n",
    "from postprocessing import *"
   ]
  },
  {
   "cell_type": "code",
   "execution_count": null,
   "id": "7134dad4",
   "metadata": {},
   "outputs": [],
   "source": [
    "mpl.rcParams['figure.dpi']= 200"
   ]
  },
  {
   "cell_type": "code",
   "execution_count": null,
   "id": "3b4e951a",
   "metadata": {},
   "outputs": [],
   "source": [
    "simulation_directory_jet = str('/n/holystore01/LABS/hernquist_lab/Users/borodina/turb_drive_center_d100_m12/jet41_early')\n",
    "output_directory_jet = simulation_directory_jet + \"/output/\"\n",
    "figures_directory_jet = simulation_directory_jet + \"/output/figures/\""
   ]
  },
  {
   "cell_type": "code",
   "execution_count": null,
   "id": "bfd878f7",
   "metadata": {},
   "outputs": [],
   "source": [
    "i_file = 5\n",
    "filename = \"snap_%03d.hdf5\" % (i_file)\n",
    "snap_data = h5py.File(output_directory_jet + filename, \"r\")"
   ]
  },
  {
   "cell_type": "code",
   "execution_count": null,
   "id": "cc1915ed",
   "metadata": {},
   "outputs": [],
   "source": [
    "x = snap_data['PartType0/Jet_Tracer'][:]"
   ]
  },
  {
   "cell_type": "code",
   "execution_count": null,
   "id": "1dc60488",
   "metadata": {},
   "outputs": [],
   "source": [
    "k1 = snap_data['Config'].attrs['BH_CONSTANT_POWER_RADIOMODE_IN_ERG_PER_S']\n",
    "print(k1)"
   ]
  },
  {
   "cell_type": "code",
   "execution_count": null,
   "id": "dcf4dbf5",
   "metadata": {},
   "outputs": [],
   "source": [
    "plt.hist(np.log10(x[x>1e-25]), bins=100, log=True)\n",
    "plt.axvline(-3, c='black', zorder=100)\n",
    "plt.xlabel('jet tracer')"
   ]
  },
  {
   "cell_type": "code",
   "execution_count": null,
   "id": "1858a8bd",
   "metadata": {},
   "outputs": [],
   "source": [
    "density_arr  = np.array([30, 60, 100, 200, 300])\n",
    "jetpower_arr = np.array([41, 42, 43, 44])\n",
    "machnum_arr  = np.array([4, 8, 12])"
   ]
  },
  {
   "cell_type": "code",
   "execution_count": null,
   "id": "a77451a4",
   "metadata": {},
   "outputs": [],
   "source": [
    "threshold_tracer = 1e-3"
   ]
  },
  {
   "cell_type": "code",
   "execution_count": null,
   "id": "fdb7a9a5",
   "metadata": {},
   "outputs": [],
   "source": [
    "def calculate_jet_tracer_dj(i_file, density_arr=density_arr, jetpower_arr=jetpower_arr, mach=8):\n",
    "    \"\"\"\n",
    "    Create a table with jet tracer volume fraction for different density and jet power values\n",
    "    Input: i_file       (snapshot number)\n",
    "           density_arr  (array of number densities for which simulations exist)\n",
    "           jetpower_arr (array of jet power values for which simulations exist)\n",
    "           mach         (mach number)\n",
    "    Output: array with three columns: number density, jet power, and jet volume fraction. and time of the snapshot in Myr\n",
    "    \n",
    "    \"\"\"\n",
    "    \n",
    "    result = []\n",
    "    for density in density_arr:\n",
    "        for jetpower in jetpower_arr:\n",
    "            \n",
    "            simulation_directory_jet = str(f'/n/holyscratch01/hernquist_lab/borodina/turb_drive_center_d{density}_m{mach}/jet{jetpower}_early')\n",
    "            output_directory_jet = simulation_directory_jet + \"/output/\"\n",
    "            filename = \"snap_%03d.hdf5\" % (i_file)\n",
    "            try:\n",
    "                snap_data = h5py.File(output_directory_jet + filename, \"r\")\n",
    "                volume = snap_data['PartType0/Masses'][:]/snap_data['PartType0/Density'][:] \n",
    "                tracer = snap_data['PartType0/Jet_Tracer'][:]\n",
    "                jet_volume = volume[tracer > threshold_tracer]\n",
    "                jet_volume_fraction = np.sum(jet_volume)/np.sum(volume)\n",
    "                result.append([density, jetpower, jet_volume_fraction])\n",
    "            except:\n",
    "                result.append([density, jetpower, -1])\n",
    "    time = get_time_from_snap(snap_data)\n",
    "    return np.array(result).T, time * unit_time_in_megay"
   ]
  },
  {
   "cell_type": "code",
   "execution_count": null,
   "id": "0df783e9",
   "metadata": {},
   "outputs": [],
   "source": [
    "xaxis = np.array([1, 1, 1, 1, 2, 2, 2, 2, 3, 3, 3, 3, 4, 4, 4, 4, 5, 5, 5, 5])\n",
    "\n",
    "for i in [0, 1, 2, 2, 3, 4, 5, 6, 7, 8, 9, 10, 11]:\n",
    "    result, time = calculate_jet_tracer_dj(i)\n",
    "    \n",
    "    fig, ax = plt.subplots(figsize=(4.5, 3))\n",
    "    norm=plt.Normalize(np.log10(5e-4), np.log10(0.2))\n",
    "\n",
    "    mask = (result[2] > 0)\n",
    "\n",
    "    sc = ax.scatter(xaxis[mask], result[1][mask], c=np.log10(result[2][mask]), \n",
    "                    cmap='plasma', norm=norm, marker='s', s=1580, zorder=100)\n",
    "    ax.tick_params(labelsize=12, direction='in')\n",
    "\n",
    "    locs, labels = plt.xticks()  # Get the current locations and labels.\n",
    "    plt.xticks([1, 2, 3, 4, 5], density_arr)  # Set text labels and properties.\n",
    "    ax.set_xlim(0.5, 5.5)\n",
    "    ax.set_ylim(40.5, 44.5)\n",
    "\n",
    "    ax.set_xlabel('density [cm$^{-3}$]', fontsize=15)\n",
    "    ax.set_ylabel('log (jet power)', fontsize=15)\n",
    "\n",
    "    cbar = plt.colorbar(sc, format='%g')\n",
    "    cbar.set_label(label=r'log(jet tracer volume fraction)', size=10)\n",
    "\n",
    "    ax.set_title(\"t=%.2f Myr\"%(time * unit_time_in_megayr))\n",
    "    plt.savefig( f'./figures/jet_tracer_dj_{i}.png', bbox_inches='tight', dpi=300)\n",
    "    plt.close()"
   ]
  },
  {
   "cell_type": "code",
   "execution_count": null,
   "id": "2f1f8dc1",
   "metadata": {},
   "outputs": [],
   "source": [
    "def calculate_jet_tracer_mnum(i_file, machnum_arr=machnum_arr, jetpower_arr=jetpower_arr, density=100):\n",
    "    \"\"\"\n",
    "    Create a table with jet tracer volume fraction for different mach numbers and jet power values\n",
    "    Input: i_file       (snapshot number)\n",
    "           machnum_arr  (array of mach numbers for which simulations exist)\n",
    "           jetpower_arr (array of jet power values for which simulations exist)\n",
    "           density      (number density of the simulation)\n",
    "           \n",
    "    Output: array with three columns: mach number, jet power, and jet volume fraction. and time of the snapshot in Myr\n",
    "    \n",
    "    \"\"\"\n",
    "    result = []\n",
    "    for machnum in machnum_arr:\n",
    "        for jetpower in jetpower_arr:\n",
    "            simulation_directory_jet = str(f'/n/holyscratch01/hernquist_lab/borodina/turb_drive_center_d{density}_m{machnum}/jet{jetpower}_early')\n",
    "            output_directory_jet = simulation_directory_jet + \"/output/\"\n",
    "            filename = \"snap_%03d.hdf5\" % (i_file)\n",
    "            try:\n",
    "                snap_data = h5py.File(output_directory_jet + filename, \"r\")\n",
    "                volume = snap_data['PartType0/Masses'][:]/snap_data['PartType0/Density'][:] \n",
    "                tracer = snap_data['PartType0/Jet_Tracer'][:]\n",
    "                jet_volume = volume[tracer > threshold_tracer]\n",
    "                jet_volume_fraction = np.sum(jet_volume)/np.sum(volume)\n",
    "                result.append([machnum, jetpower, jet_volume_fraction])\n",
    "            except:\n",
    "                result.append([machnum, jetpower, -1])\n",
    "    time = get_time_from_snap(snap_data)\n",
    "    return np.array(result).T, time * unit_time_in_megay"
   ]
  },
  {
   "cell_type": "code",
   "execution_count": null,
   "id": "75f3ba02",
   "metadata": {},
   "outputs": [],
   "source": [
    "xaxis = np.array([1, 1, 1, 1, 2, 2, 2, 2, 3, 3, 3, 3])\n",
    "for i in [0, 1, 2, 2, 3, 4, 5, 6, 7, 8, 9, 10, 11]:\n",
    "    result, time = calculate_jet_tracer_mnum(i)\n",
    "\n",
    "    fig, ax = plt.subplots(figsize=(2.7, 3))\n",
    "    norm=plt.Normalize(np.log10(5e-4), np.log10(0.2))\n",
    "\n",
    "    mask = (result[2] > 0)\n",
    "\n",
    "    sc = ax.scatter(xaxis[mask], result[1][mask], c=np.log10(result[2][mask]), \n",
    "                    cmap='plasma', norm=norm, marker='s', s=1580, zorder=100)\n",
    "    ax.tick_params(labelsize=12, direction='in')\n",
    "\n",
    "    locs, labels = plt.xticks()  # Get the current locations and labels.\n",
    "    plt.xticks([1, 2, 3], machnum_arr)  # Set text labels and properties.\n",
    "    ax.set_xlim(0.5, 3.5)\n",
    "    ax.set_ylim(40.5, 44.5)\n",
    "\n",
    "    ax.set_xlabel('Mach number', fontsize=15)\n",
    "    ax.set_ylabel('log (jet power)', fontsize=15)\n",
    "\n",
    "    cbar = plt.colorbar(sc, format='%g')\n",
    "    cbar.set_label(label=r'log(jet tracer volume fraction)', size=10)\n",
    "\n",
    "    ax.set_title(\"t=%.2f Myr\"%(time * unit_time_in_megayr))\n",
    "    plt.savefig( f'./figures/jet_tracer_mnum_{i}.png', bbox_inches='tight', dpi=300)\n",
    "    plt.close()"
   ]
  },
  {
   "cell_type": "markdown",
   "id": "39e0eea3",
   "metadata": {},
   "source": [
    "## make gif"
   ]
  },
  {
   "cell_type": "code",
   "execution_count": null,
   "id": "081bb598",
   "metadata": {},
   "outputs": [],
   "source": [
    "from PIL import Image\n",
    "\n",
    "# make gif\n",
    "#--------------------------\n",
    "def crop_img(im):\n",
    "    width, height = im.size\n",
    "    left = 9\n",
    "    top =  3\n",
    "    right = width - 3\n",
    "    bottom = height - 9\n",
    "    im = im.crop((left, top, right, bottom))\n",
    "    return im\n",
    "\n",
    "ifilename = './figures/jet_tracer_dj*.png'\n",
    "ofilename = './figures/jet_tracer-dj.gif'\n",
    "imgs = natsorted(glob.glob(ifilename))\n",
    "\n",
    "frames = []\n",
    "for i in imgs:\n",
    "    new_frame = Image.open(i)\n",
    "    frames.append(crop_img(new_frame))\n",
    "\n",
    "frames[0].save(ofilename, format='GIF',\n",
    "               append_images=frames[1:],\n",
    "               save_all=True,\n",
    "               duration=140, loop=0)"
   ]
  },
  {
   "cell_type": "markdown",
   "id": "8ec04533",
   "metadata": {},
   "source": [
    "## time evolution with density"
   ]
  },
  {
   "cell_type": "code",
   "execution_count": null,
   "id": "b7d0ba78",
   "metadata": {},
   "outputs": [],
   "source": [
    "def jet_and_density(density, machnumber, jetpower, start='early'):\n",
    "    \"\"\"\n",
    "    Create a table with jet tracer volume fraction and central density evolution with time\n",
    "    Input: density    (number density of the simulation)\n",
    "           machnumber (mach number of the simulation)\n",
    "           jetpower   (jet power of the simulation)\n",
    "           start      (initial snapshot from the turbulent box)\n",
    "           \n",
    "    Output: array with three columns: time un Myr, jet tracer volume fraction, and mean number density within central 50pc\n",
    "    \n",
    "    \"\"\"    \n",
    "    simulation_directory_jet = str(f'/n/holystore01/LABS/hernquist_lab/Users/borodina/turb_drive_center_d{density}_m{machnumber}/jet{jetpower}_{start}')\n",
    "    output_directory_jet = simulation_directory_jet + \"/output/\"\n",
    "    figures_directory_jet = simulation_directory_jet + \"/output/figures/\"\n",
    "    \n",
    "    threshold_tracer = 1e-3\n",
    "    result = []\n",
    "    i_file = -1\n",
    "    while True:\n",
    "        i_file += 1\n",
    "        output_directory_jet = simulation_directory_jet + \"/output/\"\n",
    "        filename = \"snap_%03d.hdf5\" % (i_file)\n",
    "        try:\n",
    "            snap_data = h5py.File(output_directory_jet + filename, \"r\")\n",
    "        except:\n",
    "            break\n",
    "        time = get_time_from_snap(snap_data) * unit_time_in_megayr\n",
    "\n",
    "        volume = snap_data['PartType0/Masses'][:]/snap_data['PartType0/Density'][:]\n",
    "        tracer = snap_data['PartType0/Jet_Tracer'][:]\n",
    "        jet_volume = volume[tracer > threshold_tracer]\n",
    "        jet_volume_fraction = np.sum(jet_volume)/np.sum(volume)\n",
    "\n",
    "        x, y, z = snap_data['PartType0/Coordinates'][:].T\n",
    "        mask = (np.sqrt((x - 500) ** 2 + (y - 500) ** 2 + (z - 500) ** 2) < 50)\n",
    "        n_mean = np.mean(snap_data['PartType0/Density'][mask]) * rho_to_numdensity\n",
    "        result.append([time, jet_volume_fraction, n_mean])\n",
    "    return result"
   ]
  },
  {
   "cell_type": "code",
   "execution_count": null,
   "id": "ca11bd8b",
   "metadata": {},
   "outputs": [],
   "source": [
    "result_4_early  = np.array(jet_and_density(100,  4, 41, 'early')).T\n",
    "result_8_early  = np.array(jet_and_density(100,  8, 41, 'early')).T\n",
    "result_12_early = np.array(jet_and_density(100, 12, 41, 'early')).T\n",
    "\n",
    "result_4_mid  = np.array(jet_and_density(100,  4, 41, 'mid')).T\n",
    "result_8_mid  = np.array(jet_and_density(100,  8, 41, 'mid')).T\n",
    "result_12_mid = np.array(jet_and_density(100, 12, 41, 'mid')).T\n",
    "\n",
    "result_4_later  = np.array(jet_and_density(100,  4, 41, 'later')).T\n",
    "result_8_later  = np.array(jet_and_density(100,  8, 41, 'later')).T\n",
    "result_12_later = np.array(jet_and_density(100, 12, 41, 'later')).T\n",
    "\n",
    "result_uni = np.array(jet_and_density(100, 8, 42, 'uniform')).T\n"
   ]
  },
  {
   "cell_type": "code",
   "execution_count": null,
   "id": "49ed3597",
   "metadata": {},
   "outputs": [],
   "source": [
    "len(result_4_later[1])"
   ]
  },
  {
   "cell_type": "code",
   "execution_count": null,
   "id": "304921b1",
   "metadata": {},
   "outputs": [],
   "source": [
    "fig, ax1 = plt.subplots(figsize=(5,3))\n",
    "# ax2 = ax1.twinx()\n",
    "\n",
    "\n",
    "\n",
    "ax1.plot(result_12_early[0], result_12_early[1], label='m=12 jet=42', c='darkblue', ls='--', )\n",
    "ax1.plot(result_8_early[0], result_8_early[1], label='m=8 j=42', c='darkgreen', ls='--', )\n",
    "ax1.plot(result_4_early[0], result_4_early[1], label='m=4 j=42', c='darkred', ls='--', )\n",
    "\n",
    "ax1.plot(result_uni[0], result_uni[1], label='m=0 j=42', c='black', ls='-')\n",
    "\n",
    "ax1.axhline(0.05, c='gray', ls='--')\n",
    "\n",
    "ax1.set_xlabel('t [Myr]', fontsize=10)\n",
    "ax1.set_xlim(0, 3.5)\n",
    "ax1.set_ylim(1e-4, 0.2)\n",
    "# ax2.set_ylim(10, 6e3)\n",
    "\n",
    "ax1.set_ylabel('jet tracer volume fraction (--)', fontsize=10)\n",
    "# ax2.set_ylabel('mean density inside central 50 pc [cm$^{-3}$](-)', fontsize=10)\n",
    "ax1.set_yscale('log')\n",
    "# ax2.set_yscale('log')\n",
    "plt.legend(fontsize=9, loc='lower right')\n",
    "plt.show()"
   ]
  },
  {
   "cell_type": "code",
   "execution_count": null,
   "id": "940f74c6",
   "metadata": {},
   "outputs": [],
   "source": [
    "result_early  = np.array(jet_and_density(100,  12, 41, 'early')).T\n",
    "result_mid  = np.array(jet_and_density(100,  12, 41, 'mid')).T\n",
    "result_later = np.array(jet_and_density(100,  12, 41, 'later')).T\n",
    "result_uni = np.array(jet_and_density(100, 8, 41, 'uniform')).T"
   ]
  },
  {
   "cell_type": "code",
   "execution_count": null,
   "id": "c924c5be",
   "metadata": {},
   "outputs": [],
   "source": [
    "fig, ax1 = plt.subplots(figsize=(5,3))\n",
    "\n",
    "\n",
    "ax1.plot(result_early[0], result_early[1], label='m=12 jet=41', c='darkred', ls='--', )\n",
    "# ax2.plot(result_100_12_41[0], result_100_12_41[2], label='m=12 jet=41', c='darkblue')\n",
    "\n",
    "ax1.plot(result_mid[0], result_mid[1], c='darkred', ls='--', )\n",
    "# ax2.plot(result_100_8_41[0], result_100_8_41[2], label='m=8 j=41', c='darkgreen')\n",
    "\n",
    "ax1.plot(result_later[0], result_later[1], c='darkred', ls='--', )\n",
    "# ax2.plot(result_100_4_41[0], result_100_4_41[2], label='m=4 j=41', c='darkred')\n",
    "\n",
    "ax1.plot(result_uni[0], result_uni[1], label='no turbulence', c='black', ls='-')\n",
    "\n",
    "ax1.axhline(0.05, c='gray', ls='--')\n",
    "\n",
    "ax1.set_xlabel('t [Myr]', fontsize=10)\n",
    "ax1.set_xlim(0, 3.5)\n",
    "ax1.set_ylim(1e-4, 0.2)\n",
    "# ax2.set_ylim(10, 6e3)\n",
    "\n",
    "ax1.set_ylabel('jet tracer volume fraction (--)', fontsize=10)\n",
    "# ax2.set_ylabel('mean density inside central 50 pc [cm$^{-3}$](-)', fontsize=10)\n",
    "ax1.set_yscale('log')\n",
    "# ax2.set_yscale('log')\n",
    "plt.legend(fontsize=9, loc='lower right')\n",
    "plt.show()"
   ]
  },
  {
   "cell_type": "code",
   "execution_count": null,
   "id": "95cca786",
   "metadata": {},
   "outputs": [],
   "source": []
  }
 ],
 "metadata": {
  "kernelspec": {
   "display_name": "Python 3",
   "language": "python",
   "name": "python3"
  },
  "language_info": {
   "codemirror_mode": {
    "name": "ipython",
    "version": 3
   },
   "file_extension": ".py",
   "mimetype": "text/x-python",
   "name": "python",
   "nbconvert_exporter": "python",
   "pygments_lexer": "ipython3",
   "version": "3.6.8"
  }
 },
 "nbformat": 4,
 "nbformat_minor": 5
}
