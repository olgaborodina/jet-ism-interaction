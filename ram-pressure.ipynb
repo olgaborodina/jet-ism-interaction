{
 "cells": [
  {
   "cell_type": "code",
   "execution_count": null,
   "id": "bd756b69",
   "metadata": {},
   "outputs": [],
   "source": [
    "from postprocessing import *\n",
    "import glob\n",
    "import tqdm\n",
    "import os\n",
    "from natsort import natsorted"
   ]
  },
  {
   "cell_type": "code",
   "execution_count": null,
   "id": "4be6f4d3",
   "metadata": {},
   "outputs": [],
   "source": [
    "mpl.rcParams['figure.dpi']= 200"
   ]
  },
  {
   "cell_type": "code",
   "execution_count": null,
   "id": "da47ca75",
   "metadata": {},
   "outputs": [],
   "source": [
    "density = 20\n",
    "mach = 4\n",
    "jetpower = 40\n",
    "start = '15'"
   ]
  },
  {
   "cell_type": "code",
   "execution_count": null,
   "id": "d675169c",
   "metadata": {},
   "outputs": [],
   "source": [
    "simulation_directory = str(f'/n/holylfs05/LABS/hernquist_lab/Users/borodina/2kpc/turb_jet_d{density}_m{mach}/jet{jetpower}_{start}')\n",
    "output_directory = simulation_directory + \"/output/\"\n",
    "figures_directory = simulation_directory + \"/output/figures/\""
   ]
  },
  {
   "cell_type": "code",
   "execution_count": null,
   "id": "303cd436",
   "metadata": {},
   "outputs": [],
   "source": [
    "def calculate_ram_pressure(filename):\n",
    "    snap_data = h5py.File(output_directory + filename, \"r\")\n",
    "    vx, vy, vz = snap_data['PartType0/Velocities'][:].T\n",
    "    density = snap_data['PartType0/Density'][:]\n",
    "\n",
    "    center = 0.5 * snap_data[\"Header\"].attrs[\"BoxSize\"]\n",
    "    v_total_sq = vx ** 2 + vy ** 2 + vz ** 2\n",
    "\n",
    "    ram_pressure = density * v_total_sq * unit_density * unit_velocity * unit_velocity\n",
    "    return ram_pressure\n",
    "    \n",
    "    \n",
    "def calculate_thermal_pressure(filename):\n",
    "    snap_data = h5py.File(output_directory + filename, \"r\")\n",
    "    density = snap_data['PartType0/Density'][:]\n",
    "    temperature = get_temp(output_directory + filename, 5/3)\n",
    "    number_density = density * rho_to_numdensity \n",
    "    thermal_pressure = temperature * number_density * BOLTZMANN\n",
    "\n",
    "    return thermal_pressure   \n",
    "    "
   ]
  },
  {
   "cell_type": "code",
   "execution_count": null,
   "id": "0301b4e2",
   "metadata": {},
   "outputs": [],
   "source": [
    "def calculate_ratio(filename):\n",
    "    snap_data = h5py.File(output_directory + filename, \"r\")\n",
    "    x, y, z = snap_data['PartType0/Coordinates'][:].T\n",
    "    vx, vy, vz = snap_data['PartType0/Velocities'][:].T\n",
    "    density = snap_data['PartType0/Density'][:]\n",
    "    temperature = get_temp(output_directory + filename, 5/3)\n",
    "\n",
    "    center = 0.5 * snap_data[\"Header\"].attrs[\"BoxSize\"]\n",
    "    v_radial_sq = ((vx * (x - center) + vy * (y - center) + vz * (z - center)) / np.sqrt((x - center) ** 2 +(y - center) ** 2 + (z - center) ** 2)) ** 2\n",
    "    v_total_sq = vx ** 2 + vy ** 2 + vz ** 2\n",
    "    number_density = density * rho_to_numdensity \n",
    "    \n",
    "    #ram_pressure = density * v_radial_sq * unit_density * unit_velocity * unit_velocity\n",
    "    ram_pressure = density * v_total_sq * unit_density * unit_velocity * unit_velocity\n",
    "    thermal_pressure = temperature * number_density * BOLTZMANN\n",
    "    \n",
    "    ratio = (ram_pressure - thermal_pressure) / (ram_pressure + thermal_pressure)\n",
    "    return ratio"
   ]
  },
  {
   "cell_type": "code",
   "execution_count": null,
   "id": "3fe70eb6",
   "metadata": {},
   "outputs": [],
   "source": [
    "i_file = 45\n",
    "filename = \"snap_%03d.hdf5\" % (i_file)"
   ]
  },
  {
   "cell_type": "code",
   "execution_count": null,
   "id": "c181a78d",
   "metadata": {},
   "outputs": [],
   "source": [
    "ratio = calculate_ratio(filename)"
   ]
  },
  {
   "cell_type": "markdown",
   "id": "6a194f28",
   "metadata": {},
   "source": [
    "## plotting"
   ]
  },
  {
   "cell_type": "code",
   "execution_count": null,
   "id": "513f824f",
   "metadata": {},
   "outputs": [],
   "source": [
    "fig, ax = plt.subplots(figsize=(6,5))\n",
    "plot_random(ax, output_directory + filename, value=ratio, limits=[-1, 1], log=False,\n",
    "            value_name='$(P_{ram} - P_{thermal}) / (P_{ram} + P_{thermal})$', fac=0.5, t0=0)\n",
    "plt.xticks([500, 700, 900, 1100, 1300, 1500], [0, 200, 400, 600, 800, 1000])\n",
    "plt.yticks([500, 700, 900, 1100, 1300, 1500], [0, 200, 400, 600, 800, 1000])"
   ]
  },
  {
   "cell_type": "code",
   "execution_count": null,
   "id": "591c61af",
   "metadata": {},
   "outputs": [],
   "source": [
    "i_file = 8\n",
    "while True:\n",
    "    i_file += 1\n",
    "    filename = \"snap_%03d.hdf5\" % (i_file)\n",
    "    try:\n",
    "        snap_data = h5py.File(output_directory + filename, \"r\")\n",
    "    except:\n",
    "        break\n",
    "    fig, ax = plt.subplots(figsize=(6,7))\n",
    "    ratio = calculate_ratio(filename)\n",
    "    plot_random(ax, output_directory + filename, value=ratio, limits=[-1, 1],\n",
    "            value_name='$(P_{ram} - P_{thermal}) / (P_{ram} + P_{thermal})$', fac=0.5, t0=0)\n",
    "    plt.savefig(figures_directory + f'pressure_ratio_total_{i_file}.png', dpi=300, bbox_inches='tight')\n",
    "    plt.close()"
   ]
  },
  {
   "cell_type": "code",
   "execution_count": null,
   "id": "f21cd86f",
   "metadata": {},
   "outputs": [],
   "source": [
    "from PIL import Image\n",
    "\n",
    "# make gif\n",
    "#--------------------------\n",
    "def crop_img(im):\n",
    "    width, height = im.size\n",
    "    left = 9\n",
    "    top =  3\n",
    "    right = width - 3\n",
    "    bottom = height - 9\n",
    "    im = im.crop((left, top, right, bottom))\n",
    "    return im\n",
    "\n",
    "ifilename = figures_directory + '/pressure_ratio_total*.png'\n",
    "ofilename = figures_directory + '/pressure_ratio_total-jet.gif'\n",
    "imgs = natsorted(glob.glob(ifilename))\n",
    "\n",
    "timestep=4\n",
    "\n",
    "frames = []\n",
    "for i in imgs:\n",
    "    new_frame = Image.open(i)\n",
    "    frames.append(crop_img(new_frame))\n",
    "\n",
    "frames[0].save(ofilename, format='GIF',\n",
    "               append_images=frames[1:],\n",
    "               save_all=True,\n",
    "               duration=len(imgs) * timestep, loop=0)"
   ]
  },
  {
   "cell_type": "markdown",
   "id": "c468dddc",
   "metadata": {},
   "source": [
    "## histograms"
   ]
  },
  {
   "cell_type": "code",
   "execution_count": null,
   "id": "d07d8a31",
   "metadata": {},
   "outputs": [],
   "source": [
    "i_file = 60\n",
    "filename = \"snap_%03d.hdf5\" % (i_file)"
   ]
  },
  {
   "cell_type": "code",
   "execution_count": null,
   "id": "fbb24377",
   "metadata": {},
   "outputs": [],
   "source": [
    "snap_data = h5py.File(output_directory + filename, \"r\")\n",
    "x, y, z = snap_data['PartType0/Coordinates'][:].T\n",
    "vx, vy, vz = snap_data['PartType0/Velocities'][:].T\n",
    "density = snap_data['PartType0/Density'][:]\n",
    "masses  = snap_data['PartType0/Masses'][:]\n",
    "jet_tracer = snap_data['PartType0/Jet_Tracer'][:]\n",
    "temperature = get_temp(output_directory + filename, 5/3)\n",
    "\n",
    "center = 0.5 * snap_data[\"Header\"].attrs[\"BoxSize\"]\n",
    "v_radial_sq = ((vx * (x - center) + vy * (y - center) + vz * (z - center)) / np.sqrt((x - center) ** 2 +(y - center) ** 2 + (z - center) ** 2)) ** 2\n",
    "v_total_sq = vx ** 2 + vy ** 2 + vz ** 2\n",
    "number_density = density * rho_to_numdensity \n",
    "\n",
    "#ram_pressure = density * v_radial_sq * unit_density * unit_velocity * unit_velocity\n",
    "ram_pressure = density * v_total_sq * unit_density * unit_velocity * unit_velocity\n",
    "thermal_pressure = calculate_thermal_pressure(filename)"
   ]
  },
  {
   "cell_type": "code",
   "execution_count": null,
   "id": "a9313d73",
   "metadata": {},
   "outputs": [],
   "source": [
    "mask_jet_left = (jet_tracer > 1e-3) & ((x-center) ** 2 + (y-center) ** 2 + (z-center) ** 2 < 500 ** 2) & (x < center)\n",
    "mask_jet_right = (jet_tracer > 1e-3) & ((x-center) ** 2 + (y-center) ** 2 + (z-center) ** 2 < 500 ** 2) & (x > center)\n",
    "mask_medium = (jet_tracer < 1e-3) & ((x-center) ** 2 + (y-center) ** 2 + (z-center) ** 2 < 500 ** 2 )\n",
    "mask_shell_left = (jet_tracer < 1e-3) & (jet_tracer > 1e-4) & ((x-center) ** 2 + (y-center) ** 2 + (z-center) ** 2 < 500 ** 2) & (x < center)\n",
    "mask_shell_right = (jet_tracer < 1e-3) & (jet_tracer > 1e-4) & ((x-center) ** 2 + (y-center) ** 2 + (z-center) ** 2 < 500 ** 2) & (x > center)\n"
   ]
  },
  {
   "cell_type": "code",
   "execution_count": null,
   "id": "c0e1b27f",
   "metadata": {},
   "outputs": [],
   "source": [
    "bins = np.logspace(-14, -5, 61)\n",
    "bins_step = bins[1] - bins[0]"
   ]
  },
  {
   "cell_type": "code",
   "execution_count": null,
   "id": "ee05cc88",
   "metadata": {},
   "outputs": [],
   "source": [
    "fig, ax = plt.subplots(figsize=(5.5, 3))\n",
    "ax.hist((ram_pressure[mask_shell_left]), bins=bins,\n",
    "    log=True, weights=masses[mask_shell_left], label=r'$P_\\mathrm{ram}$ jet neighborhood left', alpha=1, lw=2, color='royalblue', histtype='step', linestyle=(0, (5, 1)))\n",
    "ax.hist((ram_pressure[mask_shell_right]), bins=bins,\n",
    "    log=True, weights=masses[mask_shell_right], label=r'$P_\\mathrm{ram}$ jet neighborhood right', alpha=1, lw=2, color='darkblue', histtype='step')\n",
    "\n",
    "ax.hist((ram_pressure[mask_jet_left]), bins=bins,\n",
    "    log=True, weights=masses[mask_jet_left], label=r'$P_\\mathrm{ram}$, jet left', alpha=1, lw=2, color='goldenrod', histtype='step', linestyle=(0, (5, 1)))\n",
    "ax.hist((ram_pressure[mask_jet_right]), bins=bins,\n",
    "    log=True, weights=masses[mask_jet_right], label=r'$P_\\mathrm{ram}$ jet right', alpha=1, lw=2, color='darkgoldenrod', histtype='step')\n",
    "\n",
    "ax.hist((thermal_pressure[mask_jet_left]), bins=bins,\n",
    "    log=True, weights=masses[mask_jet_left], label=r'$P_\\mathrm{thermal}$, jet left', alpha=1, lw=2, color='lightcoral', histtype='step', linestyle=(0, (5, 1)))\n",
    "ax.hist((thermal_pressure[mask_jet_right]), bins=bins,\n",
    "    log=True, weights=masses[mask_jet_right], label=r'$P_\\mathrm{thermal}$, jet right', alpha=1, lw=2, color='firebrick', histtype='step')\n",
    "\n",
    "ax.set_xscale('log')\n",
    "\n",
    "plt.title(fr't = {np.round(get_time_from_snap(snap_data) * unit_time_in_megayr, 2)} Myr')\n",
    "plt.legend(loc='upper left',fontsize=7, fancybox=True, framealpha=0.5)\n",
    "plt.grid(ls='--', zorder = 100, alpha=0.5)\n",
    "\n",
    "ax.set_xlabel('pressure, Bar')\n",
    "ax.set_ylabel(r'Mass, $M_\\odot$')\n",
    "\n",
    "ax.set_ylim(1e-1, 1e8)"
   ]
  },
  {
   "cell_type": "code",
   "execution_count": null,
   "id": "ead6c711",
   "metadata": {},
   "outputs": [],
   "source": [
    "i_file = 12 - 1\n",
    "\n",
    "bins = np.logspace(-14, -5, 61)\n",
    "bins_step = bins[1] - bins[0]\n",
    "\n",
    "while True:\n",
    "    i_file += 1\n",
    "\n",
    "    try:\n",
    "        filename = \"snap_%03d.hdf5\" % (i_file)\n",
    "        snap_data = h5py.File(output_directory + filename, \"r\")\n",
    "    except:\n",
    "        break\n",
    "\n",
    "    x, y, z = snap_data['PartType0/Coordinates'][:].T\n",
    "    vx, vy, vz = snap_data['PartType0/Velocities'][:].T\n",
    "    density = snap_data['PartType0/Density'][:]\n",
    "    masses  = snap_data['PartType0/Masses'][:]\n",
    "    jet_tracer = snap_data['PartType0/Jet_Tracer'][:]\n",
    "    temperature = get_temp(output_directory + filename, 5/3)\n",
    "    \n",
    "    center = 0.5 * snap_data[\"Header\"].attrs[\"BoxSize\"]\n",
    "    v_radial_sq = ((vx * (x - center) + vy * (y - center) + vz * (z - center)) / np.sqrt((x - center) ** 2 +(y - center) ** 2 + (z - center) ** 2)) ** 2\n",
    "    v_total_sq = vx ** 2 + vy ** 2 + vz ** 2\n",
    "    number_density = density * rho_to_numdensity \n",
    "    \n",
    "    #ram_pressure = density * v_radial_sq * unit_density * unit_velocity * unit_velocity\n",
    "    ram_pressure = density * v_total_sq * unit_density * unit_velocity * unit_velocity\n",
    "    thermal_pressure = calculate_thermal_pressure(filename)\n",
    "    \n",
    "    mask_jet_left = (jet_tracer > 1e-3) & ((x-center) ** 2 + (y-center) ** 2 + (z-center) ** 2 < 500 ** 2) & (x < center)\n",
    "    mask_jet_right = (jet_tracer > 1e-3) & ((x-center) ** 2 + (y-center) ** 2 + (z-center) ** 2 < 500 ** 2) & (x > center)\n",
    "    mask_medium = (jet_tracer < 1e-3) & ((x-center) ** 2 + (y-center) ** 2 + (z-center) ** 2 < 500 ** 2 )\n",
    "    mask_shell_left = (jet_tracer < 1e-3) & (jet_tracer > 1e-4) & ((x-center) ** 2 + (y-center) ** 2 + (z-center) ** 2 < 500 ** 2) & (x < center)\n",
    "    mask_shell_right = (jet_tracer < 1e-3) & (jet_tracer > 1e-4) & ((x-center) ** 2 + (y-center) ** 2 + (z-center) ** 2 < 500 ** 2) & (x > center)\n",
    "\n",
    "    fig, ax = plt.subplots(figsize=(5.5, 3))\n",
    "#     ax.hist((ram_pressure[mask_shell]), bins=bins,\n",
    "#         log=True, weights=masses[mask_shell], label='jet neighborhood', alpha=0.5, color='tab:blue')\n",
    "#     ax.hist((ram_pressure[mask_jet]), bins=bins,\n",
    "#         log=True, weights=masses[mask_jet], label='jet', alpha=0.5, color='tab:red')\n",
    "    \n",
    "    ax.hist((ram_pressure[mask_shell_left]), bins=bins,\n",
    "        log=True, weights=masses[mask_shell_left], label=r'$P_\\mathrm{ram}$ jet neighborhood left', alpha=1, lw=2, color='royalblue', histtype='step', linestyle=(0, (5, 1)))\n",
    "    ax.hist((ram_pressure[mask_shell_right]), bins=bins,\n",
    "        log=True, weights=masses[mask_shell_right], label=r'$P_\\mathrm{ram}$ jet neighborhood right', alpha=1, lw=2, color='darkblue', histtype='step')\n",
    "\n",
    "    ax.hist((ram_pressure[mask_jet_left]), bins=bins,\n",
    "        log=True, weights=masses[mask_jet_left], label=r'$P_\\mathrm{ram}$, jet left', alpha=1, lw=2, color='goldenrod', histtype='step', linestyle=(0, (5, 1)))\n",
    "    ax.hist((ram_pressure[mask_jet_right]), bins=bins,\n",
    "        log=True, weights=masses[mask_jet_right], label=r'$P_\\mathrm{ram}$ jet right', alpha=1, lw=2, color='darkgoldenrod', histtype='step')\n",
    "\n",
    "    ax.hist((thermal_pressure[mask_jet_left]), bins=bins,\n",
    "                 log=True, weights=masses[mask_jet_left], label=r'$P_\\mathrm{thermal}$, jet left', alpha=1, lw=2, color='lightcoral', histtype='step', linestyle=(0, (5, 1)))\n",
    "    ax.hist((thermal_pressure[mask_jet_right]), bins=bins,\n",
    "        log=True, weights=masses[mask_jet_right], label=r'$P_\\mathrm{thermal}$, jet right', alpha=1, lw=2, color='firebrick', histtype='step')\n",
    "\n",
    "    ax.set_xscale('log')\n",
    "\n",
    "    ax.set_xlabel('ram pressure, Ba')\n",
    "    ax.set_ylabel(r'Mass, $M_\\odot$')\n",
    "\n",
    "    ax.set_ylim(1e-1, 1e8)\n",
    "    \n",
    "    plt.title(fr't = {np.round(get_time_from_snap(snap_data) * unit_time_in_megayr, 2)} Myr')\n",
    "    plt.legend(loc='upper left',fontsize=7, fancybox=True, framealpha=0.5)\n",
    "    plt.grid(ls='--', zorder = 100, alpha=0.5)\n",
    "    \n",
    "    plt.savefig(figures_directory + f'pressure_distribution_{i_file}.png', dpi=400, bbox_inches='tight')\n",
    "    plt.close()\n",
    "    "
   ]
  },
  {
   "cell_type": "code",
   "execution_count": null,
   "id": "398e2254-dbbf-4553-b609-3625a3e3ed3a",
   "metadata": {},
   "outputs": [],
   "source": [
    "from PIL import Image\n",
    "\n",
    "# make gif\n",
    "#--------------------------\n",
    "def crop_img(im):\n",
    "    width, height = im.size\n",
    "    left = 9\n",
    "    top =  3\n",
    "    right = width - 3\n",
    "    bottom = height - 9\n",
    "    im = im.crop((left, top, right, bottom))\n",
    "    return im\n",
    "\n",
    "ifilename = figures_directory + f'/pressure_distribution*.png'\n",
    "ofilename = figures_directory + f'/pressure_distribution.gif'\n",
    "imgs = natsorted(glob.glob(ifilename))\n",
    "\n",
    "timestep=2\n",
    "\n",
    "frames = []\n",
    "for i in imgs:\n",
    "    new_frame = Image.open(i)\n",
    "    frames.append(crop_img(new_frame))\n",
    "\n",
    "frames[0].save(ofilename, format='GIF',\n",
    "               append_images=frames[1:],\n",
    "               save_all=True,\n",
    "               duration=len(imgs) * timestep, loop=0)"
   ]
  },
  {
   "cell_type": "markdown",
   "id": "09b107b4",
   "metadata": {},
   "source": [
    "## pressure as function of time"
   ]
  },
  {
   "cell_type": "code",
   "execution_count": null,
   "id": "9688f1bf",
   "metadata": {},
   "outputs": [],
   "source": [
    "i_file = 6\n",
    "pressures = []"
   ]
  },
  {
   "cell_type": "code",
   "execution_count": null,
   "id": "da92bcfc",
   "metadata": {},
   "outputs": [],
   "source": [
    "while True:\n",
    "    i_file += 1\n",
    "\n",
    "    try:\n",
    "        filename = \"snap_%03d.hdf5\" % (i_file)\n",
    "        snap_data = h5py.File(output_directory + filename, \"r\")\n",
    "    except:\n",
    "        break\n",
    "\n",
    "    snap_data = h5py.File(output_directory + filename, \"r\")\n",
    "    x, y, z = snap_data['PartType0/Coordinates'][:].T\n",
    "    vx, vy, vz = snap_data['PartType0/Velocities'][:].T\n",
    "    density = snap_data['PartType0/Density'][:]\n",
    "    jet_tracer = snap_data['PartType0/Jet_Tracer'][:]\n",
    "    temperature = get_temp(output_directory + filename, 5/3)\n",
    "\n",
    "    center = 0.5 * snap_data[\"Header\"].attrs[\"BoxSize\"]\n",
    "    number_density = density * rho_to_numdensity \n",
    "\n",
    "    thermal_pressure = temperature * number_density * BOLTZMANN\n",
    "    pressure = np.mean(thermal_pressure[jet_tracer < 1e-3])\n",
    "    pressures.append([np.round(get_time_from_snap(snap_data) * unit_time_in_megayr, 2), pressure])"
   ]
  },
  {
   "cell_type": "code",
   "execution_count": null,
   "id": "a060b3cc",
   "metadata": {},
   "outputs": [],
   "source": [
    "pressures = np.array(pressures).T"
   ]
  },
  {
   "cell_type": "code",
   "execution_count": null,
   "id": "fa0d7157",
   "metadata": {},
   "outputs": [],
   "source": [
    "plt.plot(pressures[0], pressures[1])\n",
    "plt.ylabel('pressure, Bar')\n",
    "plt.xlabel('time, Myr')"
   ]
  },
  {
   "cell_type": "markdown",
   "id": "bcb7b42d",
   "metadata": {},
   "source": [
    "## highlighting high ram pressure"
   ]
  },
  {
   "cell_type": "code",
   "execution_count": null,
   "id": "c6408faa",
   "metadata": {},
   "outputs": [],
   "source": [
    "i_file = 20\n",
    "filename = \"snap_%03d.hdf5\" % (i_file)"
   ]
  },
  {
   "cell_type": "code",
   "execution_count": null,
   "id": "2f983cb4",
   "metadata": {},
   "outputs": [],
   "source": [
    "snap_data = h5py.File(output_directory + filename, \"r\")\n",
    "x, y, z = snap_data['PartType0/Coordinates'][:].T\n",
    "vx, vy, vz = snap_data['PartType0/Velocities'][:].T\n",
    "density = snap_data['PartType0/Density'][:]\n",
    "masses  = snap_data['PartType0/Masses'][:]\n",
    "jet_tracer = snap_data['PartType0/Jet_Tracer'][:]\n",
    "temperature = get_temp(output_directory + filename, 5/3)\n",
    "\n",
    "center = 0.5 * snap_data[\"Header\"].attrs[\"BoxSize\"]\n",
    "v_radial_sq = ((vx * (x - center) + vy * (y - center) + vz * (z - center)) / np.sqrt((x - center) ** 2 +(y - center) ** 2 + (z - center) ** 2)) ** 2\n",
    "v_total_sq = vx ** 2 + vy ** 2 + vz ** 2\n",
    "number_density = density * rho_to_numdensity \n",
    "\n",
    "#ram_pressure = density * v_radial_sq * unit_density * unit_velocity * unit_velocity\n",
    "ram_pressure = density * v_total_sq * unit_density * unit_velocity * unit_velocity"
   ]
  },
  {
   "cell_type": "code",
   "execution_count": null,
   "id": "2206a27a",
   "metadata": {},
   "outputs": [],
   "source": [
    "jet_pressure = ram_pressure[jet_tracer > 1e-3].max()"
   ]
  },
  {
   "cell_type": "code",
   "execution_count": null,
   "id": "26dcf927",
   "metadata": {},
   "outputs": [],
   "source": [
    "high_pressure_zones = np.zeros_like(ram_pressure)\n",
    "high_pressure_zones_mask = (ram_pressure > jet_pressure)"
   ]
  },
  {
   "cell_type": "code",
   "execution_count": null,
   "id": "a3f13c48",
   "metadata": {},
   "outputs": [],
   "source": [
    "high_pressure_zones[high_pressure_zones_mask] = ram_pressure[high_pressure_zones_mask]"
   ]
  },
  {
   "cell_type": "code",
   "execution_count": null,
   "id": "c40cd160",
   "metadata": {},
   "outputs": [],
   "source": [
    "fig, ax = plt.subplots(figsize=(6,7))\n",
    "# plot_random(ax, output_directory + filename, value=high_pressure_zones, limits=[1e-8, 3e-7], cmap='plasma',\n",
    "#             value_name='$P_{ram}$, Bar', fac=0.5, t0=15)\n",
    "plot_random(ax, output_directory + filename, value=abs(calculate_ram_pressure(\"snap_%03d.hdf5\" % (i_file))), log=True, limits=[1e-8, 3e-7], cmap='plasma',\n",
    "            value_name='$P_{ram}$, Bar', fac=0.5, t0=15)\n",
    "ax.locator_params(axis='y',nbins=5)\n",
    "plot_jet_tracer_on_top(ax, output_directory + filename, fac=0.5, t0=15)"
   ]
  },
  {
   "cell_type": "code",
   "execution_count": null,
   "id": "73db59e3",
   "metadata": {},
   "outputs": [],
   "source": [
    "# n0_jet = 14\n",
    "# i_file = n0_jet # skip snap 0\n",
    "# while True:\n",
    "#     i_file += 1\n",
    "#     filename = \"snap_%03d.hdf5\" % (i_file)\n",
    "#     try:\n",
    "#         snap_data = h5py.File(output_directory + filename, \"r\")\n",
    "#     except:\n",
    "#         break\n",
    "        \n",
    "#     fig, ax = plt.subplots(2, 2, figsize=(8, 6.1))\n",
    "#     fig.tight_layout(w_pad=7.0, h_pad=3.0)\n",
    "#     plot_dens_vel(ax[0][0], output_directory + \"snap_%03d.hdf5\" % (i_file), fac=0.5, t0=0)\n",
    "#     plot_temp_vel(ax[0][1], output_directory + \"snap_%03d.hdf5\" % (i_file), fac=0.5, t0=0)\n",
    "#     plot_jet_tracer(ax[1][1], output_directory + \"snap_%03d.hdf5\" % (i_file), fac=0.5, t0=0)\n",
    "#     plot_random(ax[1][0], output_directory + \"snap_%03d.hdf5\" % (i_file), value=calculate_ram_pressure(\"snap_%03d.hdf5\" % (i_file)), limits=[1e-8, 3e-7], cmap='plasma',\n",
    "#             value_name='$P_{ram}$, Bar', fac=0.5, t0=0)\n",
    "    \n",
    "    \n",
    "#     plt.savefig(figures_directory + f'4panels_{i_file}.png', dpi=300, bbox_inches='tight')\n",
    "#     plt.close()"
   ]
  },
  {
   "cell_type": "code",
   "execution_count": null,
   "id": "858f75b1",
   "metadata": {},
   "outputs": [],
   "source": [
    "# from PIL import Image\n",
    "\n",
    "# # make gif\n",
    "# #--------------------------\n",
    "# def crop_img(im):a\n",
    "#     width, height = im.size\n",
    "#     left = 9\n",
    "#     top =  3\n",
    "#     right = width - 3\n",
    "#     bottom = height - 9\n",
    "#     im = im.crop((left, top, right, bottom))\n",
    "#     return im\n",
    "\n",
    "# ifilename = figures_directory + '/4panels*.png'\n",
    "# ofilename = figures_directory + '/4panels-jet.gif'\n",
    "# imgs = natsorted(glob.glob(ifilename))\n",
    "\n",
    "# timestep=4\n",
    "\n",
    "# frames = []\n",
    "# for i in imgs:\n",
    "#     new_frame = Image.open(i)\n",
    "#     frames.append(crop_img(new_frame))\n",
    "\n",
    "# frames[0].save(ofilename, format='GIF',\n",
    "#                append_images=frames[1:],\n",
    "#                save_all=True,\n",
    "#                duration=len(imgs) * timestep, loop=0)"
   ]
  },
  {
   "cell_type": "code",
   "execution_count": null,
   "id": "46640ab8",
   "metadata": {},
   "outputs": [],
   "source": [
    "i_file = 12 # skip snap 0\n",
    "while True:\n",
    "    i_file += 1\n",
    "    filename = \"snap_%03d.hdf5\" % (i_file)\n",
    "    try:\n",
    "        snap_data = h5py.File(output_directory + filename, \"r\")\n",
    "    except:\n",
    "        break\n",
    "        \n",
    "    fig, ax = plt.subplots(figsize=(4, 4))\n",
    "    plot_random(ax, output_directory + filename, value=abs(calculate_ram_pressure(\"snap_%03d.hdf5\" % (i_file))), log=True, limits=[2e-8, 3e-7], cmap='plasma',\n",
    "                value_name='$P_{ram}$, Bar', fac=0.5, t0=15)\n",
    "    plot_jet_tracer_on_top(ax, output_directory + filename, fac=0.5, t0=15)\n",
    "    plt.savefig(figures_directory + f'ram_pressure_slice_{i_file}.png', dpi=300, bbox_inches='tight')\n",
    "    plt.close()"
   ]
  },
  {
   "cell_type": "code",
   "execution_count": null,
   "id": "6aabbde6",
   "metadata": {},
   "outputs": [],
   "source": [
    "from PIL import Image\n",
    "\n",
    "# make gif\n",
    "#--------------------------\n",
    "def crop_img(im):\n",
    "    width, height = im.size\n",
    "    left = 9\n",
    "    top =  3\n",
    "    right = width - 3\n",
    "    bottom = height - 9\n",
    "    im = im.crop((left, top, right, bottom))\n",
    "    return im\n",
    "\n",
    "ifilename = figures_directory + '/ram_pressure_slice*.png'\n",
    "ofilename = figures_directory + '/ram_pressure_slice-jet.gif'\n",
    "imgs = natsorted(glob.glob(ifilename))\n",
    "\n",
    "timestep=4\n",
    "\n",
    "frames = []\n",
    "for i in imgs:\n",
    "    new_frame = Image.open(i)\n",
    "    frames.append(crop_img(new_frame))\n",
    "\n",
    "frames[0].save(ofilename, format='GIF',\n",
    "               append_images=frames[1:],\n",
    "               save_all=True,\n",
    "               duration=len(imgs) * timestep, loop=0)"
   ]
  },
  {
   "cell_type": "markdown",
   "id": "6f1532ac",
   "metadata": {},
   "source": [
    "## along x axis"
   ]
  },
  {
   "cell_type": "code",
   "execution_count": null,
   "id": "970cb8d0",
   "metadata": {},
   "outputs": [],
   "source": [
    "density = 20\n",
    "mach = 12\n",
    "jetpower = 40\n",
    "start = '15'"
   ]
  },
  {
   "cell_type": "code",
   "execution_count": null,
   "id": "2e19f818",
   "metadata": {},
   "outputs": [],
   "source": [
    "simulation_directory = str(f'/n/holylfs05/LABS/hernquist_lab/Users/borodina/2kpc/turb_jet_d{density}_m{mach}/jet{jetpower}_{start}')\n",
    "output_directory = simulation_directory + \"/output/\"\n",
    "figures_directory = simulation_directory + \"/output/figures/\""
   ]
  },
  {
   "cell_type": "code",
   "execution_count": null,
   "id": "e3d96bb6",
   "metadata": {},
   "outputs": [],
   "source": [
    "i_file = 12 # skip snap 0\n",
    "while True:\n",
    "    i_file += 1\n",
    "    filename = \"snap_%03d.hdf5\" % (i_file)\n",
    "    try:\n",
    "        snap_data = h5py.File(output_directory + filename, \"r\")\n",
    "    except:\n",
    "        break\n",
    "    \n",
    "    x, y, z = snap_data['PartType0/Coordinates'][:].T\n",
    "    vx, vy, vz = snap_data['PartType0/Velocities'][:].T\n",
    "    density = snap_data['PartType0/Density'][:]\n",
    "    ram_pressure = calculate_ram_pressure(filename)\n",
    "    jet_tracer = snap_data['PartType0/Jet_Tracer'][:]\n",
    "    center = 0.5 * snap_data[\"Header\"].attrs[\"BoxSize\"]\n",
    "\n",
    "    x_axis = np.linspace(0, 500, 101)\n",
    "    ram_pressure_axis = np.zeros_like(x_axis)\n",
    "    jet_tracer_axis = np.zeros_like(x_axis)\n",
    "\n",
    "    for i in range(len(x_axis) -1):\n",
    "        dist = (x - center - x_axis[i]) ** 2 + (y - center) ** 2 + (z - center) ** 2\n",
    "        index = np.argmin(dist)\n",
    "        ram_pressure_axis[i] = ram_pressure[index]\n",
    "        jet_tracer_axis[i] = jet_tracer[index]\n",
    "\n",
    "    fig, ax1 = plt.subplots(figsize=(6,4))\n",
    "\n",
    "    color = 'tab:red'\n",
    "    ax1.set_xlabel('radius (pc)')\n",
    "    ax1.set_ylabel('jet tracer', color=color)\n",
    "    ax1.plot(x_axis, jet_tracer_axis, lw=2, color=color)\n",
    "    ax1.tick_params(axis='y', labelcolor=color)\n",
    "    ax1.set_ylim(-1e-2, 1.1)\n",
    "\n",
    "    ax2 = ax1.twinx()  # instantiate a second axes that shares the same x-axis\n",
    "\n",
    "    color = 'tab:blue'\n",
    "    ax2.set_ylabel('ram pressure, Bar', color=color)  # we already handled the x-label with ax1\n",
    "    ax2.plot(x_axis, ram_pressure_axis, lw=2, color=color)\n",
    "    ax2.tick_params(axis='y', labelcolor=color)\n",
    "    ax2.set_ylim(1e-10, 1e-7)\n",
    "    ax2.set_yscale('log')\n",
    "    ax2.grid(ls='--', axis='both', zorder=0)\n",
    "    fig.tight_layout()\n",
    "\n",
    "    plt.title(\"t=%.2f Myr\"%(get_time_from_snap(snap_data) * unit_time_in_megayr - 15))\n",
    "    plt.savefig(figures_directory + f'ram_pressure_jet_tracer_x_{i_file}.png', dpi=300, bbox_inches='tight')\n",
    "    plt.close()"
   ]
  },
  {
   "cell_type": "code",
   "execution_count": null,
   "id": "d44153d1",
   "metadata": {},
   "outputs": [],
   "source": [
    "from PIL import Image\n",
    "\n",
    "# make gif\n",
    "#--------------------------\n",
    "def crop_img(im):\n",
    "    width, height = im.size\n",
    "    left = 9\n",
    "    top =  3\n",
    "    right = width - 3\n",
    "    bottom = height - 9\n",
    "    im = im.crop((left, top, right, bottom))\n",
    "    return im\n",
    "\n",
    "ifilename = figures_directory + '/ram_pressure_jet_tracer_x*.png'\n",
    "ofilename = figures_directory + '/ram_pressure_jet_tracer_x.gif'\n",
    "imgs = natsorted(glob.glob(ifilename))\n",
    "\n",
    "timestep=4\n",
    "\n",
    "frames = []\n",
    "for i in imgs:\n",
    "    new_frame = Image.open(i)\n",
    "    frames.append(crop_img(new_frame))\n",
    "\n",
    "frames[0].save(ofilename, format='GIF',\n",
    "               append_images=frames[1:],\n",
    "               save_all=True,\n",
    "               duration=len(imgs) * timestep, loop=0)"
   ]
  },
  {
   "cell_type": "code",
   "execution_count": null,
   "id": "5cedff48",
   "metadata": {},
   "outputs": [],
   "source": []
  },
  {
   "cell_type": "code",
   "execution_count": null,
   "id": "e8618b7f",
   "metadata": {},
   "outputs": [],
   "source": [
    "from multiprocessing import Pool"
   ]
  },
  {
   "cell_type": "code",
   "execution_count": null,
   "id": "0185f418",
   "metadata": {},
   "outputs": [],
   "source": [
    "def x_loop(i):\n",
    "    dist = (x - center - x_axis[i]) ** 2 + (y - center) ** 2 + (z - center) ** 2\n",
    "    index = (dist < 15) & (x < x_axis[i] - dx) & (x > x_axis[i] + dx)  \n",
    "    \n",
    "    if (index).sum() > 0:\n",
    "        return np.mean(ram_pressure[index]), np.mean(jet_tracer[index])\n",
    "    else:\n",
    "        index = np.argmin(dist)    \n",
    "        return ram_pressure[index], jet_tracer[index]"
   ]
  },
  {
   "cell_type": "code",
   "execution_count": null,
   "id": "b1251a09",
   "metadata": {},
   "outputs": [],
   "source": [
    "!ls {output_directory}"
   ]
  },
  {
   "cell_type": "code",
   "execution_count": null,
   "id": "795c3b66",
   "metadata": {},
   "outputs": [],
   "source": [
    "i_file = 13 # skip snap 0\n",
    "ram_pressure_list_parallel = []\n",
    "jet_tracer_fall_x_parallel = []\n",
    "time_parallel = []\n",
    "# x_axis = np.linspace(-30, -500, 51)\n",
    "x_axis = np.linspace(30, 500, 51)\n",
    "dx = x_axis[1] - x_axis[0]\n",
    "\n",
    "#for i_file in tqdm.trange(12, 42):\n",
    "    \n",
    "for i_file in tqdm.trange(13, 78):\n",
    "    filename = \"snap_%03d.hdf5\" % (i_file)\n",
    "\n",
    "    snap_data = h5py.File(output_directory + filename, \"r\")\n",
    "    \n",
    "    x, y, z = snap_data['PartType0/Coordinates'][:].T\n",
    "    vx, vy, vz = snap_data['PartType0/Velocities'][:].T\n",
    "    density = snap_data['PartType0/Density'][:]\n",
    "    ram_pressure = density # calculate_ram_pressure(filename) #\n",
    "    jet_tracer = snap_data['PartType0/Jet_Tracer'][:]\n",
    "    center = 0.5 * snap_data[\"Header\"].attrs[\"BoxSize\"]\n",
    "\n",
    "    \n",
    "#     ram_pressure_axis = np.zeros_like(x_axis)\n",
    "#     jet_tracer_axis = np.zeros_like(x_axis)\n",
    "    \n",
    "    pool = Pool(32)\n",
    "    ram_pressure_axis = []\n",
    "    jet_tracer_axis = []\n",
    "    for ram_pressure_axis_1, jet_tracer_axis_1 in pool.map(x_loop, np.arange(len(x_axis)), chunksize=1):\n",
    "        jet_tracer_axis.append(jet_tracer_axis_1)\n",
    "        ram_pressure_axis.append(ram_pressure_axis_1)\n",
    "#     ram_pressure_axis, jet_tracer_axis = pool.map(x_loop,)\n",
    "    pool.close()\n",
    "    \n",
    "    jet_tracer_fall_x_parallel.append(x_axis[np.array(jet_tracer_axis)<5e-2][0])\n",
    "    ram_pressure_list_parallel.append(ram_pressure_axis)\n",
    "    time_parallel.append(get_time_from_snap(snap_data) * unit_time_in_megayr - 15)"
   ]
  },
  {
   "cell_type": "code",
   "execution_count": null,
   "id": "9582ae70",
   "metadata": {},
   "outputs": [],
   "source": [
    "time = np.array(time_parallel)"
   ]
  },
  {
   "cell_type": "code",
   "execution_count": null,
   "id": "a926c2bb",
   "metadata": {},
   "outputs": [],
   "source": [
    "real_y = np.flip(x_axis)\n",
    "real_x = time + 15\n",
    "\n",
    "dx = (real_x[1]-real_x[0])/2.\n",
    "dy = (real_y[1]-real_y[0])/2.\n",
    "extent = [real_x[0]-dx, real_x[-1]+dx, real_y[0]-dy, real_y[-1]+dy]"
   ]
  },
  {
   "cell_type": "code",
   "execution_count": null,
   "id": "76920bea",
   "metadata": {},
   "outputs": [],
   "source": [
    "fig, ax = plt.subplots(figsize=(6, 6))\n",
    "im = plt.imshow(np.array(ram_pressure_list_parallel).T * rho_to_numdensity, \n",
    "                extent=extent, aspect='auto', norm=colors.LogNorm(vmin=5e2, vmax=1e-2))#vmin=1e-9, vmax=1e-5))#\n",
    "plt.colorbar(im, label=r'number density, cm$^{-3}$')\n",
    "#plt.colorbar(im, label='ram pressure, Bar')\n",
    "# ax.set(xticks=np.arange(0, len(time), 10), xticklabels=np.arange(time.min(), time.max(), 10));\n",
    "plt.gca().invert_yaxis()\n",
    "plt.plot(real_x, np.array(jet_tracer_fall_x_parallel), c='white', zorder=100)\n",
    "plt.xlim(15, real_x.max())\n",
    "# plt.ylim(15, 500)\n",
    "plt.xlabel('time, Myr')\n",
    "plt.ylabel('r, pc')"
   ]
  },
  {
   "cell_type": "code",
   "execution_count": null,
   "id": "389ebdc0",
   "metadata": {},
   "outputs": [],
   "source": [
    "plt.plot(time, top_ram_pressure_x, label='position of the highest ram pressure bump')\n",
    "plt.plot(time, jet_tracer_fall_x, label='position of jet tracer grop')\n",
    "plt.legend()\n",
    "plt.xlabel('time, Myr')\n",
    "plt.ylabel('distance, pc')"
   ]
  },
  {
   "cell_type": "code",
   "execution_count": null,
   "id": "99781da4",
   "metadata": {},
   "outputs": [],
   "source": []
  }
 ],
 "metadata": {
  "kernelspec": {
   "display_name": "Python 3 (ipykernel)",
   "language": "python",
   "name": "python3"
  },
  "language_info": {
   "codemirror_mode": {
    "name": "ipython",
    "version": 3
   },
   "file_extension": ".py",
   "mimetype": "text/x-python",
   "name": "python",
   "nbconvert_exporter": "python",
   "pygments_lexer": "ipython3",
   "version": "3.6.8"
  }
 },
 "nbformat": 4,
 "nbformat_minor": 5
}
