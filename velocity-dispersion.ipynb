{
 "cells": [
  {
   "cell_type": "markdown",
   "id": "b8c3f48b",
   "metadata": {},
   "source": [
    "this notebook is used to study velocity dispersion maps and velocity dispersion distribution"
   ]
  },
  {
   "cell_type": "code",
   "execution_count": null,
   "id": "f2713bc3",
   "metadata": {},
   "outputs": [],
   "source": [
    "import time\n",
    "from multiprocessing import Pool\n",
    "from postprocessing import *\n",
    "\n",
    "        \n",
    "def weighted_std(values, weights=None):\n",
    "    \"\"\"\n",
    "    Return the weighted standard deviation.\n",
    "\n",
    "    values, weights -- NumPy ndarrays with the same shape.\n",
    "    \"\"\"\n",
    "    average = np.average(values, weights=weights)\n",
    "    # Fast and numerically precise:\n",
    "    variance = np.average((values-average)**2, weights=weights)\n",
    "    return np.sqrt(variance)\n",
    "\n",
    "def sigma(x):\n",
    "    \"\"\"\n",
    "    Calculate velocity dispersion for x and y_grid (global parameter...)\n",
    "    \"\"\"\n",
    "    result = []\n",
    "    temperatures = get_temp(output_directory + filename, 5/3)\n",
    "    for y in y_grid[:-1]:\n",
    "        mask = ((snap_data['PartType0/Coordinates'][:][:,2] > x) & \n",
    "                (snap_data['PartType0/Coordinates'][:][:,2] < x + dx) &\n",
    "                (snap_data['PartType0/Coordinates'][:][:,1] > y) &\n",
    "                (snap_data['PartType0/Coordinates'][:][:,1] < y + dy) &\n",
    "                (temperatures < 1e5))\n",
    "        try: \n",
    "            velocity_dispersion = weighted_std(snap_data['PartType0/Velocities'][:][:,0][mask], weights=masses)\n",
    "        except: \n",
    "            velocity_dispersion = np.nan\n",
    "        result.append([x, y, velocity_dispersion])\n",
    "    return result"
   ]
  },
  {
   "cell_type": "code",
   "execution_count": null,
   "id": "320f64ca",
   "metadata": {},
   "outputs": [],
   "source": [
    "mpl.rcParams['figure.dpi']= 200"
   ]
  },
  {
   "cell_type": "markdown",
   "id": "31a4a572",
   "metadata": {},
   "source": [
    "## observational resolution"
   ]
  },
  {
   "cell_type": "code",
   "execution_count": null,
   "id": "3b65f91f",
   "metadata": {},
   "outputs": [],
   "source": [
    "0.044 * 300000/70 * np.sin(np.deg2rad(0.5 /60 /60)) * 1e6 # in pc resolution from observations?!"
   ]
  },
  {
   "cell_type": "code",
   "execution_count": null,
   "id": "763f8c84",
   "metadata": {},
   "outputs": [],
   "source": [
    "N = 100\n",
    "x_grid = np.linspace(0, 1000, N + 1)\n",
    "y_grid = np.linspace(0, 1000, N + 1)\n",
    "dx, dy = np.diff(x_grid)[0], np.diff(y_grid)[0]"
   ]
  },
  {
   "cell_type": "code",
   "execution_count": null,
   "id": "c095e8e4",
   "metadata": {},
   "outputs": [],
   "source": [
    "density = '300'\n",
    "mach    = '8'\n",
    "jet     = '41'\n",
    "stage   = 'early'"
   ]
  },
  {
   "cell_type": "code",
   "execution_count": null,
   "id": "75ba788b",
   "metadata": {},
   "outputs": [],
   "source": [
    "#simulation_directory = f'/n/holystore01/LABS/hernquist_lab/Users/borodina/turb_drive_center_d{density}_m{mach}/jet{jet}_{stage}'\n",
    "simulation_directory = f'/n/holystore01/LABS/hernquist_lab/Users/borodina/turb_drive_center_d{density}_m{mach}/turb'\n",
    "\n",
    "output_directory = simulation_directory+\"/output/\"\n",
    "figures_directory = simulation_directory + \"/output/figures/\"\\"
   ]
  },
  {
   "cell_type": "code",
   "execution_count": null,
   "id": "180a7a4c",
   "metadata": {},
   "outputs": [],
   "source": [
    "i_file = 0\n",
    "filename = \"snap_%03d.hdf5\" % (i_file)\n",
    "snap_data = h5py.File(output_directory + filename, \"r\")"
   ]
  },
  {
   "cell_type": "markdown",
   "id": "3dfaaf84",
   "metadata": {},
   "source": [
    "## high res maps"
   ]
  },
  {
   "cell_type": "code",
   "execution_count": null,
   "id": "be6bbd5a",
   "metadata": {},
   "outputs": [],
   "source": [
    "starttime = time.time()\n",
    "pool = Pool(32)\n",
    "sigma_result = pool.map(sigma, x_grid[:-1])\n",
    "pool.close()\n",
    "endtime = time.time()\n",
    "print(f\"Time taken {endtime-starttime} seconds\")"
   ]
  },
  {
   "cell_type": "code",
   "execution_count": null,
   "id": "5c48dafd",
   "metadata": {},
   "outputs": [],
   "source": [
    "sigma_result = np.array(sigma_result)"
   ]
  },
  {
   "cell_type": "code",
   "execution_count": null,
   "id": "3121b766",
   "metadata": {},
   "outputs": [],
   "source": [
    "sigma_result = sigma_result.reshape(N * N, 3)"
   ]
  },
  {
   "cell_type": "code",
   "execution_count": null,
   "id": "5d729474",
   "metadata": {},
   "outputs": [],
   "source": [
    "sigma_result = sigma_result.T"
   ]
  },
  {
   "cell_type": "code",
   "execution_count": null,
   "id": "4fc2902c",
   "metadata": {},
   "outputs": [],
   "source": [
    "fig, ax = plt.subplots(figsize=(8, 5))\n",
    "c = ax.scatter(sigma_result[0], sigma_result[1], c=sigma_result[2], cmap='plasma', norm=colors.LogNorm(vmin=50, vmax=200), s=4, marker='s')\n",
    "ax.set_xlabel('z [pc]')\n",
    "ax.set_ylabel('y [pc]')\n",
    "ax.set_aspect('1')\n",
    "ax.set_xlim(0, 1000)\n",
    "ax.set_ylim(0, 1000)\n",
    "ax.scatter(500, 500, c='white', s=10)\n",
    "plt.colorbar(c, ax=ax, label=r'$\\sigma_x$ [km / s]')\n",
    "# plt.savefig(figures_directory + f'veldispersion_{i_file}.png', dpi=300, bbox_inches='tight')"
   ]
  },
  {
   "cell_type": "code",
   "execution_count": null,
   "id": "ae3ef671",
   "metadata": {},
   "outputs": [],
   "source": [
    "# from PIL import Image\n",
    "# import glob\n",
    "# from natsort import natsorted\n",
    "\n",
    "# # make gif\n",
    "# #--------------------------\n",
    "# def crop_img(im):\n",
    "#     width, height = im.size\n",
    "#     left = 9\n",
    "#     top =  3\n",
    "#     right = width - 3\n",
    "#     bottom = height - 9\n",
    "#     im = im.crop((left, top, right, bottom))\n",
    "#     return im\n",
    "\n",
    "# ifilename = figures_directory + '/veldispersion*.png'\n",
    "# ofilename = figures_directory + '/veldispersion.gif'\n",
    "# imgs = natsorted(glob.glob(ifilename))\n",
    "\n",
    "# timestep=4\n",
    "\n",
    "# frames = []\n",
    "# for i in imgs:\n",
    "#     new_frame = Image.open(i)\n",
    "#     frames.append(crop_img(new_frame))\n",
    "\n",
    "# frames[0].save(ofilename, format='GIF',\n",
    "#                append_images=frames[1:],\n",
    "#                save_all=True,\n",
    "#                duration=len(imgs) * timestep, loop=0)"
   ]
  },
  {
   "cell_type": "markdown",
   "id": "1f062546",
   "metadata": {},
   "source": [
    "## velocity distribution per pixel:"
   ]
  },
  {
   "cell_type": "code",
   "execution_count": null,
   "id": "168f3f7b",
   "metadata": {},
   "outputs": [],
   "source": [
    "x = x_grid[N // 4]\n",
    "y = y_grid[N // 4]"
   ]
  },
  {
   "cell_type": "code",
   "execution_count": null,
   "id": "ce777952",
   "metadata": {},
   "outputs": [],
   "source": [
    "result = []\n",
    "temperatures = get_temp(output_directory + filename, 5/3)\n",
    "\n",
    "mask = ((snap_data['PartType0/Coordinates'][:][:,0] > x) & \n",
    "        (snap_data['PartType0/Coordinates'][:][:,0] < x + dx) &\n",
    "        (snap_data['PartType0/Coordinates'][:][:,1] > y) &\n",
    "        (snap_data['PartType0/Coordinates'][:][:,1] < y + dy) &\n",
    "        (snap_data['PartType0/Coordinates'][:][:,2] > 0) &\n",
    "        (temperatures < 10 ** 4))\n",
    "\n",
    "velocities = snap_data['PartType0/Velocities'][:][:,2][mask]\n",
    "masses     = snap_data['PartType0/Masses'][:][mask]"
   ]
  },
  {
   "cell_type": "code",
   "execution_count": null,
   "id": "c650b1a2",
   "metadata": {},
   "outputs": [],
   "source": [
    "mean = np.mean(velocities)\n",
    "std = weighted_std(velocities, weights=masses)"
   ]
  },
  {
   "cell_type": "code",
   "execution_count": null,
   "id": "4ceda09f",
   "metadata": {},
   "outputs": [],
   "source": [
    "fig, ax = plt.subplots(1, 2, figsize=(11, 4))\n",
    "c = ax[0].scatter(sigma_result[0], sigma_result[1], c=sigma_result[2], cmap='plasma', norm=colors.LogNorm(vmin=50, vmax=200), s=2.5, marker='s')\n",
    "ax[0].set_xlabel('x [pc]')\n",
    "ax[0].set_ylabel('y [pc]')\n",
    "ax[0].set_aspect('1')\n",
    "ax[0].set_xlim(0, 1000)\n",
    "ax[0].set_ylim(0, 1000)\n",
    "ax[0].scatter(500, 500, c='white', s=10, marker='o')\n",
    "ax[0].scatter(x, y, c='white', marker='s', s=10)\n",
    "cb = plt.colorbar(c, ax=ax[0])\n",
    "cb.set_label(label=r'$\\sigma_z$ [km / s]', labelpad=-10)\n",
    "\n",
    "ax[1].hist(velocities, bins=30, weights=masses)\n",
    "ax[1].set_xlabel('$v_z$ [km / s]')\n",
    "ax[1].set_ylabel('number')\n",
    "ax[1].set_xlim(-300, 300)\n",
    "ax[1].errorbar(mean, 5000, xerr=std, ms=5, capsize=5, fmt='o', color='black')\n",
    "plt.subplots_adjust(wspace=0.3)"
   ]
  },
  {
   "cell_type": "markdown",
   "id": "48ee3405",
   "metadata": {},
   "source": [
    "### dispersion in the whole box as a function of time"
   ]
  },
  {
   "cell_type": "code",
   "execution_count": null,
   "id": "d340499c",
   "metadata": {},
   "outputs": [],
   "source": []
  },
  {
   "cell_type": "code",
   "execution_count": null,
   "id": "0abc29ff",
   "metadata": {},
   "outputs": [],
   "source": [
    "stds = []\n",
    "bins = np.linspace(-300, 300, 51)"
   ]
  },
  {
   "cell_type": "code",
   "execution_count": null,
   "id": "bb04c9d1",
   "metadata": {},
   "outputs": [],
   "source": [
    "i_file =  -1\n",
    "\n",
    "while True:\n",
    "    i_file += 1\n",
    "    filename = \"snap_%03d.hdf5\" % (i_file)\n",
    "    try:\n",
    "        snap_data = h5py.File(output_directory + filename, \"r\")\n",
    "    except:\n",
    "        break\n",
    "    \n",
    "    temperatures = get_temp(output_directory + filename, 5/3)\n",
    "    mask = (temperatures < 10 ** 4.5)\n",
    "    \n",
    "    velocities = snap_data['PartType0/Velocities'][:][:,2][mask]\n",
    "    masses     = snap_data['PartType0/Masses'][:][mask]\n",
    "\n",
    "    std = weighted_std(velocities, weights=masses)\n",
    "    \n",
    "    if i_file==0 or i_file==7:\n",
    "        plt.hist(velocities, weights=masses, bins=bins, alpha=0.5, label=f't={np.round(get_time_from_snap(snap_data), 2)} Myr')\n",
    "        plt.xlabel(r'$v_z$ [km / s]')\n",
    "        plt.ylabel('mass weighted cells number')\n",
    "        plt.xlim(-300, 300)\n",
    "        plt.ylim(1, 7e8)\n",
    "        plt.legend()\n",
    "    stds.append([get_time_from_snap(snap_data), std])"
   ]
  },
  {
   "cell_type": "code",
   "execution_count": null,
   "id": "653e381f",
   "metadata": {},
   "outputs": [],
   "source": [
    "stds = np.array(stds).T"
   ]
  },
  {
   "cell_type": "code",
   "execution_count": null,
   "id": "319fddf4",
   "metadata": {},
   "outputs": [],
   "source": [
    "plt.plot(stds[0], stds[1])\n",
    "plt.ylim(60, 100)\n",
    "plt.xlabel('time [Myr]')\n",
    "plt.ylabel(r'$\\sigma_z$ [km / s]')"
   ]
  },
  {
   "cell_type": "code",
   "execution_count": null,
   "id": "bc3b00db",
   "metadata": {},
   "outputs": [],
   "source": []
  }
 ],
 "metadata": {
  "kernelspec": {
   "display_name": "Python 3",
   "language": "python",
   "name": "python3"
  },
  "language_info": {
   "codemirror_mode": {
    "name": "ipython",
    "version": 3
   },
   "file_extension": ".py",
   "mimetype": "text/x-python",
   "name": "python",
   "nbconvert_exporter": "python",
   "pygments_lexer": "ipython3",
   "version": "3.6.8"
  }
 },
 "nbformat": 4,
 "nbformat_minor": 5
}
