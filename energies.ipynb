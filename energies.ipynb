{
 "cells": [
  {
   "cell_type": "markdown",
   "id": "03040848",
   "metadata": {},
   "source": [
    "this notebook is used to calculate how much energy goes into which state"
   ]
  },
  {
   "cell_type": "code",
   "execution_count": null,
   "id": "246b5911",
   "metadata": {},
   "outputs": [],
   "source": [
    "from postprocessing import *"
   ]
  },
  {
   "cell_type": "code",
   "execution_count": null,
   "id": "e536b62d",
   "metadata": {},
   "outputs": [],
   "source": [
    "mpl.rcParams['figure.dpi']= 200"
   ]
  },
  {
   "cell_type": "code",
   "execution_count": null,
   "id": "ef6e7cb2",
   "metadata": {},
   "outputs": [],
   "source": [
    "density = 20\n",
    "mach = 4\n",
    "jetpower = 43\n",
    "start = '15'"
   ]
  },
  {
   "cell_type": "code",
   "execution_count": null,
   "id": "fb3a835f",
   "metadata": {},
   "outputs": [],
   "source": [
    "simulation_directory = str(f'/n/holylfs05/LABS/hernquist_lab/Users/borodina/2kpc/turb_jet_d{density}_m{mach}/jet{jetpower}_{start}')\n",
    "output_directory = simulation_directory + \"/output/\"\n",
    "figures_directory = simulation_directory + \"/output/figures/\""
   ]
  },
  {
   "cell_type": "markdown",
   "id": "842f5841",
   "metadata": {},
   "source": [
    "## total energy comparison"
   ]
  },
  {
   "cell_type": "code",
   "execution_count": null,
   "id": "444cd7f6",
   "metadata": {},
   "outputs": [],
   "source": [
    "i_file = 20\n",
    "filename = \"snap_%03d.hdf5\" % (i_file)\n",
    "snap_data = h5py.File(output_directory + filename, \"r\")"
   ]
  },
  {
   "cell_type": "code",
   "execution_count": null,
   "id": "dbba637b",
   "metadata": {},
   "outputs": [],
   "source": [
    "thermal_energy = (snap_data['PartType0/InternalEnergy'][:] * \n",
    "                  snap_data['PartType0/Masses'][:] * snap_data['PartType0/Jet_Tracer'][:])"
   ]
  },
  {
   "cell_type": "code",
   "execution_count": null,
   "id": "50ca0e97",
   "metadata": {},
   "outputs": [],
   "source": [
    "velocity = np.sqrt(snap_data['PartType0/Velocities'][:][:,0] ** 2 +\n",
    "                   snap_data['PartType0/Velocities'][:][:,1] ** 2 +\n",
    "                   snap_data['PartType0/Velocities'][:][:,2] ** 2)\n",
    "kinetic_energy = velocity ** 2 * snap_data['PartType0/Masses'][:] * snap_data['PartType0/Jet_Tracer'][:] / 2"
   ]
  },
  {
   "cell_type": "code",
   "execution_count": null,
   "id": "59937d81",
   "metadata": {},
   "outputs": [],
   "source": [
    "np.sum(thermal_energy + kinetic_energy) * unit_velocity ** 2 * unit_mass"
   ]
  },
  {
   "cell_type": "code",
   "execution_count": null,
   "id": "f7683393",
   "metadata": {},
   "outputs": [],
   "source": [
    "10 ** jetpower * get_time_from_snap(snap_data) * unit_time"
   ]
  },
  {
   "cell_type": "markdown",
   "id": "2c41a2d6",
   "metadata": {},
   "source": [
    "## energy coupling in time"
   ]
  },
  {
   "cell_type": "code",
   "execution_count": null,
   "id": "48b76090",
   "metadata": {},
   "outputs": [],
   "source": [
    "i_file = -1\n",
    "result = []\n",
    "\n",
    "while True:\n",
    "    i_file += 1\n",
    "    filename = \"snap_%03d.hdf5\" % (i_file)\n",
    "    try:\n",
    "        snap_data = h5py.File(output_directory + filename, \"r\")\n",
    "    except:\n",
    "        break\n",
    "    time = get_time_from_snap(snap_data)\n",
    "    \n",
    "    jet_tracer = np.zeros_like(snap_data['PartType0/Jet_Tracer'][:])\n",
    "    jet_no_tracer = np.zeros_like(snap_data['PartType0/Jet_Tracer'][:])\n",
    "    snap_data['PartType0/Jet_Tracer'][:][snap_data['PartType0/Jet_Tracer'][:] < 0] = 0\n",
    "    x, y, z = snap_data['PartType0/Coordinates'][:].T\n",
    "    radius = np.sqrt((x - 1000) ** 2 + (y - 1000) ** 2 + (z - 1000) ** 2)\n",
    "    \n",
    "    mask_jet = (snap_data['PartType0/Jet_Tracer'][:] > 1e-3) #& (radius < 500)\n",
    "    mask_no_jet = (snap_data['PartType0/Jet_Tracer'][:] < 1e-3) #& (radius < 500)\n",
    "    \n",
    "    jet_tracer[mask_jet] = snap_data['PartType0/Jet_Tracer'][:][mask_jet]\n",
    "    jet_no_tracer[mask_no_jet] = 1 - snap_data['PartType0/Jet_Tracer'][:][mask_no_jet]\n",
    "    \n",
    "    thermal_energy = snap_data['PartType0/InternalEnergy'][:] * snap_data['PartType0/Masses'][:] #* jet_no_tracer\n",
    "    velocity = np.sqrt(snap_data['PartType0/Velocities'][:][:,0] ** 2 +\n",
    "                       snap_data['PartType0/Velocities'][:][:,1] ** 2 +\n",
    "                       snap_data['PartType0/Velocities'][:][:,2] ** 2)\n",
    "    kinetic_energy = velocity ** 2 * snap_data['PartType0/Masses'][:] / 2 #* jet_no_tracer\n",
    "    result.append([get_time_from_snap(snap_data) * unit_time_in_megayr,\n",
    "                   np.sum(thermal_energy) * unit_velocity ** 2 * unit_mass,\n",
    "                   np.sum(kinetic_energy) * unit_velocity ** 2 * unit_mass,\n",
    "                   10 ** jetpower * get_time_from_snap(snap_data) * unit_time])"
   ]
  },
  {
   "cell_type": "code",
   "execution_count": null,
   "id": "db8e0673",
   "metadata": {},
   "outputs": [],
   "source": [
    "result = np.array(result).T"
   ]
  },
  {
   "cell_type": "code",
   "execution_count": null,
   "id": "92f2fb5e",
   "metadata": {},
   "outputs": [],
   "source": [
    "fig, ax = plt.subplots(figsize=(7,4))\n",
    "ax.plot(result[0], result[3], label='input energy', c='black')\n",
    "ax.plot(result[0], result[1] + result[2], label='total energy in medium', c='tab:blue')\n",
    "ax.plot(result[0], result[1], label='internal energy', c='tab:red')\n",
    "ax.plot(result[0], result[2], label='kinetic energy', c='tab:green')\n",
    "\n",
    "plt.yscale('log')\n",
    "plt.legend(loc='lower right', framealpha=0.7) # loc=(0.65, 0.65)\n",
    "ax.set_ylim(1e55, 5e57)\n",
    "ax.set_xlim(0, 0.8)\n",
    "ax.set_xlabel('t [Myr]', fontsize=15)\n",
    "plt.grid(ls='--', zorder = 100, alpha=0.5)\n",
    "ax.set_ylabel('energy [erg]', fontsize=15)"
   ]
  },
  {
   "cell_type": "markdown",
   "id": "85e8017c",
   "metadata": {},
   "source": [
    "## turbulent box vs box with the jet"
   ]
  },
  {
   "cell_type": "code",
   "execution_count": null,
   "id": "78534a46",
   "metadata": {},
   "outputs": [],
   "source": [
    "density = 100\n",
    "mach = 4\n",
    "jetpower = 44\n",
    "start = '12'"
   ]
  },
  {
   "cell_type": "code",
   "execution_count": null,
   "id": "04e9c964",
   "metadata": {},
   "outputs": [],
   "source": [
    "simulation_directory_jet = str(f'/n/holylfs05/LABS/hernquist_lab/Users/borodina/2kpc/turb_drive_center_d{density}_m{mach}/jet{jetpower}_{start}')\n",
    "output_directory_jet = simulation_directory_jet + \"/output/\"\n",
    "figures_directory_jet = simulation_directory_jet + \"/output/figures/\"\n",
    "\n",
    "simulation_directory_turb = str(f'/n/holylfs05/LABS/hernquist_lab/Users/borodina/2kpc/turb_drive_center_d{density}_m{mach}/turb_alter_{start}')\n",
    "output_directory_turb = simulation_directory_turb + \"/output/\"\n",
    "figures_directory_turb = simulation_directory_turb + \"/output/figures/\""
   ]
  },
  {
   "cell_type": "code",
   "execution_count": null,
   "id": "a510453e",
   "metadata": {},
   "outputs": [],
   "source": [
    "i_file_jet = -1\n",
    "result_jet = []\n",
    "\n",
    "while True:\n",
    "    i_file_jet += 1\n",
    "    filename = \"snap_%03d.hdf5\" % (i_file_jet)\n",
    "    try:\n",
    "        snap_data = h5py.File(output_directory_jet + filename, \"r\")\n",
    "    except:\n",
    "        break\n",
    "    time = get_time_from_snap(snap_data)\n",
    "    \n",
    "    jet_tracer = np.zeros_like(snap_data['PartType0/Jet_Tracer'][:])\n",
    "    jet_no_tracer = np.zeros_like(snap_data['PartType0/Jet_Tracer'][:])\n",
    "    snap_data['PartType0/Jet_Tracer'][:][snap_data['PartType0/Jet_Tracer'][:] < 0] = 0\n",
    "    x, y, z = snap_data['PartType0/Coordinates'][:].T\n",
    "    radius = np.sqrt((x - 1000) ** 2 + (y - 1000) ** 2 + (z - 1000) ** 2)\n",
    "    \n",
    "    mask_jet = (snap_data['PartType0/Jet_Tracer'][:] > 1e-3) #& (radius < 500)\n",
    "    mask_no_jet = (snap_data['PartType0/Jet_Tracer'][:] < 1e-3) #& (radius < 500)\n",
    "    \n",
    "    jet_tracer[mask_jet] = snap_data['PartType0/Jet_Tracer'][:][mask_jet]\n",
    "    jet_no_tracer[mask_no_jet] = 1 - snap_data['PartType0/Jet_Tracer'][:][mask_no_jet]\n",
    "    \n",
    "    thermal_energy = snap_data['PartType0/InternalEnergy'][:] * snap_data['PartType0/Masses'][:] #* jet_tracer\n",
    "    velocity = np.sqrt(snap_data['PartType0/Velocities'][:][:,0] ** 2 +\n",
    "                       snap_data['PartType0/Velocities'][:][:,1] ** 2 +\n",
    "                       snap_data['PartType0/Velocities'][:][:,2] ** 2)\n",
    "    kinetic_energy = velocity ** 2 * snap_data['PartType0/Masses'][:] / 2 #* jet_tracer\n",
    "    result_jet.append([get_time_from_snap(snap_data) * unit_time_in_megayr,\n",
    "                   np.sum(thermal_energy) * unit_velocity ** 2 * unit_mass,\n",
    "                   np.sum(kinetic_energy) * unit_velocity ** 2 * unit_mass,\n",
    "                   10 ** jetpower * get_time_from_snap(snap_data) * unit_time])\n",
    "    \n",
    "    \n",
    "i_file_turb = -1\n",
    "result_turb = []\n",
    "\n",
    "while i_file_turb < i_file_jet - 1:\n",
    "    i_file_turb += 1\n",
    "    filename = \"snap_%03d.hdf5\" % (i_file_turb)\n",
    "    try:\n",
    "        snap_data = h5py.File(output_directory_turb + filename, \"r\")\n",
    "    except:\n",
    "        break\n",
    "    time = get_time_from_snap(snap_data)\n",
    "    \n",
    "#     jet_tracer = np.zeros_like(snap_data['PartType0/Jet_Tracer'][:])\n",
    "#     jet_no_tracer = np.zeros_like(snap_data['PartType0/Jet_Tracer'][:])\n",
    "#     snap_data['PartType0/Jet_Tracer'][:][snap_data['PartType0/Jet_Tracer'][:] < 0] = 0\n",
    "    x, y, z = snap_data['PartType0/Coordinates'][:].T\n",
    "    radius = np.sqrt((x - 1000) ** 2 + (y - 1000) ** 2 + (z - 1000) ** 2)\n",
    "    \n",
    "#     mask_jet = (snap_data['PartType0/Jet_Tracer'][:] > 1e-3) #& (radius < 500)\n",
    "#     mask_no_jet = (snap_data['PartType0/Jet_Tracer'][:] < 1e-3) #& (radius < 500)\n",
    "    \n",
    "#     jet_tracer[mask_jet] = snap_data['PartType0/Jet_Tracer'][:][mask_jet]\n",
    "#     jet_no_tracer[mask_no_jet] = 1 - snap_data['PartType0/Jet_Tracer'][:][mask_no_jet]\n",
    "    \n",
    "    thermal_energy = snap_data['PartType0/InternalEnergy'][:] * snap_data['PartType0/Masses'][:] #* jet_tracer\n",
    "    velocity = np.sqrt(snap_data['PartType0/Velocities'][:][:,0] ** 2 +\n",
    "                       snap_data['PartType0/Velocities'][:][:,1] ** 2 +\n",
    "                       snap_data['PartType0/Velocities'][:][:,2] ** 2)\n",
    "    kinetic_energy = velocity ** 2 * snap_data['PartType0/Masses'][:] / 2 #* jet_tracer\n",
    "    result_turb.append([get_time_from_snap(snap_data) * unit_time_in_megayr,\n",
    "                   np.sum(thermal_energy) * unit_velocity ** 2 * unit_mass,\n",
    "                   np.sum(kinetic_energy) * unit_velocity ** 2 * unit_mass,\n",
    "                   10 ** jetpower * get_time_from_snap(snap_data) * unit_time])"
   ]
  },
  {
   "cell_type": "code",
   "execution_count": null,
   "id": "ee9d88d6",
   "metadata": {},
   "outputs": [],
   "source": [
    "result_jet = np.array(result_jet).T\n",
    "result_turb = np.array(result_turb).T"
   ]
  },
  {
   "cell_type": "code",
   "execution_count": null,
   "id": "a77a289d-ee54-4250-8aef-de480b8cba0d",
   "metadata": {},
   "outputs": [],
   "source": [
    "result_turb[2]"
   ]
  },
  {
   "cell_type": "code",
   "execution_count": null,
   "id": "384a738c-a4bf-4d48-acaa-4dd527433ed5",
   "metadata": {},
   "outputs": [],
   "source": [
    "plt.plot(result_jet[0], result_jet[2])\n",
    "plt.plot(result_turb[0] - result_turb[0][0], result_turb[2])\n",
    "plt.xlabel('time [Myr]')\n",
    "plt.ylabel('kinetic energy')"
   ]
  },
  {
   "cell_type": "code",
   "execution_count": null,
   "id": "da9cb35c",
   "metadata": {},
   "outputs": [],
   "source": [
    "fig, ax = plt.subplots(figsize=(7,4))\n",
    "ax.plot(result_jet[0], result_jet[3], label='input energy', c='black')\n",
    "ax.plot(result_jet[0], result_jet[1] - result_turb[1] + result_jet[2] - result_turb[2], label='total energy', c='tab:blue')\n",
    "ax.plot(result_jet[0], result_jet[1] - result_turb[1], label='internal energy', c='tab:red')\n",
    "ax.plot(result_jet[0], result_jet[2] - result_turb[2], label='kinetic energy', c='tab:green')\n",
    "\n",
    "plt.yscale('log')\n",
    "plt.legend(loc='lower right', framealpha=0.7) # loc=(0.65, 0.65)\n",
    "ax.set_ylim(1e55, 5e57)\n",
    "ax.set_xlim(0, 1)\n",
    "ax.set_xlabel('t [Myr]', fontsize=15)\n",
    "plt.grid(ls='--', zorder = 100, alpha=0.5)\n",
    "ax.set_ylabel('energy difference [erg]', fontsize=15)"
   ]
  },
  {
   "cell_type": "code",
   "execution_count": null,
   "id": "28b44163",
   "metadata": {},
   "outputs": [],
   "source": [
    "fig, ax = plt.subplots(figsize=(7,4))\n",
    "\n",
    "ax.plot(result_jet[0], (result_jet[1] - result_turb[1] + result_jet[2] - result_turb[2]) / (result_turb[1] + result_turb[2]),\n",
    "        label='total energy', c='tab:blue')\n",
    "ax.plot(result_jet[0], (result_jet[1] - result_turb[1]) / result_turb[1], label='internal energy', c='tab:red')\n",
    "ax.plot(result_jet[0], (result_jet[2] - result_turb[2]) / result_turb[2], label='kinetic energy', c='tab:green')\n",
    "\n",
    "# plt.yscale('log')\n",
    "plt.legend(loc='lower right', framealpha=0.7) # loc=(0.65, 0.65)\n",
    "# ax.set_ylim(-1, 1)\n",
    "ax.set_xlim(0, 1)\n",
    "ax.set_xlabel('t [Myr]', fontsize=15)\n",
    "plt.grid(ls='--', zorder = 100, alpha=0.5)\n",
    "ax.set_ylabel('relative energy difference', fontsize=15)"
   ]
  },
  {
   "cell_type": "markdown",
   "id": "58d5022b",
   "metadata": {},
   "source": [
    "## cooling"
   ]
  },
  {
   "cell_type": "code",
   "execution_count": null,
   "id": "04a74746",
   "metadata": {},
   "outputs": [],
   "source": [
    "i_file_turb = 17"
   ]
  },
  {
   "cell_type": "code",
   "execution_count": null,
   "id": "1bd531cb",
   "metadata": {},
   "outputs": [],
   "source": [
    "filename = \"snap_%03d.hdf5\" % (i_file_turb)\n",
    "snap_data = h5py.File(output_directory_turb + filename, \"r\")"
   ]
  },
  {
   "cell_type": "code",
   "execution_count": null,
   "id": "7b3023ea",
   "metadata": {},
   "outputs": [],
   "source": [
    "snap_data['PartType0'].keys()"
   ]
  },
  {
   "cell_type": "code",
   "execution_count": null,
   "id": "4a0cd565",
   "metadata": {},
   "outputs": [],
   "source": [
    "coolingrates = snap_data['PartType0/CoolingRate'][:]\n",
    "mask = (coolingrates > 0)\n",
    "# timescale = (snap_data['PartType0/InternalEnergy'][:][mask] * PROTONMASS ** 2) \\\n",
    "#             / (coolingrates[mask] * snap_data['PartType0/Density'][:][mask] * mu ** 2)\n",
    "# timescale *= unit_velocity ** 2 / unit_density\n",
    "timescale = snap_data['PartType0/InternalEnergy'][:][mask] / coolingrates[mask] * unit_time_in_megayr"
   ]
  },
  {
   "cell_type": "code",
   "execution_count": null,
   "id": "f88cee1a",
   "metadata": {},
   "outputs": [],
   "source": [
    "timescale.mean() # Myr"
   ]
  },
  {
   "cell_type": "code",
   "execution_count": null,
   "id": "fe0cfc7e",
   "metadata": {},
   "outputs": [],
   "source": [
    "y,x, _ = plt.hist(timescale, bins=np.logspace(-4, 6, 50), weights=snap_data['PartType0/Masses'][:][mask])\n",
    "plt.axvline(x[y.argmax()], c='black', label=f'max: {np.round(x[y.argmax()], 2)} Myr')\n",
    "plt.xscale('log')\n",
    "plt.yscale('log')\n",
    "plt.legend()\n",
    "plt.xlim(1e-4, 1e6)\n",
    "plt.xlabel('timescale [Myr]')"
   ]
  }
 ],
 "metadata": {
  "kernelspec": {
   "display_name": "Python 3 (ipykernel)",
   "language": "python",
   "name": "python3"
  },
  "language_info": {
   "codemirror_mode": {
    "name": "ipython",
    "version": 3
   },
   "file_extension": ".py",
   "mimetype": "text/x-python",
   "name": "python",
   "nbconvert_exporter": "python",
   "pygments_lexer": "ipython3",
   "version": "3.6.8"
  }
 },
 "nbformat": 4,
 "nbformat_minor": 5
}
