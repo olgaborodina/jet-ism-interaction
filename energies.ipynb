{
 "cells": [
  {
   "cell_type": "markdown",
   "id": "03040848",
   "metadata": {},
   "source": [
    "this notebook is used to calculate how much energy goes into which state"
   ]
  },
  {
   "cell_type": "code",
   "execution_count": null,
   "id": "246b5911",
   "metadata": {},
   "outputs": [],
   "source": [
    "from postprocessing import *"
   ]
  },
  {
   "cell_type": "code",
   "execution_count": null,
   "id": "e536b62d",
   "metadata": {},
   "outputs": [],
   "source": [
    "mpl.rcParams['figure.dpi']= 200"
   ]
  },
  {
   "cell_type": "code",
   "execution_count": null,
   "id": "ef6e7cb2",
   "metadata": {},
   "outputs": [],
   "source": [
    "density = 300\n",
    "mach = 8\n",
    "jetpower = 41\n",
    "start = 'early'"
   ]
  },
  {
   "cell_type": "code",
   "execution_count": null,
   "id": "fb3a835f",
   "metadata": {},
   "outputs": [],
   "source": [
    "simulation_directory = str(f'/n/holystore01/LABS/hernquist_lab/Users/borodina/turb_drive_center_d{density}_m{mach}/jet{jetpower}_{start}')\n",
    "output_directory = simulation_directory + \"/output/\"\n",
    "figures_directory = simulation_directory + \"/output/figures/\""
   ]
  },
  {
   "cell_type": "code",
   "execution_count": null,
   "id": "444cd7f6",
   "metadata": {},
   "outputs": [],
   "source": [
    "i_file = 10\n",
    "filename = \"snap_%03d.hdf5\" % (i_file)\n",
    "snap_data = h5py.File(output_directory_jet + filename, \"r\")"
   ]
  },
  {
   "cell_type": "code",
   "execution_count": null,
   "id": "40d63867",
   "metadata": {},
   "outputs": [],
   "source": []
  },
  {
   "cell_type": "code",
   "execution_count": null,
   "id": "dbba637b",
   "metadata": {},
   "outputs": [],
   "source": [
    "thermal_energy = (snap_data['PartType0/InternalEnergy'][:] * \n",
    "                  snap_data['PartType0/Masses'][:] * snap_data['PartType0/Jet_Tracer'][:])"
   ]
  },
  {
   "cell_type": "code",
   "execution_count": null,
   "id": "50ca0e97",
   "metadata": {},
   "outputs": [],
   "source": [
    "velocity = np.sqrt(snap_data['PartType0/Velocities'][:][:,0] ** 2 +\n",
    "                   snap_data['PartType0/Velocities'][:][:,1] ** 2 +\n",
    "                   snap_data['PartType0/Velocities'][:][:,2] ** 2)\n",
    "kinetic_energy = velocity ** 2 * snap_data['PartType0/Masses'][:] * snap_data['PartType0/Jet_Tracer'][:] / 2"
   ]
  },
  {
   "cell_type": "code",
   "execution_count": null,
   "id": "59937d81",
   "metadata": {},
   "outputs": [],
   "source": [
    "np.sum(thermal_energy + kinetic_energy) * unit_velocity ** 2 * unit_mass"
   ]
  },
  {
   "cell_type": "code",
   "execution_count": null,
   "id": "f7683393",
   "metadata": {},
   "outputs": [],
   "source": [
    "10 ** jetpower * get_time_from_snap(snap_data) * unit_time"
   ]
  },
  {
   "cell_type": "code",
   "execution_count": null,
   "id": "48b76090",
   "metadata": {},
   "outputs": [],
   "source": [
    "i_file = -1\n",
    "result = []\n",
    "\n",
    "while True:\n",
    "    i_file += 1\n",
    "    filename = \"snap_%03d.hdf5\" % (i_file)\n",
    "    try:\n",
    "        snap_data = h5py.File(output_directory + filename, \"r\")\n",
    "    except:\n",
    "        break\n",
    "    time = get_time_from_snap(snap_data)\n",
    "    \n",
    "    thermal_energy = snap_data['PartType0/InternalEnergy'][:] * snap_data['PartType0/Masses'][:] * snap_data['PartType0/Jet_Tracer'][:]\n",
    "    velocity = np.sqrt(snap_data['PartType0/Velocities'][:][:,0] ** 2 +\n",
    "                       snap_data['PartType0/Velocities'][:][:,1] ** 2 +\n",
    "                       snap_data['PartType0/Velocities'][:][:,2] ** 2)\n",
    "    kinetic_energy = velocity ** 2 * snap_data['PartType0/Masses'][:] * snap_data['PartType0/Jet_Tracer'][:] / 2\n",
    "    result.append([get_time_from_snap(snap_data) * unit_time_in_megayr,\n",
    "                   np.sum(thermal_energy) * unit_velocity ** 2 * unit_mass,\n",
    "                   np.sum(kinetic_energy) * unit_velocity ** 2 * unit_mass,\n",
    "                   10 ** jetpower * get_time_from_snap(snap_data) * unit_time])"
   ]
  },
  {
   "cell_type": "code",
   "execution_count": null,
   "id": "db8e0673",
   "metadata": {},
   "outputs": [],
   "source": [
    "result = np.array(result).T"
   ]
  },
  {
   "cell_type": "code",
   "execution_count": null,
   "id": "92f2fb5e",
   "metadata": {},
   "outputs": [],
   "source": [
    "plt.plot(result[0], result[1], label='internal energy')\n",
    "plt.plot(result[0], result[2], label='kinetic energy')\n",
    "plt.plot(result[0], result[1] + result[2], label='total energy')\n",
    "plt.plot(result[0], result[3], label='input energy')\n",
    "plt.yscale('log')\n",
    "plt.legend()\n",
    "plt.ylim(1e48, 1e57)\n",
    "plt.xlabel('t [Myr]')\n",
    "plt.ylabel('energy [erg]')"
   ]
  },
  {
   "cell_type": "code",
   "execution_count": null,
   "id": "3ac8ccde",
   "metadata": {},
   "outputs": [],
   "source": [
    "snap_data['PartType0/Jet_Tracer'][:][snap_data['PartType0/Jet_Tracer'][:] < 0]"
   ]
  },
  {
   "cell_type": "code",
   "execution_count": null,
   "id": "04087b6a",
   "metadata": {},
   "outputs": [],
   "source": []
  }
 ],
 "metadata": {
  "kernelspec": {
   "display_name": "Python 3",
   "language": "python",
   "name": "python3"
  },
  "language_info": {
   "codemirror_mode": {
    "name": "ipython",
    "version": 3
   },
   "file_extension": ".py",
   "mimetype": "text/x-python",
   "name": "python",
   "nbconvert_exporter": "python",
   "pygments_lexer": "ipython3",
   "version": "3.6.8"
  }
 },
 "nbformat": 4,
 "nbformat_minor": 5
}
