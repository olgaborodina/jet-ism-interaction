{
 "cells": [
  {
   "cell_type": "code",
   "execution_count": null,
   "id": "baca3e87",
   "metadata": {},
   "outputs": [],
   "source": [
    "from postprocessing import *\n",
    "import scipy as scp"
   ]
  },
  {
   "cell_type": "code",
   "execution_count": null,
   "id": "bdd4f0c0",
   "metadata": {},
   "outputs": [],
   "source": [
    "mpl.rcParams['figure.dpi']= 200"
   ]
  },
  {
   "cell_type": "code",
   "execution_count": null,
   "id": "9fea9feb",
   "metadata": {},
   "outputs": [],
   "source": [
    "density = 20\n",
    "mach = 8\n",
    "jetpower = 38\n",
    "start = '15'"
   ]
  },
  {
   "cell_type": "code",
   "execution_count": null,
   "id": "fe92d6b9",
   "metadata": {},
   "outputs": [],
   "source": [
    "simulation_directory = str(f'/n/holylfs05/LABS/hernquist_lab/Users/borodina/2kpc/turb_jet_d{density}_m{mach}/jet{jetpower}_{start}')\n",
    "output_directory = simulation_directory + \"/output/\"\n",
    "figures_directory = simulation_directory + \"/output/figures/\"\n",
    "\n",
    "# simulation_directory = str(f'/n/holystore01/LABS/hernquist_lab/Users/borodina/2kpc/turb_drive_center_d{density}_m{mach}/turb/')\n",
    "# output_directory = simulation_directory + \"/output/\"\n",
    "# figures_directory = simulation_directory + \"/output/figures/\""
   ]
  },
  {
   "cell_type": "code",
   "execution_count": null,
   "id": "07ee3d27",
   "metadata": {},
   "outputs": [],
   "source": [
    "i_file = 1\n",
    "filename = \"snap_%03d.hdf5\" % (i_file)\n",
    "snapshot = h5py.File(output_directory +  \"snap_%03d.hdf5\" % (i_file),'r')\n",
    "\n",
    "time_1 = get_time_from_snap(snapshot) * unit_time_in_megayr\n",
    "masses_1 = snapshot['PartType0/Masses'][:]\n",
    "temperatures_1 = get_temp(output_directory + filename, 5/3)\n",
    "densities_1 = snapshot['PartType0/Density'][:] * rho_to_numdensity\n",
    "\n",
    "\n",
    "i_file = 8\n",
    "filename = \"snap_%03d.hdf5\" % (i_file)\n",
    "snapshot = h5py.File(output_directory +  \"snap_%03d.hdf5\" % (i_file),'r')\n",
    "\n",
    "time_12 = get_time_from_snap(snapshot) * unit_time_in_megayr\n",
    "masses_12 = snapshot['PartType0/Masses'][:]\n",
    "temperatures_12 = get_temp(output_directory + filename, 5/3)\n",
    "densities_12 = snapshot['PartType0/Density'][:] * rho_to_numdensity\n",
    "\n",
    "\n",
    "i_file = 22\n",
    "filename = \"snap_%03d.hdf5\" % (i_file)\n",
    "snapshot = h5py.File(output_directory +  \"snap_%03d.hdf5\" % (i_file),'r')\n",
    "\n",
    "time_22 = get_time_from_snap(snapshot) * unit_time_in_megayr\n",
    "masses_22 = snapshot['PartType0/Masses'][:]\n",
    "temperatures_22 = get_temp(output_directory + filename, 5/3)\n",
    "densities_22 = snapshot['PartType0/Density'][:] * rho_to_numdensity"
   ]
  },
  {
   "cell_type": "code",
   "execution_count": null,
   "id": "d3cf87cb",
   "metadata": {},
   "outputs": [],
   "source": [
    "entropy_1 =  temperatures_1 * densities_1 ** (-2/3) * masses_1 \n",
    "entropy_12 =  temperatures_12 * densities_12 ** (-2/3) * masses_12 \n",
    "entropy_22 =  temperatures_22 * densities_22 ** (-2/3) * masses_22 "
   ]
  },
  {
   "cell_type": "code",
   "execution_count": null,
   "id": "82a5af89",
   "metadata": {},
   "outputs": [],
   "source": [
    "bins=np.linspace(2, 10,101)"
   ]
  },
  {
   "cell_type": "code",
   "execution_count": null,
   "id": "ad054b42",
   "metadata": {},
   "outputs": [],
   "source": [
    "fig, ax = plt.subplots(figsize=(6, 4))\n",
    "plt.hist(np.log10(entropy_1), bins=bins, alpha=0.7, label=f\"t = {np.round(time_1,2)} Myr\")\n",
    "plt.hist(np.log10(entropy_12), bins=bins, alpha=0.7, label=f\"t = {np.round(time_12,2)} Myr\")\n",
    "plt.hist(np.log10(entropy_22), bins=bins, alpha=0.7, label=f\"t = {np.round(time_22,2)} Myr\")\n",
    "plt.yscale('log')\n",
    "plt.xlabel('log S')\n",
    "plt.legend()"
   ]
  },
  {
   "cell_type": "code",
   "execution_count": null,
   "id": "b2ff46fb",
   "metadata": {},
   "outputs": [],
   "source": []
  }
 ],
 "metadata": {
  "kernelspec": {
   "display_name": "Python 3 (ipykernel)",
   "language": "python",
   "name": "python3"
  },
  "language_info": {
   "codemirror_mode": {
    "name": "ipython",
    "version": 3
   },
   "file_extension": ".py",
   "mimetype": "text/x-python",
   "name": "python",
   "nbconvert_exporter": "python",
   "pygments_lexer": "ipython3",
   "version": "3.6.8"
  }
 },
 "nbformat": 4,
 "nbformat_minor": 5
}
