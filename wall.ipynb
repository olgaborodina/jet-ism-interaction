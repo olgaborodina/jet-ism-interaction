{
 "cells": [
  {
   "cell_type": "code",
   "execution_count": null,
   "id": "40a714f7",
   "metadata": {},
   "outputs": [],
   "source": [
    "from postprocessing import *\n",
    "import scipy as scp\n",
    "from scipy import stats\n",
    "from natsort import natsorted\n",
    "import glob\n",
    "import os"
   ]
  },
  {
   "cell_type": "code",
   "execution_count": null,
   "id": "9cb89601",
   "metadata": {},
   "outputs": [],
   "source": [
    "mpl.rcParams['figure.dpi']= 200"
   ]
  },
  {
   "cell_type": "markdown",
   "id": "29a55c09",
   "metadata": {},
   "source": [
    "### physics approach"
   ]
  },
  {
   "cell_type": "code",
   "execution_count": null,
   "id": "f398b38b",
   "metadata": {},
   "outputs": [],
   "source": [
    "n_w = 10 ** 1.7\n",
    "T_w = 10 ** 3.61\n",
    "\n",
    "n_h = 0.1\n",
    "T_h =  n_w * T_w / n_h"
   ]
  },
  {
   "cell_type": "code",
   "execution_count": null,
   "id": "cf24fd5d",
   "metadata": {},
   "outputs": [],
   "source": [
    "np.round(n_w, -1), np.round(T_w, -2) ### warm phase"
   ]
  },
  {
   "cell_type": "code",
   "execution_count": null,
   "id": "7217390b",
   "metadata": {},
   "outputs": [],
   "source": [
    "np.round(n_h, 2), np.round(T_h, -4) ### hot phase"
   ]
  },
  {
   "cell_type": "code",
   "execution_count": null,
   "id": "bad3a402",
   "metadata": {},
   "outputs": [],
   "source": [
    "x = np.linspace(0, 2000, 2001)\n",
    "pdf = stats.norm.pdf(x, loc=1300, scale=10)\n",
    "n = (pdf / pdf.max()) * n_w + n_h\n",
    "T = n_w * T_w / n"
   ]
  },
  {
   "cell_type": "code",
   "execution_count": null,
   "id": "2800df0e",
   "metadata": {},
   "outputs": [],
   "source": [
    "fig, ax1 = plt.subplots(figsize=(8, 4))\n",
    "ax2 = ax1.twinx()\n",
    "\n",
    "font_1 = {'color':  'blue'}\n",
    "font_2 = {'color':  'red'}\n",
    "\n",
    "ax1.plot(x, n, 'b-', lw=2, alpha=0.6, label='density')\n",
    "ax2.plot(x, T, 'r-', lw=2, alpha=0.6, label='temperature')\n",
    "\n",
    "ax1.set_yscale('log')\n",
    "ax2.set_yscale('log')\n",
    "ax1.set_ylabel('number density', fontdict=font_1)\n",
    "ax2.set_ylabel('temperature', fontdict=font_2)"
   ]
  },
  {
   "cell_type": "markdown",
   "id": "9011dce1",
   "metadata": {},
   "source": [
    "### approach in coding"
   ]
  },
  {
   "cell_type": "code",
   "execution_count": null,
   "id": "69bbbe61",
   "metadata": {},
   "outputs": [],
   "source": [
    "import numpy as np\n",
    "from scipy.stats import norm\n",
    "\n",
    "def generate_gaussian_grid(loc, sigma, num_points, grid_min, grid_max):\n",
    "    # Generate samples from the custom distribution\n",
    "    \n",
    "    u = np.linspace(0, 1, num_points) #np.random.rand(n_samples)\n",
    "    \n",
    "    # Apply the inverse transform\n",
    "    x = norm.ppf(u, loc=loc, scale=sigma)\n",
    "    \n",
    "    return x#positions\n",
    "\n",
    "\n",
    "Ncells = 256\n",
    "BoxSize = 2000\n",
    "NumberOfCells = Ncells ** 3\n",
    "dx = BoxSize / Ncells\n",
    "pos_first, pos_last = 0.5 * dx, BoxSize - 0.5 * dx\n",
    "\n",
    "loc = 1200  # Mean of the Gaussian distribution\n",
    "sigma = 5  # Standard deviation of the Gaussian distribution\n",
    "num_points = 50  # Number of points to generate\n",
    "\n",
    "gaussian_grid = generate_gaussian_grid(loc, sigma, num_points, pos_first, pos_last)\n",
    "uniform_grid  = np.linspace(pos_first, pos_last, Ncells - num_points)\n",
    "\n",
    "Grid1d = np.linspace(pos_first, pos_last, Ncells)\n",
    "Grid1d_gaussian = np.sort(np.append(uniform_grid, gaussian_grid))\n",
    "xx, yy, zz = np.meshgrid(Grid1d_gaussian, Grid1d, Grid1d)\n",
    "Pos = np.zeros([NumberOfCells, 3])\n",
    "Pos[:,0] = xx.reshape(NumberOfCells)\n",
    "Pos[:,1] = yy.reshape(NumberOfCells)\n",
    "Pos[:,2] = zz.reshape(NumberOfCells)\n",
    "# center = np.array([0.5*BoxSize,0.5*BoxSize,0.5*BoxSize])"
   ]
  },
  {
   "cell_type": "code",
   "execution_count": null,
   "id": "17ba61a6",
   "metadata": {},
   "outputs": [],
   "source": [
    "fig, ax = plt.subplots()\n",
    "plt.scatter(Pos[:,0], Pos[:,1], s=0.5)\n",
    "\n",
    "plt.xlim(1100, 1300)\n",
    "plt.ylim(1100, 1300)"
   ]
  },
  {
   "cell_type": "code",
   "execution_count": null,
   "id": "01aeb59b",
   "metadata": {},
   "outputs": [],
   "source": [
    "fig, ax = plt.subplots()\n",
    "ax.scatter(Pos[:,1], Pos[:,2])\n",
    "plt.xlim(1100, 1300)\n",
    "plt.ylim(1100, 1300)"
   ]
  },
  {
   "cell_type": "markdown",
   "id": "9cd3d6f1",
   "metadata": {},
   "source": [
    "### result ...."
   ]
  },
  {
   "cell_type": "code",
   "execution_count": null,
   "id": "be8bc156",
   "metadata": {},
   "outputs": [],
   "source": [
    "density = 10\n",
    "mach = 8\n",
    "jetpower = 38\n",
    "start = 'wall'"
   ]
  },
  {
   "cell_type": "code",
   "execution_count": null,
   "id": "4646d987",
   "metadata": {},
   "outputs": [],
   "source": [
    "simulation_directory = str(f'/n/holylfs05/LABS/hernquist_lab/Users/borodina/2kpc/turb_jet_d{density}_m{mach}/jet{jetpower}_{start}')\n",
    "output_directory = simulation_directory + \"/output/\"\n",
    "figures_directory = simulation_directory + \"/output/figures/\""
   ]
  },
  {
   "cell_type": "code",
   "execution_count": null,
   "id": "2a3ecd6b",
   "metadata": {},
   "outputs": [],
   "source": [
    "filename = \"/IC.hdf5\"\n",
    "IC = h5py.File(simulation_directory +  \"/IC.hdf5\",'r')"
   ]
  },
  {
   "cell_type": "code",
   "execution_count": null,
   "id": "beb4e27a",
   "metadata": {},
   "outputs": [],
   "source": [
    "i_file = 1\n",
    "filename = \"snap_%03d.hdf5\" % (i_file)\n",
    "fig, ax = plt.subplots(figsize=(6,7))\n",
    "plot_dens_vel(ax, output_directory + filename, fac=0.5, t0=0)\n",
    "#plot_pressure(ax, output_directory + \"snap_%03d.hdf5\" % (i_file), fac=0.5, t0=0)\n",
    "#plot_temp_vel(ax, output_directory + \"snap_%03d.hdf5\" % (0 + i_file), fac=0.5, t0=0)"
   ]
  },
  {
   "cell_type": "code",
   "execution_count": null,
   "id": "763952bd",
   "metadata": {},
   "outputs": [],
   "source": [
    "i_file = 0\n",
    "snapshot = h5py.File(output_directory +  \"snap_%03d.hdf5\" % (i_file),'r')"
   ]
  },
  {
   "cell_type": "code",
   "execution_count": null,
   "id": "a2e6ee31",
   "metadata": {},
   "outputs": [],
   "source": [
    "snapshot['PartType0/Density'][:] * rho_to_numdensity"
   ]
  },
  {
   "cell_type": "code",
   "execution_count": null,
   "id": "ab1cac97",
   "metadata": {},
   "outputs": [],
   "source": []
  },
  {
   "cell_type": "code",
   "execution_count": null,
   "id": "83eef2e3",
   "metadata": {},
   "outputs": [],
   "source": [
    "x = IC['PartType0/Coordinates'][:, 0]\n",
    "y = IC['PartType0/Coordinates'][:, 1]\n",
    "z = IC['PartType0/Coordinates'][:, 2]\n",
    "\n",
    "# x = snapshot['PartType0/Coordinates'][:, 0]\n",
    "# y = snapshot['PartType0/Coordinates'][:, 1]\n",
    "# z = snapshot['PartType0/Coordinates'][:, 2]"
   ]
  },
  {
   "cell_type": "code",
   "execution_count": null,
   "id": "68360fd5",
   "metadata": {},
   "outputs": [],
   "source": [
    "dy = np.diff(y)\n",
    "print(dy)"
   ]
  },
  {
   "cell_type": "code",
   "execution_count": null,
   "id": "a28f703f",
   "metadata": {},
   "outputs": [],
   "source": [
    "dy = np.append(dy, dy[-1])"
   ]
  },
  {
   "cell_type": "code",
   "execution_count": null,
   "id": "f57e6368",
   "metadata": {},
   "outputs": [],
   "source": [
    "dy.shape[0] / 256 / 256"
   ]
  },
  {
   "cell_type": "code",
   "execution_count": null,
   "id": "b4856949",
   "metadata": {},
   "outputs": [],
   "source": []
  },
  {
   "cell_type": "code",
   "execution_count": null,
   "id": "32073cd2",
   "metadata": {},
   "outputs": [],
   "source": [
    "data_3d = dy.reshape((256, 256, 256))\n",
    "\n",
    "# Select the slice you want to plot in the x-y projection\n",
    "slice_xy = data_3d[:,150,:]  # Change 100 to the desired z-slice index\n",
    "\n",
    "# Plot the slice using imshow\n",
    "plt.imshow(slice_xy, cmap='viridis')  # You can change the colormap if you prefer\n",
    "plt.colorbar()  # Add a colorbar to indicate values\n",
    "plt.title('Slice in X-Y Projection')\n",
    "plt.xlabel('X')\n",
    "plt.ylabel('Y')\n",
    "plt.show()"
   ]
  },
  {
   "cell_type": "code",
   "execution_count": null,
   "id": "38bbd557",
   "metadata": {},
   "outputs": [],
   "source": [
    "np.unique(np.diff(y))"
   ]
  },
  {
   "cell_type": "code",
   "execution_count": null,
   "id": "c6d1f818",
   "metadata": {},
   "outputs": [],
   "source": [
    "plt.scatter(z, x, s=0.5)\n",
    "plt.xlim(1100, 1300)\n",
    "plt.ylim(1100, 1300)"
   ]
  },
  {
   "cell_type": "code",
   "execution_count": null,
   "id": "693ccbe9",
   "metadata": {},
   "outputs": [],
   "source": [
    "i_file = 0\n",
    "filename = \"snap_%03d.hdf5\" % (i_file)\n",
    "snap_data = h5py.File(output_directory + filename, \"r\")\n",
    "snapshot = h5py.File(output_directory +  \"snap_%03d.hdf5\" % (i_file),'r')"
   ]
  },
  {
   "cell_type": "code",
   "execution_count": null,
   "id": "d8def06d",
   "metadata": {},
   "outputs": [],
   "source": [
    "fig, ax = plt.subplots(figsize=(6,6))\n",
    "time = get_time_from_snap(snapshot)\n",
    "masses = snapshot['PartType0/Masses'][:]\n",
    "densities = snapshot['PartType0/Density'][:] * rho_to_numdensity\n",
    "temperatures = get_temp(output_directory + filename, 5/3)\n",
    "\n",
    "h = ax.hist2d(np.log10(densities), np.log10(temperatures), weights=masses, \n",
    "              bins=100, density=True, norm=mpl.colors.LogNorm(vmin=1e-2, vmax=5e5))\n",
    "# ax.scatter(np.log10(densities), np.log10(temperatures))\n",
    "ax.set_xlabel(r'log $n_H$')\n",
    "ax.set_ylabel('log T')\n",
    "ax.set_title(\"t=%.2f Myr\"%(get_time_from_snap(snap_data) * unit_time_in_megayr))\n",
    "ax.set_xlim(-2, 2)\n",
    "ax.set_ylim(3.2 , 6.5)\n",
    "\n",
    "# ax.axvline(2, c='black')\n",
    "# ax.axhline(3.58, c='black')\n",
    "ax.scatter(1.7, 3.61, c='lightblue', s=9, zorder=100)\n",
    "ax.scatter(-1, 6.31, c='tab:red', s=9, zorder=100)\n",
    "\n",
    "plt.colorbar(h[3], ax=ax)"
   ]
  },
  {
   "cell_type": "markdown",
   "id": "02bdd999",
   "metadata": {},
   "source": [
    "# again trying to code it"
   ]
  },
  {
   "cell_type": "code",
   "execution_count": null,
   "id": "390e7747",
   "metadata": {},
   "outputs": [],
   "source": [
    "Volume_line = dx * dx * np.append(np.diff(Grid1d_gaussian), np.diff(Grid1d_gaussian)[-1])\n",
    "Volume = np.broadcast_to(Volume_line, (len(Volume_line), len(Volume_line), len(Volume_line))).flatten()"
   ]
  },
  {
   "cell_type": "code",
   "execution_count": null,
   "id": "64156f04",
   "metadata": {},
   "outputs": [],
   "source": [
    "import sys\n",
    "import numpy as np\n",
    "import h5py\n",
    "from scipy.stats import norm\n",
    "\n",
    "def generate_gaussian_grid(loc, sigma, num_points, grid_min, grid_max):\n",
    "    # Generate normally distributed points\n",
    "    gaussian_points = np.random.normal(loc=loc, scale=sigma, size=num_points)\n",
    "\n",
    "    # Clip points to ensure they fall within the grid bounds\n",
    "    gaussian_points = np.clip(gaussian_points, grid_min, grid_max)\n",
    "\n",
    "    # Sort the points\n",
    "    gaussian_points.sort()\n",
    "\n",
    "    return gaussian_points\n",
    "\n",
    "#simulation_directory = str(sys.argv[1])\n",
    "simulation_directory = '.'\n",
    "\n",
    "\"\"\" simulation box parameters \"\"\"\n",
    "FloatType = np.float64\n",
    "IntType = np.int32\n",
    "\n",
    "# cgs unit\n",
    "PROTONMASS = FloatType(1.67262178e-24)\n",
    "BOLTZMANN = FloatType(1.38065e-16)\n",
    "GRAVITY = FloatType(6.6738e-8)\n",
    "PC = FloatType(3.085678e+18)\n",
    "MYR = FloatType(3.15576e13)\n",
    "MSOLAR = FloatType(1.989e+33)\n",
    "\n",
    "UnitLength = PC # pc\n",
    "UnitMass = MSOLAR # Msun\n",
    "UnitVelocity = FloatType(1e5) # km/s\n",
    "UnitTime = UnitLength/UnitVelocity\n",
    "UnitDensity = UnitMass / UnitLength / UnitLength / UnitLength\n",
    "mu = np.float64(0.6165)\n",
    "print (\"UnitTime_in_Myr = %.2f\"%(UnitTime/MYR))\n",
    "\n",
    "# simulation set up\n",
    "GAMMA = 5./3.\n",
    "BoxSize = FloatType(2000.0) # in code unit\n",
    "IsoSoundspeed = FloatType(20.0) # in code unit\n",
    "nH_ISM = 10.0 # in cm^-3\n",
    "n_warm = 50   # cm^-3\n",
    "n_hot  = 0.1  # cm^-3\n",
    "T_warm = 4100 # K\n",
    "T_hot  = 2e6  # K\n",
    "\n",
    "RhoAve = nH_ISM*1.4*PROTONMASS/UnitDensity # in code unit\n",
    "RhoHot = n_hot *1.4*PROTONMASS/UnitDensity # in code unit"
   ]
  },
  {
   "cell_type": "code",
   "execution_count": null,
   "id": "57cd23ab",
   "metadata": {},
   "outputs": [],
   "source": [
    "NumSnaps = IntType(600)\n",
    "Ncells = IntType(156) #can do 64 if 128 is too slow\n",
    "Ncells_extra = IntType(20)\n",
    "NumberOfCells = IntType( Ncells * Ncells * (Ncells + Ncells_extra))\n",
    "TimeMax = FloatType(30)#FloatType(1.0*BoxSize/IsoSoundspeed) # in code unit\n",
    "print (\"TimeMax (code unit) = \",TimeMax)\n",
    "\n",
    "#BH parameters\n",
    "BH_Hsml = FloatType(90) # r_jet=30\n",
    "HalfOpeningAngle = FloatType(0)\n",
    "vTargetJet = (BH_Hsml / 10.)**3\n",
    "JetDensity = FloatType(1e-26) # g cm^-3\n",
    "JetDensity_code_units = JetDensity / UnitDensity\n",
    "\n",
    "\"\"\" set up initial conditions \"\"\"\n",
    "dx = BoxSize / FloatType(Ncells)\n",
    "pos_first, pos_last = 0.5 * dx, BoxSize - 0.5 * dx\n",
    "\n",
    "loc = 1500  # Mean of the Gaussian distribution\n",
    "sigma = 5  # Standard deviation of the Gaussian distribution\n",
    "num_points = Ncells_extra  # Number of points to generate\n",
    "\n",
    "gaussian_grid = generate_gaussian_grid(loc, sigma, num_points, pos_first, pos_last)\n",
    "# uniform_grid  = np.linspace(pos_first, pos_last, Ncells - num_points)\n",
    "uniform_grid  = np.linspace(500, 1700, Ncells)\n",
    "\n",
    "Grid1d = np.linspace(pos_first, pos_last, Ncells, dtype=FloatType)\n",
    "Grid1d_gaussian = np.sort(np.append(uniform_grid, gaussian_grid))\n",
    "xx, yy, zz = np.meshgrid(Grid1d_gaussian, Grid1d, Grid1d)\n",
    "Pos = np.zeros([NumberOfCells, 3], dtype=FloatType)\n",
    "Pos[:,0] = xx.reshape(NumberOfCells)\n",
    "Pos[:,1] = yy.reshape(NumberOfCells)\n",
    "Pos[:,2] = zz.reshape(NumberOfCells)\n",
    "center = np.array([0.5*BoxSize,0.5*BoxSize,0.5*BoxSize])"
   ]
  },
  {
   "cell_type": "code",
   "execution_count": null,
   "id": "b5ab2935",
   "metadata": {},
   "outputs": [],
   "source": [
    "Pos.shape"
   ]
  },
  {
   "cell_type": "code",
   "execution_count": null,
   "id": "7bd793e8",
   "metadata": {},
   "outputs": [],
   "source": [
    "cell_volumes_line = dx * dx * np.append(np.diff(Grid1d_gaussian), np.diff(Grid1d_gaussian)[-1])\n",
    "cell_volumes = np.zeros((Ncells, Ncells + Ncells_extra, Ncells), dtype=FloatType)\n",
    "\n",
    "for i in range(Ncells):\n",
    "    for j in range(Ncells):\n",
    "        cell_volumes[i, :, j] = cell_volumes_line\n",
    "        \n",
    "cell_volumes = cell_volumes.reshape(NumberOfCells)"
   ]
  },
  {
   "cell_type": "code",
   "execution_count": null,
   "id": "7e590a46",
   "metadata": {},
   "outputs": [],
   "source": [
    "#cell_volumes = np.zeros(len(Pos))  # Initialize with zeros\n",
    "cell_volumes_line = dx * dx * np.append(np.diff(Grid1d_gaussian), np.diff(Grid1d_gaussian)[-1])\n",
    "#cell_volumes = np.repeat(cell_volumes_line, len(cell_volumes_line) ** 2)\n",
    "cell_volumes = np.broadcast_to(cell_volumes_line, (len(cell_volumes_line), len(cell_volumes_line), len(cell_volumes_line))).flatten()"
   ]
  },
  {
   "cell_type": "code",
   "execution_count": null,
   "id": "efab2527",
   "metadata": {},
   "outputs": [],
   "source": [
    "np.append(np.diff(Grid1d_gaussian), np.diff(Grid1d_gaussian)[-1])[0]"
   ]
  },
  {
   "cell_type": "code",
   "execution_count": null,
   "id": "634a1471",
   "metadata": {},
   "outputs": [],
   "source": [
    "dx"
   ]
  },
  {
   "cell_type": "code",
   "execution_count": null,
   "id": "7b7c62f6",
   "metadata": {},
   "outputs": [],
   "source": [
    "plt.plot(np.unique(Pos[:, 0]), cell_volumes_line)\n",
    "plt.axhline(dx**3)\n",
    "plt.xlim(1450, 1550)"
   ]
  },
  {
   "cell_type": "code",
   "execution_count": null,
   "id": "c4fa786f",
   "metadata": {},
   "outputs": [],
   "source": [
    "fig, ax = plt.subplots(figsize=(6,6))\n",
    "ax.scatter(Pos[:, 0], Pos[:, 1], c=cell_volumes, s=1) #, norm=mpl.colors.LogNorm(vmin=1e-8, vmax=5e1))\n",
    "plt.xlim(1450,1550)\n",
    "plt.ylim(1400,1500)"
   ]
  },
  {
   "cell_type": "code",
   "execution_count": null,
   "id": "4a1ea8dd",
   "metadata": {},
   "outputs": [],
   "source": [
    "plt.hist(cell_volumes, bins=20)"
   ]
  },
  {
   "cell_type": "code",
   "execution_count": null,
   "id": "1f4765e9",
   "metadata": {},
   "outputs": [],
   "source": [
    "!ls {output_directory}"
   ]
  },
  {
   "cell_type": "code",
   "execution_count": null,
   "id": "da616028",
   "metadata": {},
   "outputs": [],
   "source": [
    "i_file = 0#n0_jet # skip snap 0\n",
    "while True:\n",
    "    i_file += 1\n",
    "    filename = \"snap_%03d.hdf5\" % (i_file)\n",
    "    try:\n",
    "        snap_data = h5py.File(output_directory + filename, \"r\")\n",
    "    except:\n",
    "        break\n",
    "    fig, ax = plt.subplots(2, 2, figsize=(8, 6.1))\n",
    "    fig.tight_layout(w_pad=7.0, h_pad=3.0)\n",
    "    plot_dens_vel(ax[0][0], output_directory + \"snap_%03d.hdf5\" % (i_file), fac=0.5, t0=0)\n",
    "    plot_temp_vel(ax[0][1], output_directory + \"snap_%03d.hdf5\" % (i_file), fac=0.5, t0=0)\n",
    "    plot_pressure(ax[1][0], output_directory + \"snap_%03d.hdf5\" % (i_file), fac=0.5, t0=0)\n",
    "    plot_jet_tracer(ax[1][1], output_directory + \"snap_%03d.hdf5\" % (i_file), fac=0.5, t0=0)\n",
    "    \n",
    "    plt.savefig(figures_directory + f'4panels_{i_file}.png', dpi=300, bbox_inches='tight')\n",
    "    plt.close()"
   ]
  },
  {
   "cell_type": "code",
   "execution_count": null,
   "id": "f6a64743",
   "metadata": {},
   "outputs": [],
   "source": [
    "from PIL import Image\n",
    "\n",
    "# make gif\n",
    "#--------------------------\n",
    "def crop_img(im):\n",
    "    width, height = im.size\n",
    "    left = 9\n",
    "    top =  3\n",
    "    right = width - 3\n",
    "    bottom = height - 9\n",
    "    im = im.crop((left, top, right, bottom))\n",
    "    return im\n",
    "\n",
    "ifilename = figures_directory + '/4panels*.png'\n",
    "ofilename = figures_directory + '/4panels-jet.gif'\n",
    "imgs = natsorted(glob.glob(ifilename))\n",
    "\n",
    "timestep=4\n",
    "\n",
    "frames = []\n",
    "for i in imgs:\n",
    "    new_frame = Image.open(i)\n",
    "    frames.append(crop_img(new_frame))\n",
    "\n",
    "frames[0].save(ofilename, format='GIF',\n",
    "               append_images=frames[1:],\n",
    "               save_all=True,\n",
    "               duration=len(imgs) * timestep, loop=0)"
   ]
  }
 ],
 "metadata": {
  "kernelspec": {
   "display_name": "Python 3 (ipykernel)",
   "language": "python",
   "name": "python3"
  },
  "language_info": {
   "codemirror_mode": {
    "name": "ipython",
    "version": 3
   },
   "file_extension": ".py",
   "mimetype": "text/x-python",
   "name": "python",
   "nbconvert_exporter": "python",
   "pygments_lexer": "ipython3",
   "version": "3.6.8"
  }
 },
 "nbformat": 4,
 "nbformat_minor": 5
}
